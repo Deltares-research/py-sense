{
 "cells": [
  {
   "cell_type": "markdown",
   "id": "17f67c94-af7f-41e7-9eea-e849ed46cee3",
   "metadata": {},
   "source": [
    "Install geemap if you do not have it yet"
   ]
  },
  {
   "cell_type": "code",
   "execution_count": null,
   "id": "918dd236-85b4-4ab4-8a85-5f0921a31e76",
   "metadata": {},
   "outputs": [],
   "source": [
    "%pip install \"geemap[all]\""
   ]
  },
  {
   "cell_type": "markdown",
   "id": "37e18e73-e5a2-4af8-b353-2a5106f49859",
   "metadata": {},
   "source": [
    "# Imports"
   ]
  },
  {
   "cell_type": "code",
   "execution_count": null,
   "id": "c4645ed7-3437-4145-92d6-1311dc282964",
   "metadata": {},
   "outputs": [],
   "source": [
    "import ee\n",
    "import geemap"
   ]
  },
  {
   "cell_type": "markdown",
   "id": "2f23fc14-dc26-49b9-9eaa-3eb427e7a814",
   "metadata": {},
   "source": [
    "# Initialize Earthengine"
   ]
  },
  {
   "cell_type": "code",
   "execution_count": null,
   "id": "e776ba41-7aee-4137-8b24-8e460970e18f",
   "metadata": {},
   "outputs": [],
   "source": [
    "ee.Initialize()"
   ]
  },
  {
   "cell_type": "code",
   "execution_count": null,
   "id": "f56cff9c-2ec7-4851-a4ee-0e746f3c4baa",
   "metadata": {},
   "outputs": [],
   "source": [
    "# Earthengine Code"
   ]
  },
  {
   "cell_type": "code",
   "execution_count": null,
   "id": "f80ec950-e0f1-4ad4-bd70-2e9c4f64c7a9",
   "metadata": {},
   "outputs": [],
   "source": [
    "image = ee.Image(\"AHN/AHN2_05M_INT\")"
   ]
  },
  {
   "cell_type": "code",
   "execution_count": null,
   "id": "620e8fde-dad8-469e-8abe-02aba9961cd6",
   "metadata": {},
   "outputs": [],
   "source": [
    "deltares_poly = ee.Feature({\n",
    "      \"type\": \"Feature\",\n",
    "      \"properties\": {},\n",
    "      \"geometry\": {\n",
    "        \"coordinates\": [\n",
    "          [\n",
    "            [\n",
    "              4.376259315561327,\n",
    "              51.98704640909364\n",
    "            ],\n",
    "            [\n",
    "              4.379239772450404,\n",
    "              51.9822473579795\n",
    "            ],\n",
    "            [\n",
    "              4.388037506641638,\n",
    "              51.9840166532542\n",
    "            ],\n",
    "            [\n",
    "              4.384428640168153,\n",
    "              51.98914721434022\n",
    "            ],\n",
    "            [\n",
    "              4.376259315561327,\n",
    "              51.98704640909364\n",
    "            ]\n",
    "          ]\n",
    "        ],\n",
    "        \"type\": \"Polygon\"\n",
    "      }\n",
    "    }\n",
    ")"
   ]
  },
  {
   "cell_type": "code",
   "execution_count": null,
   "id": "9e3d6dea-7176-44bb-9280-a14f9a8bbc8c",
   "metadata": {},
   "outputs": [],
   "source": [
    "min_altitude = ee.Number(image.reduceRegion(ee.Reducer.min(), deltares_poly.geometry()).get(\"elevation\"))\n",
    "max_altitude = ee.Number(image.reduceRegion(ee.Reducer.max(), deltares_poly.geometry()).get(\"elevation\"))"
   ]
  },
  {
   "cell_type": "code",
   "execution_count": null,
   "id": "79edd632-5715-4b7e-961d-331828a50c8f",
   "metadata": {},
   "outputs": [],
   "source": [
    "# create geemap\n",
    "Map = geemap.Map()\n",
    "# It then has the same syntax as the earthengine Map api\n",
    "Map.addLayer(image, {\"palette\": \"cyan\", \"min\": min_altitude, \"max\": max_altitude}, \"AHN\")\n",
    "Map.addLayer(deltares_poly, {\"alpha\": 0.4}, \"delft\")\n",
    "Map.centerObject(deltares_poly, 14)\n",
    "Map  # display the map inline"
   ]
  }
 ],
 "metadata": {
  "kernelspec": {
   "display_name": "Python [conda env:pysense]",
   "language": "python",
   "name": "conda-env-pysense-py"
  },
  "language_info": {
   "codemirror_mode": {
    "name": "ipython",
    "version": 3
   },
   "file_extension": ".py",
   "mimetype": "text/x-python",
   "name": "python",
   "nbconvert_exporter": "python",
   "pygments_lexer": "ipython3",
   "version": "3.11.4"
  }
 },
 "nbformat": 4,
 "nbformat_minor": 5
}
