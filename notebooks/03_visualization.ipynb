{
 "cells": [
  {
   "cell_type": "markdown",
   "id": "111350f9-3566-4b3a-8462-4af6c26607a2",
   "metadata": {},
   "source": [
    "# Visualization"
   ]
  },
  {
   "cell_type": "markdown",
   "id": "6b9c0e34-637d-4233-99c1-db6eae7fa624",
   "metadata": {},
   "source": [
    "It this notebook, the holoviz ecosystem of visualization tools is explored. All these packages are quite high level and often depend on other packages. Most of the packages in this ecosystem depend on Holoviz, which we will explore first."
   ]
  },
  {
   "cell_type": "code",
   "execution_count": null,
   "id": "8bd2b1ea-e032-42ad-b2ea-3bee764b47ca",
   "metadata": {
    "execution": {
     "iopub.execute_input": "2023-06-22T09:28:58.690058Z",
     "iopub.status.busy": "2023-06-22T09:28:58.689563Z",
     "iopub.status.idle": "2023-06-22T09:29:01.309095Z",
     "shell.execute_reply": "2023-06-22T09:29:01.307302Z",
     "shell.execute_reply.started": "2023-06-22T09:28:58.690022Z"
    },
    "tags": []
   },
   "outputs": [],
   "source": [
    "import holoviews as hv\n",
    "hv.extension('bokeh')"
   ]
  },
  {
   "cell_type": "code",
   "execution_count": null,
   "id": "66003480-a5b6-4a48-9174-43f446644563",
   "metadata": {
    "execution": {
     "iopub.execute_input": "2023-06-22T09:29:01.311164Z",
     "iopub.status.busy": "2023-06-22T09:29:01.310590Z",
     "iopub.status.idle": "2023-06-22T09:29:01.317245Z",
     "shell.execute_reply": "2023-06-22T09:29:01.315664Z",
     "shell.execute_reply.started": "2023-06-22T09:29:01.311129Z"
    },
    "tags": []
   },
   "outputs": [],
   "source": [
    "# Example data\n",
    "xs = range(-10,11)\n",
    "ys = [100-x**2 for x in xs]"
   ]
  },
  {
   "cell_type": "code",
   "execution_count": null,
   "id": "84fc1f67-e632-4822-963a-9b23c13e2c13",
   "metadata": {
    "execution": {
     "iopub.execute_input": "2023-06-22T09:29:01.320129Z",
     "iopub.status.busy": "2023-06-22T09:29:01.319200Z",
     "iopub.status.idle": "2023-06-22T09:29:01.553540Z",
     "shell.execute_reply": "2023-06-22T09:29:01.551824Z",
     "shell.execute_reply.started": "2023-06-22T09:29:01.320076Z"
    },
    "tags": []
   },
   "outputs": [],
   "source": [
    "wo_unit = hv.Curve((xs, ys), \n",
    "                   ('distance','Horizontal distance'), \n",
    "                   ('height','Height above sea level'))\n",
    "\n",
    "distance = hv.Dimension('distance', label='Horizontal distance', unit='m')\n",
    "height = hv.Dimension(('height','Height above sea level'), unit='m')\n",
    "with_unit = hv.Curve((xs, ys), distance, height)\n",
    "\n",
    "# (using + to compose elements is described in the next guide)\n",
    "wo_unit + with_unit"
   ]
  },
  {
   "cell_type": "markdown",
   "id": "96821f92-42c7-4054-a658-114c9990dc00",
   "metadata": {},
   "source": [
    "## Dimensioned Containers\n",
    "\n",
    "`HoloMap` is excuted eagerly and can be exported to HTML!"
   ]
  },
  {
   "cell_type": "code",
   "execution_count": null,
   "id": "a62e4ec1-361b-4e8b-bd49-3c68074d22ca",
   "metadata": {
    "execution": {
     "iopub.execute_input": "2023-06-22T09:30:24.242295Z",
     "iopub.status.busy": "2023-06-22T09:30:24.241912Z",
     "iopub.status.idle": "2023-06-22T09:30:24.381426Z",
     "shell.execute_reply": "2023-06-22T09:30:24.378856Z",
     "shell.execute_reply.started": "2023-06-22T09:30:24.242270Z"
    },
    "tags": []
   },
   "outputs": [],
   "source": [
    "import numpy as np\n",
    "\n",
    "from holoviews import opts\n",
    "\n",
    "hv.extension('bokeh')\n",
    "\n",
    "opts.defaults(opts.Curve(line_width=1))"
   ]
  },
  {
   "cell_type": "code",
   "execution_count": null,
   "id": "45696cc6-3690-456c-a3de-de8dfd326e94",
   "metadata": {
    "execution": {
     "iopub.execute_input": "2023-06-22T09:30:25.491837Z",
     "iopub.status.busy": "2023-06-22T09:30:25.491531Z",
     "iopub.status.idle": "2023-06-22T09:30:26.376705Z",
     "shell.execute_reply": "2023-06-22T09:30:26.375633Z",
     "shell.execute_reply.started": "2023-06-22T09:30:25.491814Z"
    },
    "tags": []
   },
   "outputs": [],
   "source": [
    "def fm_modulation(f_carrier=220, f_mod=220, mod_index=1, length=0.1, sampleRate=2000):\n",
    "    sampleInc = 1.0/sampleRate\n",
    "    x = np.arange(0,length, sampleInc)\n",
    "    y = np.sin(2*np.pi*f_carrier*x + mod_index*np.sin(2*np.pi*f_mod*x))\n",
    "    return hv.Curve((x, y), 'Time', 'Amplitude')\n",
    "\n",
    "f_carrier = np.linspace(20, 60, 3)\n",
    "f_mod = np.linspace(20, 100, 5)\n",
    "\n",
    "curve_dict = {(fc, fm): fm_modulation(fc, fm) for fc in f_carrier for fm in f_mod}\n",
    "\n",
    "kdims = [hv.Dimension(('f_carrier', 'Carrier frequency'), default=40),\n",
    "         hv.Dimension(('f_mod', 'Modulation frequency'), default=60)]\n",
    "holomap = hv.HoloMap(curve_dict, kdims=kdims)\n",
    "holomap.opts(opts.Curve(width=600))"
   ]
  },
  {
   "cell_type": "markdown",
   "id": "3746c74f-64ac-493c-a40b-57ebd16b6428",
   "metadata": {},
   "source": [
    "For less interactive, more overlay styles, the following can collapse a `HoloMap`\n",
    "\n",
    "`NdOverlay` - An n-dimensional container which overlays the elements\n",
    "\n",
    "`NdLayout` - An n-dimensional container which displays the data in separate plot axes and adds titles for each value\n",
    "\n",
    "`GridSpace` - A 1D or 2D container which lays out up to two dimensions on a grid."
   ]
  },
  {
   "cell_type": "code",
   "execution_count": null,
   "id": "491fb93a-2a8e-45e1-89e8-af1a259cbdf8",
   "metadata": {
    "execution": {
     "iopub.execute_input": "2023-06-22T09:30:27.909374Z",
     "iopub.status.busy": "2023-06-22T09:30:27.908121Z",
     "iopub.status.idle": "2023-06-22T09:30:29.458814Z",
     "shell.execute_reply": "2023-06-22T09:30:29.457717Z",
     "shell.execute_reply.started": "2023-06-22T09:30:27.909329Z"
    },
    "tags": []
   },
   "outputs": [],
   "source": [
    "grid = hv.GridSpace(holomap)\n",
    "grid.opts(\n",
    "    opts.GridSpace(plot_size=75),\n",
    "    opts.Curve(width=100))"
   ]
  },
  {
   "cell_type": "markdown",
   "id": "ec299514-00c7-472d-b541-24ef54e87618",
   "metadata": {},
   "source": [
    "## Dynamic Data\n",
    "For lazy execution, we can use `DynamicMap`"
   ]
  },
  {
   "cell_type": "code",
   "execution_count": null,
   "id": "a43cef8a-4359-4bc7-b2b7-80cd3346053b",
   "metadata": {
    "execution": {
     "iopub.execute_input": "2023-06-22T09:30:31.281649Z",
     "iopub.status.busy": "2023-06-22T09:30:31.281359Z",
     "iopub.status.idle": "2023-06-22T09:30:31.336329Z",
     "shell.execute_reply": "2023-06-22T09:30:31.334629Z",
     "shell.execute_reply.started": "2023-06-22T09:30:31.281626Z"
    },
    "tags": []
   },
   "outputs": [],
   "source": [
    "hv.extension('matplotlib')"
   ]
  },
  {
   "cell_type": "code",
   "execution_count": null,
   "id": "6685c62e-7d0d-4895-90c8-16e29987fa2c",
   "metadata": {
    "execution": {
     "iopub.execute_input": "2023-06-22T09:30:32.274284Z",
     "iopub.status.busy": "2023-06-22T09:30:32.273978Z",
     "iopub.status.idle": "2023-06-22T09:30:33.384378Z",
     "shell.execute_reply": "2023-06-22T09:30:33.380678Z",
     "shell.execute_reply.started": "2023-06-22T09:30:32.274261Z"
    },
    "tags": []
   },
   "outputs": [],
   "source": [
    "xvals  = np.linspace(-4, 0, 202)\n",
    "yvals  = np.linspace(4, 0, 202)\n",
    "xs, ys = np.meshgrid(xvals, yvals)\n",
    "\n",
    "def waves_image(alpha, beta):\n",
    "    return hv.Image(np.sin(((ys/alpha)**alpha+beta)*xs))\n",
    "\n",
    "waves_image(1,0) + waves_image(1,4)"
   ]
  },
  {
   "cell_type": "code",
   "execution_count": null,
   "id": "89cdb7e5-eb1b-44a2-85e2-8c4ba8fe90aa",
   "metadata": {
    "execution": {
     "iopub.execute_input": "2023-06-22T09:30:34.220984Z",
     "iopub.status.busy": "2023-06-22T09:30:34.220644Z",
     "iopub.status.idle": "2023-06-22T09:30:34.231159Z",
     "shell.execute_reply": "2023-06-22T09:30:34.230199Z",
     "shell.execute_reply.started": "2023-06-22T09:30:34.220937Z"
    },
    "tags": []
   },
   "outputs": [],
   "source": [
    "dmap = hv.DynamicMap(waves_image, kdims=['alpha', 'beta'])\n",
    "dmap"
   ]
  },
  {
   "cell_type": "markdown",
   "id": "06d6e718-0860-48be-9c51-38be51c57243",
   "metadata": {},
   "source": [
    "range is a built in method, you can also use dymension objects with range"
   ]
  },
  {
   "cell_type": "code",
   "execution_count": null,
   "id": "0f0a565f-a16c-4ee9-acab-47e837f3f200",
   "metadata": {
    "execution": {
     "iopub.execute_input": "2023-06-22T09:30:35.837720Z",
     "iopub.status.busy": "2023-06-22T09:30:35.837375Z",
     "iopub.status.idle": "2023-06-22T09:30:36.517107Z",
     "shell.execute_reply": "2023-06-22T09:30:36.516062Z",
     "shell.execute_reply.started": "2023-06-22T09:30:35.837697Z"
    },
    "tags": []
   },
   "outputs": [],
   "source": [
    "dmap.redim.range(alpha=(1, 5.0), beta=(1, 6.0))"
   ]
  },
  {
   "cell_type": "markdown",
   "id": "86a01907-60fc-4268-a550-2c12d5184c27",
   "metadata": {},
   "source": [
    "## Geometry data\n",
    "\n",
    "The holoviz ecosystem contains multiple software packages. To do projections, holoviews is extended using `geoviews`."
   ]
  },
  {
   "cell_type": "code",
   "execution_count": null,
   "id": "022ea938-6168-4044-a4b3-7f02a54870b5",
   "metadata": {
    "execution": {
     "iopub.execute_input": "2023-06-22T09:30:38.022753Z",
     "iopub.status.busy": "2023-06-22T09:30:38.021640Z",
     "iopub.status.idle": "2023-06-22T09:30:38.133802Z",
     "shell.execute_reply": "2023-06-22T09:30:38.132192Z",
     "shell.execute_reply.started": "2023-06-22T09:30:38.022706Z"
    },
    "tags": []
   },
   "outputs": [],
   "source": [
    "import xarray as xr\n",
    "import geoviews as gv\n",
    "import geoviews.feature as gf\n",
    "\n",
    "from cartopy import crs\n",
    "from geoviews import opts\n",
    "\n",
    "gv.extension('matplotlib')\n",
    "\n",
    "gv.output(size=150)"
   ]
  },
  {
   "cell_type": "code",
   "execution_count": null,
   "id": "89f5ce85-cda0-446a-b7f5-9de3c06d1dc4",
   "metadata": {
    "execution": {
     "iopub.execute_input": "2023-06-22T09:30:39.359860Z",
     "iopub.status.busy": "2023-06-22T09:30:39.359515Z",
     "iopub.status.idle": "2023-06-22T09:30:47.812406Z",
     "shell.execute_reply": "2023-06-22T09:30:47.807664Z",
     "shell.execute_reply.started": "2023-06-22T09:30:39.359836Z"
    },
    "tags": []
   },
   "outputs": [],
   "source": [
    "!curl -L http://assets.holoviews.org/geoviews-sample-data.zip -o ./data.zip"
   ]
  },
  {
   "cell_type": "code",
   "execution_count": null,
   "id": "ad3f7e26-5d48-4107-af5e-a78700c0aeae",
   "metadata": {
    "execution": {
     "iopub.execute_input": "2023-06-22T09:30:48.851660Z",
     "iopub.status.busy": "2023-06-22T09:30:48.851280Z",
     "iopub.status.idle": "2023-06-22T09:30:49.179903Z",
     "shell.execute_reply": "2023-06-22T09:30:49.175640Z",
     "shell.execute_reply.started": "2023-06-22T09:30:48.851588Z"
    },
    "tags": []
   },
   "outputs": [],
   "source": [
    "!unzip -o data.zip -d data"
   ]
  },
  {
   "cell_type": "code",
   "execution_count": null,
   "id": "0968e569-3dfe-428e-9121-a7be177e2e11",
   "metadata": {
    "execution": {
     "iopub.execute_input": "2023-06-22T09:30:50.900580Z",
     "iopub.status.busy": "2023-06-22T09:30:50.900119Z",
     "iopub.status.idle": "2023-06-22T09:30:52.646078Z",
     "shell.execute_reply": "2023-06-22T09:30:52.643593Z",
     "shell.execute_reply.started": "2023-06-22T09:30:50.900543Z"
    },
    "tags": []
   },
   "outputs": [],
   "source": [
    "xr_ensemble = xr.open_dataset('data/ensemble.nc').load()\n",
    "xr_ensemble"
   ]
  },
  {
   "cell_type": "markdown",
   "id": "584ba489-a301-47e5-bc71-65625700ab8e",
   "metadata": {},
   "source": [
    "create geoviews dataset"
   ]
  },
  {
   "cell_type": "code",
   "execution_count": null,
   "id": "f5eb275c-b872-4634-8e55-36572f5b2dbd",
   "metadata": {
    "execution": {
     "iopub.execute_input": "2023-06-22T09:30:54.709469Z",
     "iopub.status.busy": "2023-06-22T09:30:54.709112Z",
     "iopub.status.idle": "2023-06-22T09:30:54.718118Z",
     "shell.execute_reply": "2023-06-22T09:30:54.716953Z",
     "shell.execute_reply.started": "2023-06-22T09:30:54.709445Z"
    },
    "tags": []
   },
   "outputs": [],
   "source": [
    "kdims = ['time', 'longitude', 'latitude']\n",
    "vdims = ['surface_temperature']\n",
    "\n",
    "xr_dataset = gv.Dataset(xr_ensemble, kdims=kdims, vdims=vdims)"
   ]
  },
  {
   "cell_type": "code",
   "execution_count": null,
   "id": "54e1cb19-4c3f-4b6c-a893-3b5e2ec5077d",
   "metadata": {
    "execution": {
     "iopub.execute_input": "2023-06-22T09:30:56.273679Z",
     "iopub.status.busy": "2023-06-22T09:30:56.273303Z",
     "iopub.status.idle": "2023-06-22T09:31:05.522599Z",
     "shell.execute_reply": "2023-06-22T09:31:05.521449Z",
     "shell.execute_reply.started": "2023-06-22T09:30:56.273647Z"
    },
    "tags": []
   },
   "outputs": [],
   "source": [
    "xr_dataset.to(gv.Image, ['longitude', 'latitude'])"
   ]
  },
  {
   "cell_type": "markdown",
   "id": "a32a62dd-5a2f-4ec9-8587-cbf9a9b28591",
   "metadata": {},
   "source": [
    "We can also change projection using cartopy"
   ]
  },
  {
   "cell_type": "code",
   "execution_count": null,
   "id": "cc6c7262-a46e-46ac-87a2-15f8ce46d606",
   "metadata": {
    "execution": {
     "iopub.execute_input": "2023-06-22T09:31:19.526352Z",
     "iopub.status.busy": "2023-06-22T09:31:19.525566Z",
     "iopub.status.idle": "2023-06-22T09:31:30.567598Z",
     "shell.execute_reply": "2023-06-22T09:31:30.566303Z",
     "shell.execute_reply.started": "2023-06-22T09:31:19.526319Z"
    },
    "tags": []
   },
   "outputs": [],
   "source": [
    "(xr_dataset.to.image(['longitude', 'latitude']) * gf.coastline).opts(\n",
    "    opts.Image(projection=crs.Geostationary(), cmap='Greens', xaxis=None, yaxis=None))"
   ]
  },
  {
   "cell_type": "markdown",
   "id": "881e863d-190c-4715-af61-b94b95e45822",
   "metadata": {},
   "source": [
    "## Panel\n",
    "Panel uses these and other components together with a library called [param](https://param.holoviz.org/) to create dashboard and interactive components."
   ]
  },
  {
   "cell_type": "code",
   "execution_count": null,
   "id": "97a015bc-4fa4-472c-a028-851646579890",
   "metadata": {
    "execution": {
     "iopub.execute_input": "2023-06-22T12:10:01.035877Z",
     "iopub.status.busy": "2023-06-22T12:10:01.035579Z",
     "iopub.status.idle": "2023-06-22T12:10:01.109138Z",
     "shell.execute_reply": "2023-06-22T12:10:01.107813Z",
     "shell.execute_reply.started": "2023-06-22T12:10:01.035854Z"
    },
    "tags": []
   },
   "outputs": [],
   "source": [
    "import panel as pn\n",
    "import hvplot.pandas\n",
    "import pandas as pd\n",
    "import numpy as np\n",
    "\n",
    "hv.extension('bokeh')"
   ]
  },
  {
   "cell_type": "code",
   "execution_count": null,
   "id": "f5511cc2-8a92-492d-8e5d-5e3275824628",
   "metadata": {
    "execution": {
     "iopub.execute_input": "2023-06-22T12:10:01.849680Z",
     "iopub.status.busy": "2023-06-22T12:10:01.848448Z",
     "iopub.status.idle": "2023-06-22T12:10:03.201248Z",
     "shell.execute_reply": "2023-06-22T12:10:03.200341Z",
     "shell.execute_reply.started": "2023-06-22T12:10:01.849656Z"
    },
    "tags": []
   },
   "outputs": [],
   "source": [
    "pn.extension(design='material')\n",
    "\n",
    "csv_file = (\"https://raw.githubusercontent.com/holoviz/panel/main/examples/assets/occupancy.csv\")\n",
    "data = pd.read_csv(csv_file, parse_dates=[\"date\"], index_col=\"date\")\n",
    "\n",
    "data.tail()"
   ]
  },
  {
   "cell_type": "code",
   "execution_count": null,
   "id": "907ab16b-6a28-4f74-99cf-67b28eeac96f",
   "metadata": {
    "execution": {
     "iopub.execute_input": "2023-06-22T12:10:03.741288Z",
     "iopub.status.busy": "2023-06-22T12:10:03.741012Z",
     "iopub.status.idle": "2023-06-22T12:10:03.747231Z",
     "shell.execute_reply": "2023-06-22T12:10:03.746191Z",
     "shell.execute_reply.started": "2023-06-22T12:10:03.741270Z"
    },
    "tags": []
   },
   "outputs": [],
   "source": [
    "def view_hvplot(avg, highlight):\n",
    "    return avg.hvplot(height=600, width=800, legend=False) * highlight.hvplot.scatter(\n",
    "        color=\"orange\", padding=0.1, legend=False\n",
    "    )\n",
    "\n",
    "def find_outliers(variable=\"Temperature\", window=30, sigma=10, view_fn=view_hvplot):\n",
    "    avg = data[variable].rolling(window=window).mean()\n",
    "    residual = data[variable] - avg\n",
    "    std = residual.rolling(window=window).std()\n",
    "    outliers = np.abs(residual) > std * sigma\n",
    "    return view_fn(avg, avg[outliers])"
   ]
  },
  {
   "cell_type": "code",
   "execution_count": null,
   "id": "f600074f-4654-42df-90c9-ab05967426af",
   "metadata": {
    "execution": {
     "iopub.execute_input": "2023-06-22T12:10:04.447373Z",
     "iopub.status.busy": "2023-06-22T12:10:04.447113Z",
     "iopub.status.idle": "2023-06-22T12:10:04.604333Z",
     "shell.execute_reply": "2023-06-22T12:10:04.603172Z",
     "shell.execute_reply.started": "2023-06-22T12:10:04.447354Z"
    },
    "tags": []
   },
   "outputs": [],
   "source": [
    "find_outliers(variable='Temperature', window=20, sigma=10)"
   ]
  },
  {
   "cell_type": "code",
   "execution_count": null,
   "id": "76b2ef6f-3ebc-444f-b4c2-3ae3414737d1",
   "metadata": {
    "execution": {
     "iopub.execute_input": "2023-06-22T12:10:05.472173Z",
     "iopub.status.busy": "2023-06-22T12:10:05.471073Z",
     "iopub.status.idle": "2023-06-22T12:10:05.478289Z",
     "shell.execute_reply": "2023-06-22T12:10:05.477282Z",
     "shell.execute_reply.started": "2023-06-22T12:10:05.472109Z"
    },
    "tags": []
   },
   "outputs": [],
   "source": [
    "variable_widget = pn.widgets.Select(name=\"variable\", value=\"Temperature\", options=list(data.columns))\n",
    "window_widget = pn.widgets.IntSlider(name=\"window\", value=30, start=1, end=60)\n",
    "sigma_widget = pn.widgets.IntSlider(name=\"sigma\", value=10, start=0, end=20)"
   ]
  },
  {
   "cell_type": "code",
   "execution_count": null,
   "id": "d7e2fda2-fd68-487d-baf1-457fbcdfcb10",
   "metadata": {
    "execution": {
     "iopub.execute_input": "2023-06-22T12:10:06.950185Z",
     "iopub.status.busy": "2023-06-22T12:10:06.949936Z",
     "iopub.status.idle": "2023-06-22T12:10:06.955583Z",
     "shell.execute_reply": "2023-06-22T12:10:06.954557Z",
     "shell.execute_reply.started": "2023-06-22T12:10:06.950166Z"
    },
    "tags": []
   },
   "outputs": [],
   "source": [
    "bound_plot = pn.bind(find_outliers, variable=variable_widget, window=window_widget, sigma=sigma_widget)"
   ]
  },
  {
   "cell_type": "code",
   "execution_count": null,
   "id": "016c9450-ce00-4d18-8d3d-845825eeec8f",
   "metadata": {
    "execution": {
     "iopub.execute_input": "2023-06-22T12:10:07.853008Z",
     "iopub.status.busy": "2023-06-22T12:10:07.852694Z",
     "iopub.status.idle": "2023-06-22T12:10:08.046002Z",
     "shell.execute_reply": "2023-06-22T12:10:08.044827Z",
     "shell.execute_reply.started": "2023-06-22T12:10:07.852987Z"
    },
    "tags": []
   },
   "outputs": [],
   "source": [
    "first_app = pn.Column(variable_widget, window_widget, sigma_widget, bound_plot)\n",
    "\n",
    "first_app"
   ]
  },
  {
   "cell_type": "code",
   "execution_count": null,
   "id": "c980ef01-f9a1-4795-aeac-5c3b34a849f3",
   "metadata": {},
   "outputs": [],
   "source": []
  }
 ],
 "metadata": {
  "kernelspec": {
   "display_name": "Python [conda env:pysense]",
   "language": "python",
   "name": "conda-env-pysense-py"
  },
  "language_info": {
   "codemirror_mode": {
    "name": "ipython",
    "version": 3
   },
   "file_extension": ".py",
   "mimetype": "text/x-python",
   "name": "python",
   "nbconvert_exporter": "python",
   "pygments_lexer": "ipython3",
   "version": "3.11.4"
  }
 },
 "nbformat": 4,
 "nbformat_minor": 5
}
