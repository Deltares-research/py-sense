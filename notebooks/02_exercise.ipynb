{
 "cells": [
  {
   "cell_type": "markdown",
   "id": "25045498-92c8-4aed-9443-8559b213bacc",
   "metadata": {},
   "source": [
    "# Exercise"
   ]
  },
  {
   "cell_type": "markdown",
   "id": "3841e418-8218-44ba-b067-d03b8e4afe40",
   "metadata": {},
   "source": [
    "### Add project directory to Python path\n",
    "\n",
    "This code defines two functions and retrieves the project directory path. It's useful when we want to define some generic functions that can be imported. If you retrieve the project directoy path like this, it both works in an Ipython and Python environment. \n",
    "\n",
    "- `is_interactive()`: Checks if the code is running in an interactive environment.\n",
    "- `get_proj_dir()`: Determines the project directory path based on the execution context. If running interactively, it infers the project directory from the Jupyter kernel. Otherwise, it infers it from the Python file. The function returns the project directory as a `pathlib.Path` object."
   ]
  },
  {
   "cell_type": "code",
   "execution_count": null,
   "id": "8a318014-bea5-41f6-8453-8b8464f45286",
   "metadata": {
    "execution": {
     "iopub.execute_input": "2023-06-21T13:09:24.851465Z",
     "iopub.status.busy": "2023-06-21T13:09:24.851213Z",
     "iopub.status.idle": "2023-06-21T13:09:24.861560Z",
     "shell.execute_reply": "2023-06-21T13:09:24.860028Z",
     "shell.execute_reply.started": "2023-06-21T13:09:24.851445Z"
    },
    "tags": []
   },
   "outputs": [],
   "source": [
    "import os\n",
    "import pathlib\n",
    "import sys\n",
    "\n",
    "\n",
    "def is_interactive() -> bool:\n",
    "    \"\"\"\n",
    "    Check if the code is running in a Jupyter Notebook environment.\n",
    "    \"\"\"\n",
    "    try:\n",
    "        shell = get_ipython().__class__.__name__\n",
    "        if shell == \"ZMQInteractiveShell\":\n",
    "            print(\"In Jupyter notebook or lab shell. \")\n",
    "            return True  # Jupyter Notebook or JupyterLab\n",
    "        elif shell == \"TerminalInteractiveShell\":\n",
    "            print(\"In IPython console shell. \")\n",
    "            return False  # Terminal or IPython console\n",
    "        else:\n",
    "            return False  # Other interactive shells\n",
    "    except NameError:\n",
    "        print(\"Not in an interactive shell. \")\n",
    "        return False  # Not in an interactive shell\n",
    "\n",
    "\n",
    "def get_proj_dir() -> pathlib.Path:\n",
    "    \"\"\"\n",
    "    Get the project directory path.\n",
    "\n",
    "    Returns:\n",
    "        A `pathlib.Path` object representing the project directory path.\n",
    "    \"\"\"\n",
    "    if is_interactive():\n",
    "        print(\"Inferring project directory from the Jupyter kernel.\")\n",
    "        cwd = pathlib.Path().resolve()\n",
    "        proj_dir = cwd.parent\n",
    "    else:\n",
    "        print(\"Inferring project directory from the Python file.\")\n",
    "        cwd = pathlib.Path(__file__)\n",
    "        proj_dir = cwd.parent.parent\n",
    "\n",
    "    return proj_dir\n",
    "\n",
    "\n",
    "proj_dir: pathlib.Path = get_proj_dir()\n",
    "src_dir = str(proj_dir / \"src\")\n",
    "print(f\"Adding {src_dir} to system path.\")\n",
    "sys.path.append(src_dir)"
   ]
  },
  {
   "cell_type": "markdown",
   "id": "b2e9adea-ab8e-4c20-bbea-2e7a8b4bc169",
   "metadata": {},
   "source": [
    "### Very extensive list of libraries - I'll cleanup later"
   ]
  },
  {
   "cell_type": "code",
   "execution_count": null,
   "id": "fee46249-33ee-4c65-85af-d27d37f81a5f",
   "metadata": {
    "execution": {
     "iopub.execute_input": "2023-06-21T13:09:25.258526Z",
     "iopub.status.busy": "2023-06-21T13:09:25.258201Z",
     "iopub.status.idle": "2023-06-21T13:09:27.525734Z",
     "shell.execute_reply": "2023-06-21T13:09:27.525120Z",
     "shell.execute_reply.started": "2023-06-21T13:09:25.258503Z"
    },
    "tags": []
   },
   "outputs": [],
   "source": [
    "import time\n",
    "import warnings\n",
    "from copy import deepcopy\n",
    "from typing import Any, Dict, List, Union\n",
    "\n",
    "import cartopy.crs as crs\n",
    "\n",
    "# import adlfs\n",
    "# import azure.storage.blob\n",
    "import colorcet as cc\n",
    "import dask\n",
    "import dask.array as da\n",
    "import dask.bag as db\n",
    "import dask.dataframe as dd\n",
    "\n",
    "# import dask_gateway\n",
    "import dask_geopandas\n",
    "import geopandas as gpd\n",
    "\n",
    "# import geoviews.tile_sources as gvts\n",
    "import holoviews as hv\n",
    "import hvplot.pandas  # noqa\n",
    "import hvplot.xarray  # noqa\n",
    "import matplotlib.pyplot as plt\n",
    "import numpy as np\n",
    "import pandas as pd\n",
    "import panel as pn\n",
    "import planetary_computer\n",
    "import pooch\n",
    "import pyproj\n",
    "import pystac\n",
    "import pystac_client\n",
    "import rasterio\n",
    "import rioxarray\n",
    "import rioxarray as rio\n",
    "import shapely\n",
    "import stackstac\n",
    "import tqdm\n",
    "import xarray as xr\n",
    "\n",
    "# from azure.storage.blob import BlobServiceClient\n",
    "from dask.distributed import Client\n",
    "from geopandas.array import GeometryDtype\n",
    "from ipyleaflet import Map, basemaps\n",
    "from matplotlib.colors import ListedColormap\n",
    "from odc.stac import configure_rio, stac_load\n",
    "from xrspatial.multispectral import true_color"
   ]
  },
  {
   "cell_type": "markdown",
   "id": "2240ec0c",
   "metadata": {},
   "source": [
    "## 01 - Data Access"
   ]
  },
  {
   "cell_type": "code",
   "execution_count": null,
   "id": "aaeb38b6-307d-433f-aff7-b796a140788a",
   "metadata": {
    "execution": {
     "iopub.execute_input": "2023-06-21T13:09:28.915529Z",
     "iopub.status.busy": "2023-06-21T13:09:28.914668Z",
     "iopub.status.idle": "2023-06-21T13:09:28.932537Z",
     "shell.execute_reply": "2023-06-21T13:09:28.932119Z",
     "shell.execute_reply.started": "2023-06-21T13:09:28.915453Z"
    },
    "tags": []
   },
   "outputs": [],
   "source": [
    "m = Map(basemap=basemaps.Esri.WorldImagery, scroll_wheel_zoom=True)\n",
    "m.center = 53.2, 5.5\n",
    "m.zoom = 9\n",
    "m.layout.height = \"800px\"\n",
    "m"
   ]
  },
  {
   "cell_type": "markdown",
   "id": "3413be0d-b95f-4545-9077-a885f84f5009",
   "metadata": {},
   "source": [
    "### EO team discussion point \n",
    "\n",
    "Do we show how to import generic functions from a project directory? Otherwise I'll just redefine the functions here in the notebook"
   ]
  },
  {
   "cell_type": "markdown",
   "id": "7587a186-9f4c-410e-b1c5-9fc544649325",
   "metadata": {},
   "source": [
    "### Extract the coords from the interactive map -- IMPORTANT: wait 2 seconds until map is rendered, othewise you cannot extract the coords"
   ]
  },
  {
   "cell_type": "code",
   "execution_count": null,
   "id": "75ff7aeb-a1ae-42b1-8cb3-01393d9ecead",
   "metadata": {
    "execution": {
     "iopub.execute_input": "2023-06-21T13:09:33.404380Z",
     "iopub.status.busy": "2023-06-21T13:09:33.403437Z",
     "iopub.status.idle": "2023-06-21T13:09:33.995688Z",
     "shell.execute_reply": "2023-06-21T13:09:33.995402Z",
     "shell.execute_reply.started": "2023-06-21T13:09:33.404320Z"
    },
    "tags": []
   },
   "outputs": [],
   "source": [
    "from coastmonitor.geo.geometries import bbox_to_geometry, geo_bbox, geometry_to_bbox\n",
    "\n",
    "bbox = [m.west, m.south, m.east, m.north]\n",
    "bbox_geom = bbox_to_geometry(bbox)\n",
    "roi = geo_bbox(*bbox, src_crs=4326, dst_crs=4326)\n",
    "roi.explore()"
   ]
  },
  {
   "cell_type": "markdown",
   "id": "38b50158-fd7d-4dc8-bff3-4d9c1d2d689a",
   "metadata": {},
   "source": [
    "## Discussion: Unfortunately the full STAC catalog for the Coastal mask is not available yet, so maybe we should take a smaller roi in the NL?"
   ]
  },
  {
   "cell_type": "code",
   "execution_count": null,
   "id": "1cf27476-11c6-4c56-940a-cbf86e8caabf",
   "metadata": {
    "execution": {
     "iopub.execute_input": "2023-06-21T13:09:35.149622Z",
     "iopub.status.busy": "2023-06-21T13:09:35.148749Z",
     "iopub.status.idle": "2023-06-21T13:09:36.225502Z",
     "shell.execute_reply": "2023-06-21T13:09:36.224189Z",
     "shell.execute_reply.started": "2023-06-21T13:09:35.149566Z"
    },
    "tags": []
   },
   "outputs": [],
   "source": [
    "catalog = pystac_client.Client.open(\n",
    "    \"https://storage.googleapis.com/dgds-data-public/coclico/coclico-stac/catalog.json\"\n",
    ")\n",
    "cm_collection = catalog.get_collection(\"cm\")\n",
    "cm_items = list(cm_collection.get_all_items())"
   ]
  },
  {
   "cell_type": "code",
   "execution_count": null,
   "id": "3305852f-9641-4f49-a554-365803173e90",
   "metadata": {
    "execution": {
     "iopub.execute_input": "2023-06-21T13:09:36.230626Z",
     "iopub.status.busy": "2023-06-21T13:09:36.229726Z",
     "iopub.status.idle": "2023-06-21T13:09:36.419459Z",
     "shell.execute_reply": "2023-06-21T13:09:36.419174Z",
     "shell.execute_reply.started": "2023-06-21T13:09:36.230582Z"
    },
    "tags": []
   },
   "outputs": [],
   "source": [
    "cm_bboxes = pd.concat([geo_bbox(*i.to_dict()[\"bbox\"]) for i in cm_items])\n",
    "cm_bboxes = cm_bboxes.reset_index(drop=True)\n",
    "cm_bboxes.explore()"
   ]
  },
  {
   "cell_type": "code",
   "execution_count": null,
   "id": "ca667872-f21b-4b24-b537-7b448bc4feb8",
   "metadata": {
    "execution": {
     "iopub.execute_input": "2023-06-21T13:09:37.382918Z",
     "iopub.status.busy": "2023-06-21T13:09:37.382459Z",
     "iopub.status.idle": "2023-06-21T13:09:37.421642Z",
     "shell.execute_reply": "2023-06-21T13:09:37.421314Z",
     "shell.execute_reply.started": "2023-06-21T13:09:37.382835Z"
    },
    "tags": []
   },
   "outputs": [],
   "source": [
    "cm_bboxes_roi = gpd.sjoin(cm_bboxes, roi)[cm_bboxes.columns]\n",
    "cm_bboxes_roi.explore()"
   ]
  },
  {
   "cell_type": "code",
   "execution_count": null,
   "id": "c9edb681-3694-4121-a4fa-c0550ba96894",
   "metadata": {
    "execution": {
     "iopub.execute_input": "2023-06-21T13:09:38.182463Z",
     "iopub.status.busy": "2023-06-21T13:09:38.182106Z",
     "iopub.status.idle": "2023-06-21T13:09:38.187113Z",
     "shell.execute_reply": "2023-06-21T13:09:38.186401Z",
     "shell.execute_reply.started": "2023-06-21T13:09:38.182440Z"
    },
    "tags": []
   },
   "outputs": [],
   "source": [
    "# obtain STAC items that cover the ROI\n",
    "items_roi = [cm_items[i] for i in cm_bboxes_roi.index]\n",
    "cm_hrefs = [i.assets[\"cm\"].href for i in items_roi]"
   ]
  },
  {
   "cell_type": "code",
   "execution_count": null,
   "id": "724f09a0-5871-4d33-959b-0bf9f63a6012",
   "metadata": {
    "execution": {
     "iopub.execute_input": "2023-06-21T13:09:39.148167Z",
     "iopub.status.busy": "2023-06-21T13:09:39.147745Z",
     "iopub.status.idle": "2023-06-21T13:09:39.158459Z",
     "shell.execute_reply": "2023-06-21T13:09:39.157305Z",
     "shell.execute_reply.started": "2023-06-21T13:09:39.148144Z"
    },
    "tags": []
   },
   "outputs": [],
   "source": [
    "cm_hrefs"
   ]
  },
  {
   "cell_type": "markdown",
   "id": "72883b8d",
   "metadata": {},
   "source": [
    "### Local Dask cluster\n",
    "\n",
    "Here we launch a local Dask cluster, a Python-based multiprocessing library, which will speed up the computation. The cluster we make here is local, when you want to upscale your computations you should use a Dask gateway, hosted on a remote server, close to the data."
   ]
  },
  {
   "cell_type": "code",
   "execution_count": null,
   "id": "f5cd4631",
   "metadata": {
    "execution": {
     "iopub.execute_input": "2023-06-21T13:09:40.492083Z",
     "iopub.status.busy": "2023-06-21T13:09:40.491742Z",
     "iopub.status.idle": "2023-06-21T13:09:41.109183Z",
     "shell.execute_reply": "2023-06-21T13:09:41.108916Z",
     "shell.execute_reply.started": "2023-06-21T13:09:40.492061Z"
    },
    "tags": []
   },
   "outputs": [],
   "source": [
    "# when running locally (parallel)\n",
    "client = Client(local_directory=\"/tmp\")\n",
    "client\n",
    "\n",
    "# asking for plots (.plot()) or numerical values (.compute()) will trigger the computation, which you can see in the dask dashboard"
   ]
  },
  {
   "cell_type": "code",
   "execution_count": null,
   "id": "69ca5814-e18e-4df3-834f-23039d6debf2",
   "metadata": {
    "execution": {
     "iopub.execute_input": "2023-06-21T13:09:41.837720Z",
     "iopub.status.busy": "2023-06-21T13:09:41.836879Z",
     "iopub.status.idle": "2023-06-21T13:09:44.089131Z",
     "shell.execute_reply": "2023-06-21T13:09:44.088603Z",
     "shell.execute_reply.started": "2023-06-21T13:09:41.837358Z"
    },
    "tags": []
   },
   "outputs": [],
   "source": [
    "%%time\n",
    "@dask.delayed\n",
    "def lazy_open(href):\n",
    "    chunks = dict(band=1, x=512, y=512)\n",
    "    return xr.open_dataset(href, chunks=chunks, engine=\"rasterio\")\n",
    "\n",
    "\n",
    "das = dask.compute(*[lazy_open(href) for href in cm_hrefs])\n",
    "print(f\"len das: {len(das)}\")\n",
    "das[0]"
   ]
  },
  {
   "cell_type": "code",
   "execution_count": null,
   "id": "b4b50d13-d877-4dfa-ac1f-b8461c6d73fd",
   "metadata": {
    "execution": {
     "iopub.execute_input": "2023-06-21T13:09:44.090429Z",
     "iopub.status.busy": "2023-06-21T13:09:44.090290Z",
     "iopub.status.idle": "2023-06-21T13:09:45.060062Z",
     "shell.execute_reply": "2023-06-21T13:09:45.059390Z",
     "shell.execute_reply.started": "2023-06-21T13:09:44.090416Z"
    },
    "tags": []
   },
   "outputs": [],
   "source": [
    "%%time\n",
    "cm = xr.combine_by_coords(das).compute()"
   ]
  },
  {
   "cell_type": "markdown",
   "id": "940f18ec-0c7f-4a2a-91b2-4907933effdd",
   "metadata": {},
   "source": [
    "## DISCUSSION/TODO, mask land/water values to seee the esri tiles?"
   ]
  },
  {
   "cell_type": "code",
   "execution_count": null,
   "id": "7f907e22-e918-463f-8ef5-e5e3b54811ad",
   "metadata": {
    "execution": {
     "iopub.execute_input": "2023-06-21T13:09:45.758749Z",
     "iopub.status.busy": "2023-06-21T13:09:45.756691Z",
     "iopub.status.idle": "2023-06-21T13:09:46.603939Z",
     "shell.execute_reply": "2023-06-21T13:09:46.603538Z",
     "shell.execute_reply.started": "2023-06-21T13:09:45.758686Z"
    },
    "tags": []
   },
   "outputs": [],
   "source": [
    "%%time\n",
    "import hvplot.xarray  # qa\n",
    "\n",
    "cm.squeeze(\"band\").where(cm > 0).hvplot(\n",
    "    rasterize=True, x=\"x\", y=\"y\", aspect=\"equal\", tiles=\"EsriImagery\"\n",
    ")"
   ]
  },
  {
   "cell_type": "markdown",
   "id": "e1879e01-8850-46ba-8ea5-78a93d177b8b",
   "metadata": {},
   "source": [
    "## Discussion: Add S2 from Planetary/ODC Stac?"
   ]
  },
  {
   "cell_type": "code",
   "execution_count": null,
   "id": "f2ac3374-ff13-4eee-b737-1d32b0955012",
   "metadata": {},
   "outputs": [],
   "source": []
  },
  {
   "cell_type": "markdown",
   "id": "3e5dab41-0683-4302-8dd6-f1444efc45cd",
   "metadata": {},
   "source": [
    "## Discussion/Etienne: add ERA"
   ]
  },
  {
   "cell_type": "code",
   "execution_count": null,
   "id": "1e22580a-11a5-4fa8-a7f7-e352511f15cd",
   "metadata": {},
   "outputs": [],
   "source": []
  }
 ],
 "metadata": {
  "kernelspec": {
   "display_name": "Python [conda env:pysense]",
   "language": "python",
   "name": "conda-env-pysense-py"
  },
  "language_info": {
   "codemirror_mode": {
    "name": "ipython",
    "version": 3
   },
   "file_extension": ".py",
   "mimetype": "text/x-python",
   "name": "python",
   "nbconvert_exporter": "python",
   "pygments_lexer": "ipython3",
   "version": "3.11.4"
  }
 },
 "nbformat": 4,
 "nbformat_minor": 5
}
