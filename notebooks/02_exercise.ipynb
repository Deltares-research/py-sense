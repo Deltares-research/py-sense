{
 "cells": [
  {
   "cell_type": "markdown",
   "id": "25045498-92c8-4aed-9443-8559b213bacc",
   "metadata": {},
   "source": [
    "# Exercise - Terschelling NDVI using CoCliCo & MPC STAC\n",
    "\n",
    "In this exercise we are going to use both the MPC and Deltares CoCliCo STAC to look at vegetation change on the island of Terschelling. For this, we load the Coastal Mask in the CoCliCo STAC and overlay it on Sentinel-2 derived NDVI images from the MPC STAC. Eventually we will make some interactive plots, both in space & time and compute some statistics."
   ]
  },
  {
   "cell_type": "markdown",
   "id": "3841e418-8218-44ba-b067-d03b8e4afe40",
   "metadata": {
    "jp-MarkdownHeadingCollapsed": true,
    "tags": []
   },
   "source": [
    "### Add project directory to Python path\n",
    "\n",
    "This code defines two functions and retrieves the project directory path. It's useful when we want to define some generic functions that can be imported. If you retrieve the project directoy path like this, it both works in an Ipython and Python environment. \n",
    "\n",
    "- `is_interactive()`: Checks if the code is running in an interactive environment.\n",
    "- `get_proj_dir()`: Determines the project directory path based on the execution context. If running interactively, it infers the project directory from the Jupyter kernel. Otherwise, it infers it from the Python file. The function returns the project directory as a `pathlib.Path` object."
   ]
  },
  {
   "cell_type": "code",
   "execution_count": null,
   "id": "8a318014-bea5-41f6-8453-8b8464f45286",
   "metadata": {
    "tags": []
   },
   "outputs": [],
   "source": [
    "import os\n",
    "import pathlib\n",
    "import sys\n",
    "\n",
    "\n",
    "def is_interactive() -> bool:\n",
    "    \"\"\"\n",
    "    Check if the Python code is running in an interactive environment.\n",
    "    \"\"\"\n",
    "    import __main__ as main\n",
    "\n",
    "    return not hasattr(main, \"__file__\")\n",
    "\n",
    "\n",
    "def get_proj_dir() -> pathlib.Path:\n",
    "    \"\"\"\n",
    "    Get the project directory path.\n",
    "\n",
    "    Returns:\n",
    "        A `pathlib.Path` object representing the project directory path.\n",
    "    \"\"\"\n",
    "    if is_interactive():\n",
    "        print(\"Inferring project directory from the Jupyter kernel.\")\n",
    "        cwd = pathlib.Path().resolve()\n",
    "        proj_dir = cwd.parent\n",
    "    else:\n",
    "        print(\"Inferring project directory from the Python file.\")\n",
    "        cwd = pathlib.Path(__file__)\n",
    "        proj_dir = cwd.parent.parent\n",
    "\n",
    "    return proj_dir\n",
    "\n",
    "\n",
    "proj_dir: pathlib.Path = get_proj_dir()\n",
    "sys.path.append(str(proj_dir / \"src\"))"
   ]
  },
  {
   "cell_type": "markdown",
   "id": "b2e9adea-ab8e-4c20-bbea-2e7a8b4bc169",
   "metadata": {
    "jp-MarkdownHeadingCollapsed": true,
    "tags": []
   },
   "source": [
    "### Import libraries"
   ]
  },
  {
   "cell_type": "code",
   "execution_count": null,
   "id": "fee46249-33ee-4c65-85af-d27d37f81a5f",
   "metadata": {
    "tags": []
   },
   "outputs": [],
   "source": [
    "import colorcet as cc\n",
    "import dask\n",
    "import geopandas as gpd\n",
    "import hvplot.pandas  # noqa\n",
    "import hvplot.xarray  # noqa\n",
    "import pandas as pd\n",
    "import panel as pn\n",
    "import planetary_computer\n",
    "import pystac_client\n",
    "import stackstac\n",
    "import xarray as xr\n",
    "\n",
    "# from azure.storage.blob import BlobServiceClient\n",
    "from dask.distributed import Client\n",
    "from ipyleaflet import Map, basemaps"
   ]
  },
  {
   "cell_type": "markdown",
   "id": "2240ec0c",
   "metadata": {
    "jp-MarkdownHeadingCollapsed": true,
    "tags": []
   },
   "source": [
    "### Load the Region of Interest (RoI) - Terschelling"
   ]
  },
  {
   "cell_type": "code",
   "execution_count": null,
   "id": "aaeb38b6-307d-433f-aff7-b796a140788a",
   "metadata": {
    "tags": []
   },
   "outputs": [],
   "source": [
    "m = Map(basemap=basemaps.Esri.WorldImagery, scroll_wheel_zoom=True)\n",
    "m.center = 53.4, 5.35  # Terschelling\n",
    "m.zoom = 12\n",
    "m.layout.height = \"800px\"\n",
    "m"
   ]
  },
  {
   "cell_type": "markdown",
   "id": "7587a186-9f4c-410e-b1c5-9fc544649325",
   "metadata": {},
   "source": [
    "Extract the coords from the interactive map -- IMPORTANT: wait 2 seconds until map is rendered, otherwise you cannot extract the coords"
   ]
  },
  {
   "cell_type": "code",
   "execution_count": null,
   "id": "75ff7aeb-a1ae-42b1-8cb3-01393d9ecead",
   "metadata": {
    "tags": []
   },
   "outputs": [],
   "source": [
    "from coastmonitor.geo.geometries import bbox_to_geometry, geo_bbox, geometry_to_bbox\n",
    "\n",
    "bbox = [m.west, m.south, m.east, m.north]\n",
    "bbox_geom = bbox_to_geometry(bbox)\n",
    "roi = geo_bbox(*bbox, src_crs=4326, dst_crs=4326)\n",
    "roi.explore()"
   ]
  },
  {
   "cell_type": "markdown",
   "id": "38b50158-fd7d-4dc8-bff3-4d9c1d2d689a",
   "metadata": {
    "jp-MarkdownHeadingCollapsed": true,
    "tags": []
   },
   "source": [
    "### Load the CoCliCo STAC catalog (developed by Deltares within the [CoCliCo project](https://coclicoservices.eu/))\n",
    "\n",
    "See the STAC here: [CoCliCo STAC](https://radiantearth.github.io/stac-browser/#/external/storage.googleapis.com/dgds-data-public/coclico/coclico-stac/catalog.json?.language=en). Notice that this STAC is still in development, i.e. there are some double links and it doesn't look as nice as the [MPC STAC](https://radiantearth.github.io/stac-browser/#/external/planetarycomputer.microsoft.com/api/stac/v1?.language=en). Yet, is also contains some nice datasets already."
   ]
  },
  {
   "cell_type": "markdown",
   "id": "35fa9bc5-bf3c-4e3b-8c01-55e3a6452589",
   "metadata": {},
   "source": [
    "Load the CoCliCo STAC"
   ]
  },
  {
   "cell_type": "code",
   "execution_count": null,
   "id": "3328a9c4-2a32-4605-8cd7-efc05ae6e25e",
   "metadata": {
    "tags": []
   },
   "outputs": [],
   "source": [
    "catalog = pystac_client.Client.open(\n",
    "    \"https://storage.googleapis.com/dgds-data-public/coclico/coclico-stac/catalog.json\"\n",
    ")"
   ]
  },
  {
   "cell_type": "markdown",
   "id": "7ef27ec4-5429-49c7-830b-e01aed57f9b7",
   "metadata": {},
   "source": [
    "Print all the datasets in the STAC"
   ]
  },
  {
   "cell_type": "code",
   "execution_count": null,
   "id": "84764840-a85e-403e-b3ec-56190b27ad94",
   "metadata": {
    "tags": []
   },
   "outputs": [],
   "source": [
    "list(\n",
    "    catalog.get_children()\n",
    ")  # list all the STAC Collections (i.e. datasets hosted by planetary computer)"
   ]
  },
  {
   "cell_type": "markdown",
   "id": "f263fa19-a90f-4b2d-94ba-7a7627c471ed",
   "metadata": {
    "jp-MarkdownHeadingCollapsed": true,
    "tags": []
   },
   "source": [
    "### Open the Coastal Mask dataset and filter on the RoI"
   ]
  },
  {
   "cell_type": "markdown",
   "id": "3a08940d-1d07-4c19-b714-ac4029e275f1",
   "metadata": {},
   "source": [
    "Open the Coastal Mask dataset"
   ]
  },
  {
   "cell_type": "code",
   "execution_count": null,
   "id": "d76624a7-5e42-4313-b8e0-5f3341b5805e",
   "metadata": {
    "tags": []
   },
   "outputs": [],
   "source": [
    "cm_collection = catalog.get_collection(\"cm\")\n",
    "cm_items = list(cm_collection.get_all_items())\n",
    "# cm_items[0]"
   ]
  },
  {
   "cell_type": "markdown",
   "id": "45dc403a-6530-428f-9c9d-880c1365aa53",
   "metadata": {},
   "source": [
    "Explore an item"
   ]
  },
  {
   "cell_type": "code",
   "execution_count": null,
   "id": "075a53f5-6c8a-4479-8b9b-ad194af4e707",
   "metadata": {
    "tags": []
   },
   "outputs": [],
   "source": [
    "cm_items[0]"
   ]
  },
  {
   "cell_type": "markdown",
   "id": "ca6eabea-60bd-4436-8201-570a27a904ac",
   "metadata": {},
   "source": [
    "Check all the Coasl Mask bounding boxes on a map, tip: bbox is a property from the items"
   ]
  },
  {
   "cell_type": "code",
   "execution_count": null,
   "id": "3305852f-9641-4f49-a554-365803173e90",
   "metadata": {
    "tags": []
   },
   "outputs": [],
   "source": [
    "cm_bboxes = pd.concat([geo_bbox(*i.to_dict()[\"bbox\"]) for i in cm_items])\n",
    "cm_bboxes = cm_bboxes.reset_index(drop=True)\n",
    "cm_bboxes.explore()"
   ]
  },
  {
   "cell_type": "markdown",
   "id": "21fcb504-e575-4edd-8a56-0c7af01ba05d",
   "metadata": {},
   "source": [
    "Spatial join the Coastal Mask boxes on the RoI"
   ]
  },
  {
   "cell_type": "code",
   "execution_count": null,
   "id": "ca667872-f21b-4b24-b537-7b448bc4feb8",
   "metadata": {
    "tags": []
   },
   "outputs": [],
   "source": [
    "cm_bboxes_roi = gpd.sjoin(cm_bboxes, roi)[cm_bboxes.columns]\n",
    "cm_bboxes_roi.explore()"
   ]
  },
  {
   "cell_type": "markdown",
   "id": "88a66594-4e33-461a-afd5-9fb1e539992c",
   "metadata": {},
   "source": [
    "Obtain all Coastal Mask STAC hrefs in the remaining RoI items"
   ]
  },
  {
   "cell_type": "code",
   "execution_count": null,
   "id": "c9edb681-3694-4121-a4fa-c0550ba96894",
   "metadata": {
    "tags": []
   },
   "outputs": [],
   "source": [
    "# obtain STAC items that cover the ROI\n",
    "items_roi = [cm_items[i] for i in cm_bboxes_roi.index]\n",
    "cm_hrefs = [i.assets[\"cm\"].href for i in items_roi]\n",
    "# cm_hrefs"
   ]
  },
  {
   "cell_type": "markdown",
   "id": "72883b8d",
   "metadata": {
    "jp-MarkdownHeadingCollapsed": true,
    "tags": []
   },
   "source": [
    "### Local Dask cluster\n",
    "\n",
    "Here we launch a local Dask cluster, a Python-based multiprocessing library, which will speed up the computation. The cluster we make here is local, when you want to upscale your computations you should use a Dask gateway, hosted on a remote server, close to the data."
   ]
  },
  {
   "cell_type": "code",
   "execution_count": null,
   "id": "f5cd4631",
   "metadata": {
    "tags": []
   },
   "outputs": [],
   "source": [
    "# when running locally (parallel)\n",
    "client = Client(threads_per_worker=1, processes=True, local_directory=\"/tmp\")\n",
    "client\n",
    "\n",
    "# asking for plots (.plot()) or numerical values (.compute()) will trigger the computation, which you can see in the dask dashboard"
   ]
  },
  {
   "cell_type": "markdown",
   "id": "64604af1-49a1-4add-a801-21c8833ce5dd",
   "metadata": {
    "jp-MarkdownHeadingCollapsed": true,
    "tags": []
   },
   "source": [
    "### Read the Coastal Mask data in the RoI "
   ]
  },
  {
   "cell_type": "markdown",
   "id": "44717188-0fe0-4f96-b0ff-1c2986cd318b",
   "metadata": {},
   "source": [
    "Read the Coastal Mask lazily using Xarray with a rasterio engine"
   ]
  },
  {
   "cell_type": "code",
   "execution_count": null,
   "id": "69ca5814-e18e-4df3-834f-23039d6debf2",
   "metadata": {
    "tags": []
   },
   "outputs": [],
   "source": [
    "%%time\n",
    "@dask.delayed\n",
    "def lazy_open(href):\n",
    "    chunks = dict(band=1, x=512, y=512)\n",
    "    return xr.open_dataset(href, chunks=chunks, engine=\"rasterio\")\n",
    "\n",
    "\n",
    "das = dask.compute(\n",
    "    *[lazy_open(href) for href in cm_hrefs]\n",
    ")  # here we start the computation\n",
    "print(f\"len das: {len(das)}\")\n",
    "das[0]"
   ]
  },
  {
   "cell_type": "markdown",
   "id": "59ffb037-d5ab-4e84-baf8-35e4fae1c25b",
   "metadata": {},
   "source": [
    "Combine the coordinates in the Xarray Coastal Mask dataset"
   ]
  },
  {
   "cell_type": "code",
   "execution_count": null,
   "id": "b4b50d13-d877-4dfa-ac1f-b8461c6d73fd",
   "metadata": {
    "tags": []
   },
   "outputs": [],
   "source": [
    "%%time\n",
    "cm = xr.combine_by_coords(das).compute()"
   ]
  },
  {
   "cell_type": "markdown",
   "id": "8209caec-85d9-4902-bfd8-f8e928bb3166",
   "metadata": {},
   "source": [
    "Plot the Coastal Mask using HoloViz's hvplot"
   ]
  },
  {
   "cell_type": "code",
   "execution_count": null,
   "id": "7f907e22-e918-463f-8ef5-e5e3b54811ad",
   "metadata": {
    "tags": []
   },
   "outputs": [],
   "source": [
    "%%time\n",
    "cm.squeeze(\"band\").hvplot(\n",
    "    rasterize=True, x=\"x\", y=\"y\", aspect=\"equal\", tiles=\"EsriImagery\"\n",
    ")"
   ]
  },
  {
   "cell_type": "markdown",
   "id": "3e5dab41-0683-4302-8dd6-f1444efc45cd",
   "metadata": {
    "jp-MarkdownHeadingCollapsed": true,
    "tags": []
   },
   "source": [
    "### Load the Microsoft Planetary Computer (MPC) STAC catalog \n",
    "\n",
    "Have a look at their [documentation](https://planetarycomputer.microsoft.com/docs/quickstarts/reading-stac/) for examples"
   ]
  },
  {
   "cell_type": "markdown",
   "id": "eb194309-1981-4d07-9174-d1a96e8a7bc9",
   "metadata": {},
   "source": [
    "Load the MPC STAC"
   ]
  },
  {
   "cell_type": "code",
   "execution_count": null,
   "id": "1e22580a-11a5-4fa8-a7f7-e352511f15cd",
   "metadata": {
    "tags": []
   },
   "outputs": [],
   "source": [
    "catalog2 = pystac_client.Client.open(\n",
    "    \"https://planetarycomputer.microsoft.com/api/stac/v1\",\n",
    "    modifier=planetary_computer.sign_inplace,\n",
    ")"
   ]
  },
  {
   "cell_type": "markdown",
   "id": "74f37f90-9335-4413-8efb-fa5d1c9a222e",
   "metadata": {},
   "source": [
    "Print all the datasets in the STAC"
   ]
  },
  {
   "cell_type": "code",
   "execution_count": null,
   "id": "32cae9d5-d615-4aa4-8066-a430b9b09bb1",
   "metadata": {
    "tags": []
   },
   "outputs": [],
   "source": [
    "list(\n",
    "    catalog2.get_children()\n",
    ")  # list all the STAC Collections (i.e. datasets hosted by planetary computer)"
   ]
  },
  {
   "cell_type": "markdown",
   "id": "d990dcf5-effa-4fec-949e-e4170d063df3",
   "metadata": {
    "jp-MarkdownHeadingCollapsed": true,
    "tags": []
   },
   "source": [
    "### Open the S2 dataset and filter on a cloud cover, datetime and the RoI"
   ]
  },
  {
   "cell_type": "markdown",
   "id": "47932680-a002-40d9-b9b4-3196c384d0ea",
   "metadata": {},
   "source": [
    "Open the S2 dataset and print all items"
   ]
  },
  {
   "cell_type": "code",
   "execution_count": null,
   "id": "f2da4bd2-d0c9-44e7-b333-ea45867603a6",
   "metadata": {
    "tags": []
   },
   "outputs": [],
   "source": [
    "search = catalog2.search(\n",
    "    collections=[\n",
    "        \"sentinel-2-l2a\"\n",
    "    ],  # atmospherically corrected Surface Reflectances (SR)\n",
    "    intersects=bbox_geom,\n",
    "    datetime=\"2022-07-01/2023-06-22\",  # \"2020-01-01/2020-01-31\",\n",
    "    query={\"eo:cloud_cover\": {\"lt\": 50}},\n",
    ")\n",
    "\n",
    "items = search.item_collection()\n",
    "print(f\"{len(items)} items found in catalog search.\")"
   ]
  },
  {
   "cell_type": "markdown",
   "id": "59e546fb-1125-4a84-892e-9a2541c4596f",
   "metadata": {},
   "source": [
    "list all bands within the S2 collection, together with its description"
   ]
  },
  {
   "cell_type": "code",
   "execution_count": null,
   "id": "3a35b0e8-f009-4fa4-ac67-f4881daab66f",
   "metadata": {
    "tags": []
   },
   "outputs": [],
   "source": [
    "s2 = catalog2.get_collection(\"sentinel-2-l2a\")\n",
    "pd.DataFrame(s2.summaries.get_list(\"eo:bands\"))"
   ]
  },
  {
   "cell_type": "markdown",
   "id": "a1a3ecc2-0c22-418d-8691-4a82698678bc",
   "metadata": {},
   "source": [
    "Merge all items in a `xr.dataArray` "
   ]
  },
  {
   "cell_type": "code",
   "execution_count": null,
   "id": "cf642669-cd47-42d0-84d0-3ba9c8a33c0f",
   "metadata": {
    "tags": []
   },
   "outputs": [],
   "source": [
    "# stackstac contains many more arguments to filter the data (on the bounding box, a certain number of bands and by sorting the dates for instance)\n",
    "# merge items in dataset exactly matching the bounding box\n",
    "BAND = {\n",
    "    \"B02\": \"blue\",\n",
    "    \"B03\": \"green\",\n",
    "    \"B04\": \"red\",\n",
    "    \"B08\": \"nir\",\n",
    "    \"B11\": \"swir1\",\n",
    "    \"SCL\": \"SCL\",\n",
    "}\n",
    "\n",
    "\n",
    "stack = stackstac.stack(\n",
    "    items,\n",
    "    epsg=cm.rio.crs.to_epsg(),\n",
    "    assets=list(BAND.keys()),\n",
    "    bounds_latlon=bbox,\n",
    "    sortby_date=\"desc\",  # sort by date\n",
    ")\n",
    "stack"
   ]
  },
  {
   "cell_type": "markdown",
   "id": "9ea0f4e9-ba7e-4ab2-9063-c8665e557ae4",
   "metadata": {
    "jp-MarkdownHeadingCollapsed": true,
    "tags": []
   },
   "source": [
    "### Compute the NDVI and make an interactive plot"
   ]
  },
  {
   "cell_type": "markdown",
   "id": "9854b47d-49f7-46cb-9880-e41bd90ddaa0",
   "metadata": {},
   "source": [
    "Compute the NDVI (red & nir band)"
   ]
  },
  {
   "cell_type": "code",
   "execution_count": null,
   "id": "5d54d883-61de-440b-9ea2-d22e82c06c40",
   "metadata": {
    "tags": []
   },
   "outputs": [],
   "source": [
    "# decrease to only maintain the ndvi\n",
    "red = stack.sel({\"band\": \"B04\"})\n",
    "nir = stack.sel({\"band\": \"B08\"})\n",
    "ndvi = (nir - red) / (nir + red)  # this is still a lazy Dask computation\n",
    "ndvi"
   ]
  },
  {
   "cell_type": "markdown",
   "id": "5d1cb00e-039e-4484-b47a-69340d67b7c2",
   "metadata": {
    "tags": []
   },
   "source": [
    "Make an interactive plot for the second timestep in the NDVI dataArray"
   ]
  },
  {
   "cell_type": "code",
   "execution_count": null,
   "id": "6504cab2-0ee0-4670-ae6c-7da3d1530b41",
   "metadata": {
    "tags": []
   },
   "outputs": [],
   "source": [
    "ndvi.isel({\"time\": 2}).hvplot(x=\"x\", y=\"y\", cmap=cc.CET_D9[::-1], data_aspect=1)"
   ]
  },
  {
   "cell_type": "markdown",
   "id": "83b840b5-6e39-47cd-9968-ff7703ab60e4",
   "metadata": {
    "jp-MarkdownHeadingCollapsed": true,
    "tags": []
   },
   "source": [
    "### Combine the NDVI from MPC and Coastal Mask from CoCliCo"
   ]
  },
  {
   "cell_type": "markdown",
   "id": "769ab8cf-cfbb-4f87-be23-d2522e4e061f",
   "metadata": {},
   "source": [
    "We could directly match the NDVI (MPC) and Coastal Mask (CoCliCo) data as both are rasters. However, these do need to have the same coordinates / raster to overlay it properly. `Reindex` the Coastal Mask layer to match the NDVI raster with a tolerance of 0.001 and a fill value of 0."
   ]
  },
  {
   "cell_type": "code",
   "execution_count": null,
   "id": "f00d2000-2742-46c1-a0dc-fff33f64e7d0",
   "metadata": {
    "tags": []
   },
   "outputs": [],
   "source": [
    "cmr = cm.reindex(x=ndvi.x, y=ndvi.y, method=\"nearest\", tolerance=0.001, fill_value=0)"
   ]
  },
  {
   "cell_type": "markdown",
   "id": "32fcd2f2-4370-44a3-8db6-e58428b1465c",
   "metadata": {
    "tags": []
   },
   "source": [
    "Make a plot of the newly constructed Coastal Mask and check your reindexing. The Coastal Mask should now have the same RoI as the NDVI layer."
   ]
  },
  {
   "cell_type": "code",
   "execution_count": null,
   "id": "f939d09a-db70-46d9-a690-142ea91f4cbc",
   "metadata": {
    "tags": []
   },
   "outputs": [],
   "source": [
    "cmr.squeeze(\"band\").hvplot(\n",
    "    rasterize=True, x=\"x\", y=\"y\", aspect=\"equal\", tiles=\"EsriImagery\"\n",
    ")"
   ]
  },
  {
   "cell_type": "markdown",
   "id": "c070e7ff-5e30-432f-be7d-b63092e6550e",
   "metadata": {},
   "source": [
    "Mask the NDVI layer with the reindexed Coastal Mask layer to get rid of the oceanic information. Plot the second timestep in the masked NDVI dataArray"
   ]
  },
  {
   "cell_type": "code",
   "execution_count": null,
   "id": "db4bfbfb-b905-446c-9ab9-8fb7d4cfc08f",
   "metadata": {
    "tags": []
   },
   "outputs": [],
   "source": [
    "# mask to match coastal mask land area\n",
    "ndvi_masked = ndvi.where(cmr.squeeze(\"band\") == True)"
   ]
  },
  {
   "cell_type": "code",
   "execution_count": null,
   "id": "0fecd50b-c3a2-4164-a5db-332839dce5fb",
   "metadata": {
    "tags": []
   },
   "outputs": [],
   "source": [
    "ndvi_masked.isel({\"time\": 2}).hvplot(x=\"x\", y=\"y\", cmap=cc.CET_D9[::-1], data_aspect=1)"
   ]
  },
  {
   "cell_type": "markdown",
   "id": "100ec312-c31d-4e60-a7bc-10794a9034d5",
   "metadata": {
    "jp-MarkdownHeadingCollapsed": true,
    "tags": []
   },
   "source": [
    "### Make a dashboard from the data using Panel, in which you can slide through the time steps"
   ]
  },
  {
   "cell_type": "code",
   "execution_count": null,
   "id": "d4358f38-9cf2-409e-94f8-bd9e82c2308e",
   "metadata": {
    "tags": []
   },
   "outputs": [],
   "source": [
    "ndvi_masked[\"time\"] = pd.DatetimeIndex(ndvi_masked[\"time\"]).strftime(\n",
    "    \"%Y-%m-%dT%H:%M:%S\"\n",
    ")\n",
    "time_options = ndvi_masked[\"time\"].values.tolist()\n",
    "time_slider = pn.widgets.DiscreteSlider(name=\"Time\", options=time_options)\n",
    "\n",
    "\n",
    "@pn.depends(time_slider.param.value)\n",
    "def plot_ndvi(time, **kwargs):\n",
    "    plot = ndvi_masked.sel({\"time\": time}).hvplot(\n",
    "        x=\"x\", y=\"y\", cmap=cc.CET_D9[::-1], data_aspect=1\n",
    "    )\n",
    "    return plot.opts(title=f\"NDVI of {time}\")"
   ]
  },
  {
   "cell_type": "code",
   "execution_count": null,
   "id": "ae5591d1-357c-4591-855b-5cf3b8d80eb5",
   "metadata": {
    "tags": []
   },
   "outputs": [],
   "source": [
    "pn.extension()\n",
    "title_bar = pn.Row(\n",
    "    pn.pane.Markdown(\n",
    "        \"## Interactive NDVI dashboard\",\n",
    "        styles={\"color\": \"black\"},\n",
    "        width=800,\n",
    "        sizing_mode=\"fixed\",\n",
    "        margin=(10, 5, 10, 15),\n",
    "    ),\n",
    "    pn.Spacer(),\n",
    ")\n",
    "eo_panel = pn.Column(title_bar, pn.Row(time_slider), pn.Row(plot_ndvi))"
   ]
  },
  {
   "cell_type": "code",
   "execution_count": null,
   "id": "f8a76f4f-cf95-4918-83c0-3a007bf2bf7d",
   "metadata": {},
   "outputs": [],
   "source": [
    "eo_panel"
   ]
  },
  {
   "cell_type": "markdown",
   "id": "e8c1f2ad-8c56-42be-bd8d-cd7e55a74dfb",
   "metadata": {
    "tags": []
   },
   "source": [
    "### Make a timeseries plot from the data using HvPlot"
   ]
  },
  {
   "cell_type": "markdown",
   "id": "9e3f60fa-78f7-47fe-9247-cb1f10091065",
   "metadata": {},
   "source": [
    "Make a timeseries plot from the single image mean NDVI value within the masked NDVI layer"
   ]
  },
  {
   "cell_type": "code",
   "execution_count": null,
   "id": "8cbc75eb-b349-4b35-a54a-ec05092c0481",
   "metadata": {
    "tags": []
   },
   "outputs": [],
   "source": [
    "# make the plot; water hyacinth gets less over time (i.e. open water area grows), meaning mean ndvi goes up (this is other way around for S2 MPC data)\n",
    "\n",
    "df = ndvi_masked.mean(dim=[\"x\", \"y\"]).to_dataframe().reset_index()  # makes the compute\n",
    "# df.hvplot.line(x=\"time\", y=\"band_data\")\n",
    "df.plot.line(x=\"time\", y=\"band_data\")"
   ]
  },
  {
   "cell_type": "markdown",
   "id": "3411c1e2-80c5-474f-af84-afcdacea5b38",
   "metadata": {
    "tags": []
   },
   "source": [
    "Make a timeseries plot from the monthly resampled mean NDVI value within the masked NDVI layer"
   ]
  },
  {
   "cell_type": "code",
   "execution_count": null,
   "id": "429d6777-f7fb-4c71-aac3-03b3168a26d5",
   "metadata": {
    "tags": []
   },
   "outputs": [],
   "source": [
    "ndvi_masked[\"time\"] = pd.to_datetime(ndvi_masked[\"time\"])\n",
    "df = ndvi_masked.sortby(\"time\").resample(time=\"1M\").mean()  # over time (compute)\n",
    "dfm = (\n",
    "    df.mean(dim=[\"x\", \"y\"]).to_dataframe().reset_index()\n",
    ")  # over space (compute & write to df)\n",
    "# dfm.hvplot.line(x=\"time\", y=\"band_data\")\n",
    "dfm.plot.line(x=\"time\", y=\"band_data\")"
   ]
  },
  {
   "cell_type": "markdown",
   "id": "79bd05da-b14b-45b4-a8e5-9efe1037950a",
   "metadata": {
    "tags": []
   },
   "source": [
    "### Compute statistics"
   ]
  },
  {
   "cell_type": "markdown",
   "id": "52e06ea3-48ab-4c6d-928a-f3e82cee29a1",
   "metadata": {},
   "source": [
    "Compute statistics using the `.describe()` method for dataframes"
   ]
  },
  {
   "cell_type": "code",
   "execution_count": null,
   "id": "5c9d8097-d938-4a7d-9cf3-0860bc58d84f",
   "metadata": {
    "tags": []
   },
   "outputs": [],
   "source": [
    "dfm.band_data.describe()"
   ]
  },
  {
   "cell_type": "markdown",
   "id": "c47ce867-14a7-42f1-8f5c-576571f8b104",
   "metadata": {},
   "source": [
    "Close the cluster now that we are done with the analysis"
   ]
  },
  {
   "cell_type": "code",
   "execution_count": null,
   "id": "551b2a48-f94f-4c03-b55d-94a8898b0838",
   "metadata": {},
   "outputs": [],
   "source": [
    "# close the cluster\n",
    "client.close()"
   ]
  }
 ],
 "metadata": {
  "kernelspec": {
   "display_name": "Python [conda env:pysense]",
   "language": "python",
   "name": "conda-env-pysense-py"
  },
  "language_info": {
   "codemirror_mode": {
    "name": "ipython",
    "version": 3
   },
   "file_extension": ".py",
   "mimetype": "text/x-python",
   "name": "python",
   "nbconvert_exporter": "python",
   "pygments_lexer": "ipython3",
   "version": "3.11.4"
  }
 },
 "nbformat": 4,
 "nbformat_minor": 5
}
