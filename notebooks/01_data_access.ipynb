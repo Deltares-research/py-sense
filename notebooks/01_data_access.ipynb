{
 "cells": [
  {
   "cell_type": "markdown",
   "id": "25045498-92c8-4aed-9443-8559b213bacc",
   "metadata": {},
   "source": [
    "# Earth Observation data handling using Python"
   ]
  },
  {
   "cell_type": "markdown",
   "id": "647c581c",
   "metadata": {},
   "source": [
    "## 00 - Generics"
   ]
  },
  {
   "cell_type": "markdown",
   "id": "3841e418-8218-44ba-b067-d03b8e4afe40",
   "metadata": {},
   "source": [
    "### Add project directory to Python path\n",
    "\n",
    "This code defines two functions and retrieves the project directory path. It's useful when we want to define some generic functions that can be imported. If you retrieve the project directoy path like this, it both works in an Ipython and Python environment. \n",
    "\n",
    "- `is_interactive()`: Checks if the code is running in an interactive environment.\n",
    "- `get_proj_dir()`: Determines the project directory path based on the execution context. If running interactively, it infers the project directory from the Jupyter kernel. Otherwise, it infers it from the Python file. The function returns the project directory as a `pathlib.Path` object."
   ]
  },
  {
   "cell_type": "code",
   "execution_count": null,
   "id": "8a318014-bea5-41f6-8453-8b8464f45286",
   "metadata": {
    "execution": {
     "iopub.execute_input": "2023-06-26T08:21:28.789660Z",
     "iopub.status.busy": "2023-06-26T08:21:28.788341Z",
     "iopub.status.idle": "2023-06-26T08:21:28.802417Z",
     "shell.execute_reply": "2023-06-26T08:21:28.800897Z",
     "shell.execute_reply.started": "2023-06-26T08:21:28.789618Z"
    },
    "tags": []
   },
   "outputs": [],
   "source": [
    "import os\n",
    "import pathlib\n",
    "import sys\n",
    "\n",
    "\n",
    "def is_interactive() -> bool:\n",
    "    \"\"\"\n",
    "    Check if the Python code is running in an interactive environment.\n",
    "    \"\"\"\n",
    "    import __main__ as main\n",
    "\n",
    "    return not hasattr(main, \"__file__\")\n",
    "\n",
    "\n",
    "def get_proj_dir() -> pathlib.Path:\n",
    "    \"\"\"\n",
    "    Get the project directory path.\n",
    "\n",
    "    Returns:\n",
    "        A `pathlib.Path` object representing the project directory path.\n",
    "    \"\"\"\n",
    "    if is_interactive():\n",
    "        print(\"Inferring project directory from the Jupyter kernel.\")\n",
    "        cwd = pathlib.Path().resolve()\n",
    "        proj_dir = cwd.parent\n",
    "    else:\n",
    "        print(\"Inferring project directory from the Python file.\")\n",
    "        cwd = pathlib.Path(__file__)\n",
    "        proj_dir = cwd.parent.parent\n",
    "\n",
    "    return proj_dir\n",
    "\n",
    "\n",
    "proj_dir: pathlib.Path = get_proj_dir()\n",
    "sys.path.append(str(proj_dir / \"src\"))"
   ]
  },
  {
   "cell_type": "code",
   "execution_count": null,
   "id": "505f4928-8baa-4864-aea5-5af00a6078fe",
   "metadata": {
    "execution": {
     "iopub.execute_input": "2023-06-26T08:21:30.688816Z",
     "iopub.status.busy": "2023-06-26T08:21:30.688522Z",
     "iopub.status.idle": "2023-06-26T08:21:30.698424Z",
     "shell.execute_reply": "2023-06-26T08:21:30.697095Z",
     "shell.execute_reply.started": "2023-06-26T08:21:30.688794Z"
    },
    "tags": []
   },
   "outputs": [],
   "source": [
    "proj_dir"
   ]
  },
  {
   "cell_type": "markdown",
   "id": "b2e9adea-ab8e-4c20-bbea-2e7a8b4bc169",
   "metadata": {},
   "source": [
    "### Very extensive list of libraries - I'll cleanup later"
   ]
  },
  {
   "cell_type": "code",
   "execution_count": null,
   "id": "fee46249-33ee-4c65-85af-d27d37f81a5f",
   "metadata": {
    "execution": {
     "iopub.execute_input": "2023-06-26T08:21:36.825580Z",
     "iopub.status.busy": "2023-06-26T08:21:36.824313Z",
     "iopub.status.idle": "2023-06-26T08:21:47.410990Z",
     "shell.execute_reply": "2023-06-26T08:21:47.407746Z",
     "shell.execute_reply.started": "2023-06-26T08:21:36.825517Z"
    },
    "tags": []
   },
   "outputs": [],
   "source": [
    "import time\n",
    "import warnings\n",
    "from copy import deepcopy\n",
    "from typing import Any, Dict, List, Union\n",
    "\n",
    "import cartopy.crs as crs\n",
    "\n",
    "# import adlfs\n",
    "# import azure.storage.blob\n",
    "import colorcet as cc\n",
    "import dask\n",
    "import dask.array as da\n",
    "import dask.bag as db\n",
    "import dask.dataframe as dd\n",
    "\n",
    "# import dask_gateway\n",
    "import dask_geopandas\n",
    "import geopandas as gpd\n",
    "\n",
    "# import geoviews.tile_sources as gvts\n",
    "import holoviews as hv\n",
    "import hvplot.pandas  # noqa\n",
    "import hvplot.xarray  # noqa\n",
    "import matplotlib.pyplot as plt\n",
    "import numpy as np\n",
    "import pandas as pd\n",
    "import panel as pn\n",
    "import planetary_computer\n",
    "import pooch\n",
    "import pyproj\n",
    "import pystac\n",
    "import pystac_client\n",
    "import rasterio\n",
    "import rioxarray\n",
    "import rioxarray as rio\n",
    "import shapely\n",
    "import stackstac\n",
    "import tqdm\n",
    "import xarray as xr\n",
    "\n",
    "# from azure.storage.blob import BlobServiceClient\n",
    "from dask.distributed import Client\n",
    "from geopandas.array import GeometryDtype\n",
    "from ipyleaflet import Map, basemaps\n",
    "from matplotlib.colors import ListedColormap\n",
    "from odc.stac import configure_rio, stac_load\n",
    "from xrspatial.multispectral import true_color"
   ]
  },
  {
   "cell_type": "markdown",
   "id": "2240ec0c",
   "metadata": {},
   "source": [
    "## 01 - Data Access"
   ]
  },
  {
   "cell_type": "code",
   "execution_count": null,
   "id": "aaeb38b6-307d-433f-aff7-b796a140788a",
   "metadata": {
    "execution": {
     "iopub.execute_input": "2023-06-26T08:22:05.319615Z",
     "iopub.status.busy": "2023-06-26T08:22:05.319231Z",
     "iopub.status.idle": "2023-06-26T08:22:05.339073Z",
     "shell.execute_reply": "2023-06-26T08:22:05.337397Z",
     "shell.execute_reply.started": "2023-06-26T08:22:05.319587Z"
    },
    "tags": []
   },
   "outputs": [],
   "source": [
    "m = Map(basemap=basemaps.Esri.WorldImagery, scroll_wheel_zoom=True)\n",
    "m.center = 52.058, 4.192\n",
    "m.zoom = 14\n",
    "m.layout.height = \"800px\"\n",
    "m"
   ]
  },
  {
   "cell_type": "markdown",
   "id": "3413be0d-b95f-4545-9077-a885f84f5009",
   "metadata": {},
   "source": [
    "### EO team discussion point \n",
    "\n",
    "Do we show how to import generic functions from a project directory? Otherwise I'll just redefine the functions here in the notebook"
   ]
  },
  {
   "cell_type": "markdown",
   "id": "7587a186-9f4c-410e-b1c5-9fc544649325",
   "metadata": {},
   "source": [
    "### Extract the coords from the interactive map -- IMPORTANT: wait 2 seconds until map is rendered, othewise you cannot extract the coords"
   ]
  },
  {
   "cell_type": "code",
   "execution_count": null,
   "id": "75ff7aeb-a1ae-42b1-8cb3-01393d9ecead",
   "metadata": {
    "execution": {
     "iopub.execute_input": "2023-06-26T08:23:02.916994Z",
     "iopub.status.busy": "2023-06-26T08:23:02.916391Z",
     "iopub.status.idle": "2023-06-26T08:23:04.573129Z",
     "shell.execute_reply": "2023-06-26T08:23:04.570053Z",
     "shell.execute_reply.started": "2023-06-26T08:23:02.916931Z"
    },
    "tags": []
   },
   "outputs": [],
   "source": [
    "from coastmonitor.geo.geometries import bbox_to_geometry, geo_bbox, geometry_to_bbox\n",
    "\n",
    "bbox = [m.west, m.south, m.east, m.north]\n",
    "bbox_geom = bbox_to_geometry(bbox)\n",
    "geo_bbox(*bbox, src_crs=4326, dst_crs=4326).explore()"
   ]
  },
  {
   "cell_type": "markdown",
   "id": "a61566c9-0bae-490e-836f-999b95deb8a5",
   "metadata": {},
   "source": [
    "### Connect to the planetary STAC catalog"
   ]
  },
  {
   "cell_type": "code",
   "execution_count": null,
   "id": "1702235e-6871-4a40-99f0-cb09e51a01ca",
   "metadata": {
    "execution": {
     "iopub.execute_input": "2023-06-26T08:23:10.525971Z",
     "iopub.status.busy": "2023-06-26T08:23:10.525533Z",
     "iopub.status.idle": "2023-06-26T08:23:10.776366Z",
     "shell.execute_reply": "2023-06-26T08:23:10.767317Z",
     "shell.execute_reply.started": "2023-06-26T08:23:10.525935Z"
    },
    "tags": []
   },
   "outputs": [],
   "source": [
    "catalog = pystac_client.Client.open(\n",
    "    \"https://planetarycomputer.microsoft.com/api/stac/v1\",\n",
    "    modifier=planetary_computer.sign_inplace,\n",
    ")"
   ]
  },
  {
   "cell_type": "markdown",
   "id": "3381a239-7eaa-4436-96f4-a38e72501f26",
   "metadata": {},
   "source": [
    "### Browse contents of the collection"
   ]
  },
  {
   "cell_type": "code",
   "execution_count": null,
   "id": "dff409d8",
   "metadata": {
    "tags": []
   },
   "outputs": [],
   "source": [
    "list(\n",
    "    catalog.get_children()\n",
    ")  # list all the STAC Collections (i.e. datasets hosted by planetary computer)"
   ]
  },
  {
   "cell_type": "markdown",
   "id": "66276fe4-2437-4d09-a937-7428183c4608",
   "metadata": {},
   "source": [
    "### Browse the STAC catalog \n",
    "Search the Sentinel-2 SR catalog"
   ]
  },
  {
   "cell_type": "code",
   "execution_count": null,
   "id": "557919de-f315-4b15-8c0e-cc8b86753f63",
   "metadata": {
    "execution": {
     "iopub.execute_input": "2023-06-26T08:23:55.539696Z",
     "iopub.status.busy": "2023-06-26T08:23:55.538958Z",
     "iopub.status.idle": "2023-06-26T08:23:55.937035Z",
     "shell.execute_reply": "2023-06-26T08:23:55.933098Z",
     "shell.execute_reply.started": "2023-06-26T08:23:55.539666Z"
    },
    "tags": []
   },
   "outputs": [],
   "source": [
    "BAND = {\n",
    "    \"B02\": \"blue\",\n",
    "    \"B03\": \"green\",\n",
    "    \"B04\": \"red\",\n",
    "    \"B08\": \"nir\",\n",
    "    \"B11\": \"swir1\",\n",
    "    \"SCL\": \"SCL\",\n",
    "}\n",
    "\n",
    "search = catalog.search(\n",
    "    collections=[\n",
    "        \"sentinel-2-l2a\"\n",
    "    ],  # atmospherically corrected Surface Reflectances (SR)\n",
    "    intersects=bbox_geom,\n",
    "    datetime=\"2022-12-31/2023-05-01\",  # \"2020-01-01/2020-01-31\",\n",
    "    query={\"eo:cloud_cover\": {\"lt\": 50}},\n",
    ")\n",
    "\n",
    "items = search.item_collection()\n",
    "print(f\"{len(items)} items found in catalog search.\")"
   ]
  },
  {
   "cell_type": "markdown",
   "id": "72e6fa74-724e-4da5-8e2d-5df8cbb55276",
   "metadata": {},
   "source": [
    "### Planetary computer STAC catalog\n",
    "\n",
    "Microsoft Planetary Computer much more data; see [the catalog in the radiant earth STAC viewer](https://radiantearth.github.io/stac-browser/#/external/planetarycomputer.microsoft.com/api/stac/v1?.language=en). Other catalogs are the [C-Scale metadata federation](https://radiantearth.github.io/stac-browser/#/external/mqs.eodc.eu/stac/v1), [Digital Earth Africa (DEA)](https://radiantearth.github.io/stac-browser/#/external/explorer.digitalearth.africa/stac?.language=en) or [the Deltares CoCliCo](https://radiantearth.github.io/stac-browser/#/external/storage.googleapis.com/dgds-data-public/coclico/coclico-stac/catalog.json)\n"
   ]
  },
  {
   "cell_type": "markdown",
   "id": "f22d204b-4efa-44ba-9f3f-aacd65258b9c",
   "metadata": {},
   "source": [
    "### Explain a STAC item here\n",
    "\n",
    "- you can filter the STAC collection on all metadata that is shown here\n",
    "- the asset contains several keys which refer to where the data is stored for the bands"
   ]
  },
  {
   "cell_type": "code",
   "execution_count": null,
   "id": "8935cbe8-7464-4ad4-9970-7f6864f2c607",
   "metadata": {
    "execution": {
     "iopub.execute_input": "2023-06-26T08:24:39.883842Z",
     "iopub.status.busy": "2023-06-26T08:24:39.883475Z",
     "iopub.status.idle": "2023-06-26T08:24:39.928336Z",
     "shell.execute_reply": "2023-06-26T08:24:39.926932Z",
     "shell.execute_reply.started": "2023-06-26T08:24:39.883814Z"
    },
    "tags": []
   },
   "outputs": [],
   "source": [
    "items[0]"
   ]
  },
  {
   "cell_type": "code",
   "execution_count": null,
   "id": "6e7f31c0-404f-4c62-b585-e24f7578d644",
   "metadata": {
    "execution": {
     "iopub.execute_input": "2023-06-26T08:24:42.738497Z",
     "iopub.status.busy": "2023-06-26T08:24:42.737729Z",
     "iopub.status.idle": "2023-06-26T08:24:42.746258Z",
     "shell.execute_reply": "2023-06-26T08:24:42.744718Z",
     "shell.execute_reply.started": "2023-06-26T08:24:42.738466Z"
    },
    "tags": []
   },
   "outputs": [],
   "source": [
    "items[0].assets.keys()"
   ]
  },
  {
   "cell_type": "code",
   "execution_count": null,
   "id": "82fd47c2-447a-4201-bea9-5d7f9b74f9c3",
   "metadata": {
    "execution": {
     "iopub.execute_input": "2023-06-26T08:24:49.820044Z",
     "iopub.status.busy": "2023-06-26T08:24:49.819689Z",
     "iopub.status.idle": "2023-06-26T08:24:49.827173Z",
     "shell.execute_reply": "2023-06-26T08:24:49.825990Z",
     "shell.execute_reply.started": "2023-06-26T08:24:49.820019Z"
    },
    "tags": []
   },
   "outputs": [],
   "source": [
    "href = items[0].assets[\"rendered_preview\"].href\n",
    "href"
   ]
  },
  {
   "cell_type": "markdown",
   "id": "a0e435a1-5240-4b5a-9d3f-4267d170c3f6",
   "metadata": {},
   "source": [
    "### Show the preview in your python notebook. "
   ]
  },
  {
   "cell_type": "code",
   "execution_count": null,
   "id": "94384243-1889-4393-b5a7-016f5918c3cf",
   "metadata": {
    "execution": {
     "iopub.execute_input": "2023-06-26T08:24:58.858496Z",
     "iopub.status.busy": "2023-06-26T08:24:58.858142Z",
     "iopub.status.idle": "2023-06-26T08:25:01.435113Z",
     "shell.execute_reply": "2023-06-26T08:25:01.432949Z",
     "shell.execute_reply.started": "2023-06-26T08:24:58.858470Z"
    },
    "tags": []
   },
   "outputs": [],
   "source": [
    "import io\n",
    "import urllib.request\n",
    "\n",
    "import matplotlib.pyplot as plt\n",
    "\n",
    "# Download the image from the URL\n",
    "image = plt.imread(io.BytesIO(urllib.request.urlopen(href).read()))\n",
    "\n",
    "# Plot the image\n",
    "plt.imshow(image)\n",
    "plt.axis(\"off\")\n",
    "plt.show()"
   ]
  },
  {
   "cell_type": "markdown",
   "id": "fa63dedd-79a6-49ea-91fe-219e38fffa6c",
   "metadata": {
    "execution": {
     "iopub.execute_input": "2023-06-08T11:33:39.510661Z",
     "iopub.status.busy": "2023-06-08T11:33:39.510210Z",
     "iopub.status.idle": "2023-06-08T11:33:39.519358Z",
     "shell.execute_reply": "2023-06-08T11:33:39.518416Z",
     "shell.execute_reply.started": "2023-06-08T11:33:39.510637Z"
    },
    "tags": []
   },
   "source": [
    "### How much data do our STAC items refer to?\n",
    " \n",
    "The xarray.DataArray object has a total size of 80.84 GB (gigabytes), which is a very large file size - even though we only have data for a tiny piece of The Netherlands in a 4 month time period. \n",
    "\n",
    "The file size can make it challenging to work with the data on systems with limited storage capacity, but the use of chunking and parallel processing can help to mitigate this issue. The file is chunked into 8 MB (megabyte) blocks, with 10890 chunks in 3 graph layers. This chunking approach is used to enable parallel processing and optimize memory usage when working with large arrays. "
   ]
  },
  {
   "cell_type": "code",
   "execution_count": null,
   "id": "547e2b9e-38c5-4917-8db7-1b17ba8c87a0",
   "metadata": {
    "execution": {
     "iopub.execute_input": "2023-06-26T08:26:38.881537Z",
     "iopub.status.busy": "2023-06-26T08:26:38.880962Z",
     "iopub.status.idle": "2023-06-26T08:26:39.005320Z",
     "shell.execute_reply": "2023-06-26T08:26:39.003286Z",
     "shell.execute_reply.started": "2023-06-26T08:26:38.881506Z"
    },
    "tags": []
   },
   "outputs": [],
   "source": [
    "stackstac.stack(items, resolution=10, assets=list(BAND.keys()))"
   ]
  },
  {
   "cell_type": "code",
   "execution_count": null,
   "id": "4ca82c28-2497-4e06-a4a3-eac91d054063",
   "metadata": {
    "execution": {
     "iopub.execute_input": "2023-06-26T08:27:51.597679Z",
     "iopub.status.busy": "2023-06-26T08:27:51.597317Z",
     "iopub.status.idle": "2023-06-26T08:27:51.683507Z",
     "shell.execute_reply": "2023-06-26T08:27:51.681973Z",
     "shell.execute_reply.started": "2023-06-26T08:27:51.597655Z"
    },
    "tags": []
   },
   "outputs": [],
   "source": [
    "# stackstac contains many more arguments to filter the data (on the bounding box, a certain number of bands and by sorting the dates for instance)\n",
    "stack = stackstac.stack(\n",
    "    items,\n",
    "    # epsg=3857,  # if you want to cast the data to a common crs\n",
    "    assets=list(BAND.keys()),\n",
    "    bounds_latlon=bbox,\n",
    "    sortby_date=\"desc\",  # maybe you want to sort the data by date?\n",
    ")\n",
    "stack"
   ]
  },
  {
   "cell_type": "markdown",
   "id": "5140da93-3ad7-463b-946f-783c25a6aece",
   "metadata": {},
   "source": [
    "## 02 - Data processing"
   ]
  },
  {
   "cell_type": "markdown",
   "id": "72883b8d",
   "metadata": {},
   "source": [
    "### Local Dask cluster\n",
    "\n",
    "Here we launch a local Dask cluster, a Python-based multiprocessing library, which will speed up the computation. The cluster we make here is local, when you want to upscale your computations you should use a Dask gateway, hosted on a remote server, close to the data."
   ]
  },
  {
   "cell_type": "code",
   "execution_count": null,
   "id": "f5cd4631",
   "metadata": {
    "execution": {
     "iopub.execute_input": "2023-06-26T08:31:54.398940Z",
     "iopub.status.busy": "2023-06-26T08:31:54.398630Z",
     "iopub.status.idle": "2023-06-26T08:31:56.182129Z",
     "shell.execute_reply": "2023-06-26T08:31:56.179793Z",
     "shell.execute_reply.started": "2023-06-26T08:31:54.398918Z"
    },
    "tags": []
   },
   "outputs": [],
   "source": [
    "# when running locally (parallel)\n",
    "client = Client(\n",
    "    threads_per_worker=1,\n",
    "    processes=True,\n",
    "    local_directory=\"/tmp\",\n",
    ")\n",
    "client\n",
    "\n",
    "# asking for plots (.plot()) or numerical values (.compute()) will trigger the computation, which you can see in the dask dashboard"
   ]
  },
  {
   "cell_type": "markdown",
   "id": "3698f1f1",
   "metadata": {},
   "source": [
    "### Example: NDWI\n",
    "Nothing is computed yet. Look at ndwi datarray, they are all dask arrays (lazy). NDWI is used to seperate land and water and forms the basis of shoreline detection algorithms for instance."
   ]
  },
  {
   "cell_type": "code",
   "execution_count": null,
   "id": "a8b22a49",
   "metadata": {
    "execution": {
     "iopub.execute_input": "2023-06-26T08:31:59.456763Z",
     "iopub.status.busy": "2023-06-26T08:31:59.456402Z",
     "iopub.status.idle": "2023-06-26T08:31:59.667709Z",
     "shell.execute_reply": "2023-06-26T08:31:59.662919Z",
     "shell.execute_reply.started": "2023-06-26T08:31:59.456739Z"
    },
    "tags": []
   },
   "outputs": [],
   "source": [
    "green = stack.sel({\"band\": \"B03\"})\n",
    "nir = stack.sel({\"band\": \"B08\"})\n",
    "ndwi = (green - nir) / (green + nir)  # this is still a lazy Dask computation\n",
    "ndwi"
   ]
  },
  {
   "cell_type": "markdown",
   "id": "f1dc974c",
   "metadata": {},
   "source": [
    "By making a plot or computing the values, all scheduled tasks are triggered and the data is brought into memory. This therefore takes somewhat longer.."
   ]
  },
  {
   "cell_type": "code",
   "execution_count": null,
   "id": "bc486d38",
   "metadata": {
    "execution": {
     "iopub.execute_input": "2023-06-26T08:32:01.126739Z",
     "iopub.status.busy": "2023-06-26T08:32:01.126434Z",
     "iopub.status.idle": "2023-06-26T08:32:11.440927Z",
     "shell.execute_reply": "2023-06-26T08:32:11.436997Z",
     "shell.execute_reply.started": "2023-06-26T08:32:01.126715Z"
    },
    "tags": []
   },
   "outputs": [],
   "source": [
    "# make plot\n",
    "ndwi.isel({\"time\": 0}).hvplot(x=\"x\", y=\"y\", cmap=cc.CET_D9[::-1], data_aspect=1)"
   ]
  },
  {
   "cell_type": "code",
   "execution_count": null,
   "id": "11ee971c",
   "metadata": {
    "execution": {
     "iopub.execute_input": "2023-06-26T08:32:19.028033Z",
     "iopub.status.busy": "2023-06-26T08:32:19.026956Z",
     "iopub.status.idle": "2023-06-26T08:32:19.983846Z",
     "shell.execute_reply": "2023-06-26T08:32:19.969845Z",
     "shell.execute_reply.started": "2023-06-26T08:32:19.027982Z"
    },
    "tags": []
   },
   "outputs": [],
   "source": [
    "# compute values\n",
    "ndwi_val = ndwi.isel({\"time\": 0}).compute()\n",
    "ndwi_val.shape, ndwi_val"
   ]
  },
  {
   "cell_type": "markdown",
   "id": "51a98066",
   "metadata": {},
   "source": [
    "### Example: Compositing (RGB)\n",
    "By compositing, we can get rid of the clouds in individual images. Hence, we create a clean & average image in case we have enough individual images in the data array"
   ]
  },
  {
   "cell_type": "code",
   "execution_count": null,
   "id": "50248ad7",
   "metadata": {
    "execution": {
     "iopub.execute_input": "2023-06-26T08:32:23.824598Z",
     "iopub.status.busy": "2023-06-26T08:32:23.824274Z",
     "iopub.status.idle": "2023-06-26T08:33:32.879768Z",
     "shell.execute_reply": "2023-06-26T08:33:32.877806Z",
     "shell.execute_reply.started": "2023-06-26T08:32:23.824555Z"
    },
    "tags": []
   },
   "outputs": [],
   "source": [
    "median = stack.median(\"time\")\n",
    "\n",
    "median_rgb = true_color(\n",
    "    median.isel(band=0),\n",
    "    median.isel(band=1),\n",
    "    median.isel(band=2),\n",
    ")\n",
    "median_rgb.isel({\"band\": slice(0, 3)}).hvplot.rgb(\n",
    "    bands=\"band\", y=\"y\", x=\"x\", data_aspect=1\n",
    ")"
   ]
  },
  {
   "cell_type": "markdown",
   "id": "67d3b973",
   "metadata": {},
   "source": [
    "### Example: Scene classification\n",
    "There are many classification algorithms out there, but ESA has incorporated its very own in the Sentinel-2 processing pipeline. This one is readily available as band data."
   ]
  },
  {
   "cell_type": "code",
   "execution_count": null,
   "id": "3e21e4b1",
   "metadata": {
    "execution": {
     "iopub.execute_input": "2023-06-26T08:34:01.567944Z",
     "iopub.status.busy": "2023-06-26T08:34:01.567368Z",
     "iopub.status.idle": "2023-06-26T08:34:01.584102Z",
     "shell.execute_reply": "2023-06-26T08:34:01.581225Z",
     "shell.execute_reply.started": "2023-06-26T08:34:01.567914Z"
    },
    "tags": []
   },
   "outputs": [],
   "source": [
    "scl_colormap = np.array(\n",
    "    [\n",
    "        [255, 0, 255, 255],  # 0  - NODATA\n",
    "        [255, 0, 4, 255],  # 1  - Saturated or Defective\n",
    "        [0, 0, 0, 255],  # 2  - Dark Areas\n",
    "        [97, 97, 97, 255],  # 3  - Cloud Shadow\n",
    "        [3, 139, 80, 255],  # 4  - Vegetation\n",
    "        [192, 132, 12, 255],  # 5  - Bare Ground\n",
    "        [21, 103, 141, 255],  # 6  - Water\n",
    "        [117, 0, 27, 255],  # 7  - Unclassified\n",
    "        [208, 208, 208, 255],  # 8  - Cloud\n",
    "        [244, 244, 244, 255],  # 9  - Definitely Cloud\n",
    "        [195, 231, 240, 255],  # 10 - Thin Cloud\n",
    "        [222, 157, 204, 255],  # 11 - Snow or Ice\n",
    "    ],\n",
    "    dtype=\"uint8\",\n",
    ")\n",
    "\n",
    "scl_items = np.array(\n",
    "    [\n",
    "        \"NO DATA\",\n",
    "        \"Saturated or Defective\",\n",
    "        \"Dark areas\",\n",
    "        \"Cloud shadow\",\n",
    "        \"Vegetation\",\n",
    "        \"Bare Ground\",\n",
    "        \"Water\",\n",
    "        \"Unclassified\",\n",
    "        \"Cloud\",\n",
    "        \"Definitely cloud\",\n",
    "        \"Thin cloud\",\n",
    "        \"Snow or ice\",\n",
    "    ]\n",
    ")\n",
    "\n",
    "cmap = ListedColormap(scl_colormap / 255)\n",
    "colors = cmap(np.arange(cmap.N))\n",
    "\n",
    "\n",
    "def colorize(ds, colormap):\n",
    "    return xr.DataArray(colormap[ds.data], coords=ds.coords, dims=(*ds.dims, \"channel\"))"
   ]
  },
  {
   "cell_type": "code",
   "execution_count": null,
   "id": "32468e0c",
   "metadata": {
    "execution": {
     "iopub.execute_input": "2023-06-26T08:34:01.680766Z",
     "iopub.status.busy": "2023-06-26T08:34:01.679400Z",
     "iopub.status.idle": "2023-06-26T08:34:02.094687Z",
     "shell.execute_reply": "2023-06-26T08:34:02.092499Z",
     "shell.execute_reply.started": "2023-06-26T08:34:01.680728Z"
    },
    "tags": []
   },
   "outputs": [],
   "source": [
    "fig, ax = plt.subplots(\n",
    "    1,\n",
    "    figsize=(6, 1),\n",
    "    subplot_kw=dict(xticks=np.arange(0.5, len(scl_colormap), 1), yticks=[]),\n",
    ")\n",
    "ax.imshow([colors], extent=[0, 12, 0, 1])\n",
    "ax.set_xticklabels(scl_items, rotation=30, ha=\"right\");"
   ]
  },
  {
   "cell_type": "code",
   "execution_count": null,
   "id": "cce5ad11",
   "metadata": {
    "execution": {
     "iopub.execute_input": "2023-06-26T08:34:16.163782Z",
     "iopub.status.busy": "2023-06-26T08:34:16.163222Z",
     "iopub.status.idle": "2023-06-26T08:34:16.765630Z",
     "shell.execute_reply": "2023-06-26T08:34:16.764186Z",
     "shell.execute_reply.started": "2023-06-26T08:34:16.163734Z"
    },
    "tags": []
   },
   "outputs": [],
   "source": [
    "SCL = stack.isel({\"time\": 0}).sel({\"band\": \"SCL\"})\n",
    "scl_rgba = colorize(SCL.compute().astype(\"int\"), scl_colormap)  # does the computation\n",
    "scl_rgba.hvplot.rgb(x=\"x\", y=\"y\", bands=\"channel\", data_aspect=1)  # does the plotting"
   ]
  },
  {
   "cell_type": "markdown",
   "id": "6480e1f4",
   "metadata": {},
   "source": [
    "### More extensive example with other STAC: NDVI\n",
    "Here, we are detecting water hyacinth dynamics in Lake Victoria (specifically the Winam Gulf) using the NDVI. This is done by using the STAC from Digital Earth Africa (DEA)."
   ]
  },
  {
   "cell_type": "code",
   "execution_count": null,
   "id": "244704f9",
   "metadata": {
    "execution": {
     "iopub.execute_input": "2023-06-26T08:34:52.818068Z",
     "iopub.status.busy": "2023-06-26T08:34:52.817104Z",
     "iopub.status.idle": "2023-06-26T08:34:52.868659Z",
     "shell.execute_reply": "2023-06-26T08:34:52.865210Z",
     "shell.execute_reply.started": "2023-06-26T08:34:52.818007Z"
    },
    "tags": []
   },
   "outputs": [],
   "source": [
    "# water hyacinth in Winam Gulf for the month\n",
    "\n",
    "m = Map(basemap=basemaps.Esri.WorldImagery, scroll_wheel_zoom=True)\n",
    "m.center = -0.14, 34.68\n",
    "m.zoom = 13\n",
    "m.layout.height = \"700px\"\n",
    "m"
   ]
  },
  {
   "cell_type": "markdown",
   "id": "cc681b0f-c662-4736-a1a1-5b46c488f256",
   "metadata": {},
   "source": [
    "## DEA and their STAC plus loader\n",
    "\n",
    "The DEA STAC contains a number of post-processed datasets that are developed by them, like a mangrove extent layer as part of the Global Mangrove Watch. This STAC is approached differently than the MPC STAC. DEA chose to use the STAC as endpoint for listing or searching metadata. Access could be arranged in their managed analysis sandbox environment with limited computing resources. This has a couple of drawbacks, amongst others the inability of connecting to other datasets. To overcome this, they also provide a Open Data Cube STAC (odc-stac) python package. This consists of a set of tools to access DEA's STAC datasets in your own environment of choice. "
   ]
  },
  {
   "cell_type": "code",
   "execution_count": null,
   "id": "80987058",
   "metadata": {
    "execution": {
     "iopub.execute_input": "2023-06-26T08:37:24.018401Z",
     "iopub.status.busy": "2023-06-26T08:37:24.018071Z",
     "iopub.status.idle": "2023-06-26T08:37:29.401394Z",
     "shell.execute_reply": "2023-06-26T08:37:29.393123Z",
     "shell.execute_reply.started": "2023-06-26T08:37:24.018378Z"
    },
    "tags": []
   },
   "outputs": [],
   "source": [
    "# Open the stac catalogue\n",
    "catalog2 = pystac_client.Client.open(\"https://explorer.digitalearth.africa/stac\")\n",
    "\n",
    "# get the bounding box\n",
    "bbox = [m.west, m.south, m.east, m.north]\n",
    "\n",
    "# change the rasterio configuration\n",
    "configure_rio(\n",
    "    cloud_defaults=True,\n",
    "    aws={\"aws_unsigned\": True},\n",
    "    AWS_S3_ENDPOINT=\"s3.af-south-1.amazonaws.com\",\n",
    ")\n",
    "\n",
    "# Set a start and end date\n",
    "start_date = \"2020-01-01\"\n",
    "end_date = \"2020-01-31\"\n",
    "\n",
    "# Set the STAC collections\n",
    "collections = [\"s2_l2a\"]\n",
    "\n",
    "# Build a query with the set parameters\n",
    "query = catalog2.search(\n",
    "    bbox=bbox, collections=collections, datetime=f\"{start_date}/{end_date}\"\n",
    ")\n",
    "\n",
    "# Search the STAC catalog for all items matching the query\n",
    "items = list(query.get_items())\n",
    "print(f\"Found: {len(items):d} items in the catalog\")\n",
    "\n",
    "# filter out items with cloud cover\n",
    "items = [i for i in items if i.properties[\"eo:cloud_cover\"] < 30]"
   ]
  },
  {
   "cell_type": "code",
   "execution_count": null,
   "id": "12bf326a",
   "metadata": {
    "execution": {
     "iopub.execute_input": "2023-06-26T08:37:50.134720Z",
     "iopub.status.busy": "2023-06-26T08:37:50.134421Z",
     "iopub.status.idle": "2023-06-26T08:37:50.667106Z",
     "shell.execute_reply": "2023-06-26T08:37:50.663346Z",
     "shell.execute_reply.started": "2023-06-26T08:37:50.134698Z"
    },
    "tags": []
   },
   "outputs": [],
   "source": [
    "# set config file for DEA STAC loader\n",
    "config = {\n",
    "    \"s2_l2a\": {\n",
    "        \"assets\": {\n",
    "            \"*\": {\n",
    "                \"data_type\": \"uint16\",\n",
    "                \"nodata\": 0,\n",
    "                \"unit\": \"1\",\n",
    "            },\n",
    "            \"SCL\": {\n",
    "                \"data_type\": \"uint8\",\n",
    "                \"nodata\": 0,\n",
    "                \"unit\": \"1\",\n",
    "            },\n",
    "        },\n",
    "        \"aliases\": {\n",
    "            \"costal_aerosol\": \"B01\",\n",
    "            \"blue\": \"B02\",\n",
    "            \"green\": \"B03\",\n",
    "            \"red\": \"B04\",\n",
    "            \"red_edge_1\": \"B05\",\n",
    "            \"red_edge_2\": \"B06\",\n",
    "            \"red_edge_3\": \"B07\",\n",
    "            \"nir\": \"B08\",\n",
    "            \"nir_narrow\": \"B08A\",\n",
    "            \"water_vapour\": \"B09\",\n",
    "            \"swir_1\": \"B11\",\n",
    "            \"swir_2\": \"B12\",\n",
    "            \"mask\": \"SCL\",\n",
    "            \"aerosol_optical_thickness\": \"AOT\",\n",
    "            \"scene_average_water_vapour\": \"WVP\",\n",
    "        },\n",
    "    }\n",
    "}\n",
    "\n",
    "crs = \"EPSG:6933\"\n",
    "resolution = 10\n",
    "\n",
    "ds = stac_load(\n",
    "    items,\n",
    "    bands=(\"red\", \"green\", \"blue\", \"nir\"),\n",
    "    crs=crs,\n",
    "    resolution=resolution,\n",
    "    chunks={},\n",
    "    groupby=\"solar_day\",\n",
    "    stac_cfg=config,\n",
    "    bbox=bbox,\n",
    ") * 0.0001  # DEA does no normalization of the sentinel bands\n",
    "\n",
    "\n",
    "# View the Xarray Dataset\n",
    "ds"
   ]
  },
  {
   "cell_type": "code",
   "execution_count": null,
   "id": "4bdf4c4f-69c3-430d-889e-102738c5567b",
   "metadata": {
    "execution": {
     "iopub.execute_input": "2023-06-26T08:37:56.094019Z",
     "iopub.status.busy": "2023-06-26T08:37:56.093713Z",
     "iopub.status.idle": "2023-06-26T08:37:56.103886Z",
     "shell.execute_reply": "2023-06-26T08:37:56.101640Z",
     "shell.execute_reply.started": "2023-06-26T08:37:56.093996Z"
    },
    "tags": []
   },
   "outputs": [],
   "source": [
    "red = ds[\"red\"]\n",
    "nir = ds[\"nir\"]"
   ]
  },
  {
   "cell_type": "code",
   "execution_count": null,
   "id": "c82f2cfe",
   "metadata": {
    "execution": {
     "iopub.execute_input": "2023-06-26T08:37:56.788920Z",
     "iopub.status.busy": "2023-06-26T08:37:56.788633Z",
     "iopub.status.idle": "2023-06-26T08:37:56.806502Z",
     "shell.execute_reply": "2023-06-26T08:37:56.805275Z",
     "shell.execute_reply.started": "2023-06-26T08:37:56.788898Z"
    },
    "tags": []
   },
   "outputs": [],
   "source": [
    "# compute NDVI\n",
    "ndvi = (nir - red) / (nir + red)  # this is still a lazy Dask computation"
   ]
  },
  {
   "cell_type": "code",
   "execution_count": null,
   "id": "bfb39b7d-42b9-454c-b052-8b294d48fdcf",
   "metadata": {
    "execution": {
     "iopub.execute_input": "2023-06-26T08:37:59.383076Z",
     "iopub.status.busy": "2023-06-26T08:37:59.382747Z",
     "iopub.status.idle": "2023-06-26T08:37:59.408300Z",
     "shell.execute_reply": "2023-06-26T08:37:59.406489Z",
     "shell.execute_reply.started": "2023-06-26T08:37:59.383053Z"
    },
    "tags": []
   },
   "outputs": [],
   "source": [
    "ndvi"
   ]
  },
  {
   "cell_type": "code",
   "execution_count": null,
   "id": "38989491-9f84-4c31-8e09-6eebab7517bc",
   "metadata": {
    "execution": {
     "iopub.execute_input": "2023-06-26T08:38:00.576271Z",
     "iopub.status.busy": "2023-06-26T08:38:00.575969Z",
     "iopub.status.idle": "2023-06-26T08:38:11.457127Z",
     "shell.execute_reply": "2023-06-26T08:38:11.454796Z",
     "shell.execute_reply.started": "2023-06-26T08:38:00.576248Z"
    },
    "tags": []
   },
   "outputs": [],
   "source": [
    "ndvi_da = ndvi.compute()  # make the compute"
   ]
  },
  {
   "cell_type": "code",
   "execution_count": null,
   "id": "86ab008e",
   "metadata": {
    "execution": {
     "iopub.execute_input": "2023-06-26T08:38:15.170012Z",
     "iopub.status.busy": "2023-06-26T08:38:15.168873Z",
     "iopub.status.idle": "2023-06-26T08:38:30.203262Z",
     "shell.execute_reply": "2023-06-26T08:38:30.202040Z",
     "shell.execute_reply.started": "2023-06-26T08:38:15.169969Z"
    },
    "tags": []
   },
   "outputs": [],
   "source": [
    "# make plot, this might take a while\n",
    "# compare with: https://www.facebook.com/LocateitLimited/videos/water-hyacinth-earth-observatory-lake-victoria/2757490344316232/\n",
    "ndvi_da.plot(col=\"time\", col_wrap=4, vmin=-0.6, vmax=1)"
   ]
  },
  {
   "cell_type": "code",
   "execution_count": null,
   "id": "5029005f",
   "metadata": {
    "execution": {
     "iopub.execute_input": "2023-06-26T08:40:24.289561Z",
     "iopub.status.busy": "2023-06-26T08:40:24.286853Z",
     "iopub.status.idle": "2023-06-26T08:40:30.949512Z",
     "shell.execute_reply": "2023-06-26T08:40:30.947311Z",
     "shell.execute_reply.started": "2023-06-26T08:40:24.289480Z"
    },
    "tags": []
   },
   "outputs": [],
   "source": [
    "# make the plot; water hyacinth gets less over time (i.e. open water area grows), meaning mean ndvi goes down\n",
    "df = (\n",
    "    ndvi.mean(dim=[\"x\", \"y\"]).to_dataframe(name=\"ndvi\").reset_index()\n",
    ")  # makes the compute\n",
    "df.hvplot.line(x=\"time\", y=\"ndvi\")"
   ]
  },
  {
   "cell_type": "markdown",
   "id": "8df89cb9-3bf0-420c-a16f-8d2aa8e4338e",
   "metadata": {},
   "source": [
    "### Small Exercise\n",
    "Can you monitor water hyacinth dynamics for another area in the Winam Gulf by re-using the code above?"
   ]
  },
  {
   "cell_type": "markdown",
   "id": "5dcc9c8f",
   "metadata": {},
   "source": [
    "### Cloud (Dask cluster)\n",
    "\n",
    "Some computations require more power than available on a local (parallelized) cluster. All code shown above is scalable and works in the cloud or at Deltares' own HPC as well when a dask gateway is set up (i.s.o local cluster). This requires access to these remote desktops in advance. For example, you could place your algorithms in the cloud close to where the data is stored, which significantly speeds up your computation."
   ]
  },
  {
   "cell_type": "markdown",
   "id": "f5588aff",
   "metadata": {
    "tags": []
   },
   "source": [
    "### More advanced\n",
    "\n",
    "Almost all of xarrays built-in operations work on Dask arrays. Yet, if you want to use a function that isn't wrapped by xarray, one can use `apply_(g)ufunc` or `map_blocks` where you can automate embarrasingly parallel \"map\" type operations from NumPy arrays to Xarray objects with Dask arrays or across all blocks of a Dask array."
   ]
  },
  {
   "cell_type": "markdown",
   "id": "e8e3c724",
   "metadata": {},
   "source": [
    "When running computations on a Dask cluster (local or cloud), the code needs to be executed on the worker nodes in the cluster. Uploading a Python file to the Dask workers ensures that the required functions and modules are available to the workers when executing the code. This can be achieved by running `client.upload_file(\"xx.py\")`"
   ]
  },
  {
   "cell_type": "markdown",
   "id": "2ec0c933-7885-4100-ab94-260591c1082f",
   "metadata": {},
   "source": [
    "## 03 - Data Visualization"
   ]
  },
  {
   "cell_type": "markdown",
   "id": "a3dd92b5-2204-463b-9be5-061cff69e15f",
   "metadata": {},
   "source": [
    "It this part, the holoviz ecosystem of visualization tools is explored. All these packages are quite high level and often depend on other packages. Most of the packages in this ecosystem depend on Holoviews, which we will explore first."
   ]
  },
  {
   "cell_type": "code",
   "execution_count": null,
   "id": "53f1a252-118b-4338-905b-ff80c7fbba80",
   "metadata": {
    "execution": {
     "iopub.execute_input": "2023-06-26T09:41:11.915832Z",
     "iopub.status.busy": "2023-06-26T09:41:11.914176Z",
     "iopub.status.idle": "2023-06-26T09:41:12.047706Z",
     "shell.execute_reply": "2023-06-26T09:41:12.046940Z",
     "shell.execute_reply.started": "2023-06-26T09:41:11.915797Z"
    },
    "tags": []
   },
   "outputs": [],
   "source": [
    "import holoviews as hv\n",
    "hv.extension('bokeh')"
   ]
  },
  {
   "cell_type": "code",
   "execution_count": null,
   "id": "98ce2d8d-e790-4954-84ca-d5f2c769598b",
   "metadata": {
    "execution": {
     "iopub.execute_input": "2023-06-26T09:41:12.957186Z",
     "iopub.status.busy": "2023-06-26T09:41:12.956277Z",
     "iopub.status.idle": "2023-06-26T09:41:12.966523Z",
     "shell.execute_reply": "2023-06-26T09:41:12.965088Z",
     "shell.execute_reply.started": "2023-06-26T09:41:12.957147Z"
    },
    "tags": []
   },
   "outputs": [],
   "source": [
    "# Example data\n",
    "xs = range(-10,11)\n",
    "ys = [100-x**2 for x in xs]"
   ]
  },
  {
   "cell_type": "code",
   "execution_count": null,
   "id": "12070684-806e-4405-889a-7c1d8f9da592",
   "metadata": {
    "execution": {
     "iopub.execute_input": "2023-06-26T09:41:13.714111Z",
     "iopub.status.busy": "2023-06-26T09:41:13.712965Z",
     "iopub.status.idle": "2023-06-26T09:41:13.879029Z",
     "shell.execute_reply": "2023-06-26T09:41:13.877689Z",
     "shell.execute_reply.started": "2023-06-26T09:41:13.714073Z"
    },
    "tags": []
   },
   "outputs": [],
   "source": [
    "wo_unit = hv.Curve((xs, ys), \n",
    "                   ('distance','Horizontal distance'), \n",
    "                   ('height','Height above sea level'))\n",
    "\n",
    "distance = hv.Dimension('distance', label='Horizontal distance', unit='m')\n",
    "height = hv.Dimension(('height','Height above sea level'), unit='m')\n",
    "with_unit = hv.Curve((xs, ys), distance, height)\n",
    "\n",
    "# (using + to compose elements is described in the next guide)\n",
    "wo_unit + with_unit"
   ]
  },
  {
   "cell_type": "markdown",
   "id": "a759bbf1-f955-448f-8b57-680f95a1a9ba",
   "metadata": {},
   "source": [
    "## Dimensioned Containers\n",
    "\n",
    "`HoloMap` is excuted eagerly and can be exported to HTML!"
   ]
  },
  {
   "cell_type": "code",
   "execution_count": null,
   "id": "24172b78-78ec-4872-8b73-4fd89d370a30",
   "metadata": {
    "execution": {
     "iopub.execute_input": "2023-06-26T09:41:18.095350Z",
     "iopub.status.busy": "2023-06-26T09:41:18.094909Z",
     "iopub.status.idle": "2023-06-26T09:41:18.217853Z",
     "shell.execute_reply": "2023-06-26T09:41:18.216658Z",
     "shell.execute_reply.started": "2023-06-26T09:41:18.095322Z"
    },
    "tags": []
   },
   "outputs": [],
   "source": [
    "import numpy as np\n",
    "\n",
    "from holoviews import opts\n",
    "\n",
    "hv.extension('bokeh')\n",
    "\n",
    "opts.defaults(opts.Curve(line_width=1))"
   ]
  },
  {
   "cell_type": "code",
   "execution_count": null,
   "id": "9fc2503d-68f6-4f4e-b734-88c553643610",
   "metadata": {
    "execution": {
     "iopub.execute_input": "2023-06-26T09:41:19.079557Z",
     "iopub.status.busy": "2023-06-26T09:41:19.079255Z",
     "iopub.status.idle": "2023-06-26T09:41:19.715943Z",
     "shell.execute_reply": "2023-06-26T09:41:19.713522Z",
     "shell.execute_reply.started": "2023-06-26T09:41:19.079535Z"
    },
    "tags": []
   },
   "outputs": [],
   "source": [
    "def fm_modulation(f_carrier=220, f_mod=220, mod_index=1, length=0.1, sampleRate=2000):\n",
    "    sampleInc = 1.0/sampleRate\n",
    "    x = np.arange(0,length, sampleInc)\n",
    "    y = np.sin(2*np.pi*f_carrier*x + mod_index*np.sin(2*np.pi*f_mod*x))\n",
    "    return hv.Curve((x, y), 'Time', 'Amplitude')\n",
    "\n",
    "f_carrier = np.linspace(20, 60, 3)\n",
    "f_mod = np.linspace(20, 100, 5)\n",
    "\n",
    "curve_dict = {(fc, fm): fm_modulation(fc, fm) for fc in f_carrier for fm in f_mod}\n",
    "\n",
    "kdims = [hv.Dimension(('f_carrier', 'Carrier frequency'), default=40),\n",
    "         hv.Dimension(('f_mod', 'Modulation frequency'), default=60)]\n",
    "holomap = hv.HoloMap(curve_dict, kdims=kdims)\n",
    "holomap.opts(opts.Curve(width=600))"
   ]
  },
  {
   "cell_type": "markdown",
   "id": "60759701-2d1c-431e-8c62-fdf93dba8887",
   "metadata": {},
   "source": [
    "For less interactive, more overlay styles, the following can collapse a `HoloMap`\n",
    "\n",
    "`NdOverlay` - An n-dimensional container which overlays the elements\n",
    "\n",
    "`NdLayout` - An n-dimensional container which displays the data in separate plot axes and adds titles for each value\n",
    "\n",
    "`GridSpace` - A 1D or 2D container which lays out up to two dimensions on a grid."
   ]
  },
  {
   "cell_type": "code",
   "execution_count": null,
   "id": "f76a3f83-8408-4671-9c76-27e1f208a1e0",
   "metadata": {
    "execution": {
     "iopub.execute_input": "2023-06-26T09:41:22.214298Z",
     "iopub.status.busy": "2023-06-26T09:41:22.212699Z",
     "iopub.status.idle": "2023-06-26T09:41:23.006833Z",
     "shell.execute_reply": "2023-06-26T09:41:23.004139Z",
     "shell.execute_reply.started": "2023-06-26T09:41:22.214273Z"
    },
    "tags": []
   },
   "outputs": [],
   "source": [
    "grid = hv.GridSpace(holomap)\n",
    "grid.opts(\n",
    "    opts.GridSpace(plot_size=75),\n",
    "    opts.Curve(width=100))"
   ]
  },
  {
   "cell_type": "markdown",
   "id": "5cf65de3-3bce-4a10-94a5-ab802eebf7c3",
   "metadata": {},
   "source": [
    "## Dynamic Data\n",
    "For lazy execution, we can use `DynamicMap`"
   ]
  },
  {
   "cell_type": "code",
   "execution_count": null,
   "id": "9ecfa98a-bb6a-4dad-8272-e2ae8c5a16ad",
   "metadata": {
    "execution": {
     "iopub.execute_input": "2023-06-26T09:41:24.512455Z",
     "iopub.status.busy": "2023-06-26T09:41:24.511842Z",
     "iopub.status.idle": "2023-06-26T09:41:24.783703Z",
     "shell.execute_reply": "2023-06-26T09:41:24.776478Z",
     "shell.execute_reply.started": "2023-06-26T09:41:24.512433Z"
    },
    "tags": []
   },
   "outputs": [],
   "source": [
    "hv.extension('matplotlib')"
   ]
  },
  {
   "cell_type": "code",
   "execution_count": null,
   "id": "35f1e686-5c13-49b3-a9e0-ecf04e1d4597",
   "metadata": {
    "execution": {
     "iopub.execute_input": "2023-06-26T09:41:25.587348Z",
     "iopub.status.busy": "2023-06-26T09:41:25.587043Z",
     "iopub.status.idle": "2023-06-26T09:41:26.327333Z",
     "shell.execute_reply": "2023-06-26T09:41:26.324670Z",
     "shell.execute_reply.started": "2023-06-26T09:41:25.587325Z"
    },
    "tags": []
   },
   "outputs": [],
   "source": [
    "xvals  = np.linspace(-4, 0, 202)\n",
    "yvals  = np.linspace(4, 0, 202)\n",
    "xs, ys = np.meshgrid(xvals, yvals)\n",
    "\n",
    "def waves_image(alpha, beta):\n",
    "    return hv.Image(np.sin(((ys/alpha)**alpha+beta)*xs))\n",
    "\n",
    "waves_image(1,0) + waves_image(1,4)"
   ]
  },
  {
   "cell_type": "code",
   "execution_count": null,
   "id": "9de76bff-ad35-4298-8eae-11987382666d",
   "metadata": {
    "execution": {
     "iopub.execute_input": "2023-06-26T09:41:27.042864Z",
     "iopub.status.busy": "2023-06-26T09:41:27.042579Z",
     "iopub.status.idle": "2023-06-26T09:41:27.053334Z",
     "shell.execute_reply": "2023-06-26T09:41:27.052035Z",
     "shell.execute_reply.started": "2023-06-26T09:41:27.042844Z"
    },
    "tags": []
   },
   "outputs": [],
   "source": [
    "dmap = hv.DynamicMap(waves_image, kdims=['alpha', 'beta'])\n",
    "dmap"
   ]
  },
  {
   "cell_type": "markdown",
   "id": "94503668-ea29-41c5-8ff7-dd80ed184615",
   "metadata": {},
   "source": [
    "range is a built in method, you can also use dymension objects with range"
   ]
  },
  {
   "cell_type": "code",
   "execution_count": null,
   "id": "5bc17cca-67de-4285-ae15-d1d8d4c1ff1b",
   "metadata": {
    "execution": {
     "iopub.execute_input": "2023-06-26T09:41:28.421396Z",
     "iopub.status.busy": "2023-06-26T09:41:28.421037Z",
     "iopub.status.idle": "2023-06-26T09:41:28.719060Z",
     "shell.execute_reply": "2023-06-26T09:41:28.717899Z",
     "shell.execute_reply.started": "2023-06-26T09:41:28.421375Z"
    },
    "tags": []
   },
   "outputs": [],
   "source": [
    "dmap.redim.range(alpha=(1, 5.0), beta=(1, 6.0))"
   ]
  },
  {
   "cell_type": "markdown",
   "id": "f342f9aa-310a-45ba-82ab-b5150554299b",
   "metadata": {},
   "source": [
    "## Geometry data\n",
    "\n",
    "The holoviz ecosystem contains multiple software packages. To do projections, holoviews is extended using `geoviews`."
   ]
  },
  {
   "cell_type": "code",
   "execution_count": null,
   "id": "7564fa4f-9096-4889-bce8-830e88f12e82",
   "metadata": {
    "execution": {
     "iopub.execute_input": "2023-06-26T09:49:11.318411Z",
     "iopub.status.busy": "2023-06-26T09:49:11.317514Z",
     "iopub.status.idle": "2023-06-26T09:49:11.502922Z",
     "shell.execute_reply": "2023-06-26T09:49:11.501007Z",
     "shell.execute_reply.started": "2023-06-26T09:49:11.318383Z"
    },
    "tags": []
   },
   "outputs": [],
   "source": [
    "from pathlib import Path\n",
    "\n",
    "import xarray as xr\n",
    "import geoviews as gv\n",
    "import geoviews.feature as gf\n",
    "\n",
    "from cartopy import crs\n",
    "from geoviews import opts\n",
    "\n",
    "gv.extension('matplotlib')\n",
    "\n",
    "gv.output(size=150)"
   ]
  },
  {
   "cell_type": "code",
   "execution_count": null,
   "id": "40b66a43-5cb9-4926-b820-8276c4ac674c",
   "metadata": {
    "execution": {
     "iopub.execute_input": "2023-06-26T09:49:15.063110Z",
     "iopub.status.busy": "2023-06-26T09:49:15.062202Z",
     "iopub.status.idle": "2023-06-26T09:49:15.069594Z",
     "shell.execute_reply": "2023-06-26T09:49:15.067984Z",
     "shell.execute_reply.started": "2023-06-26T09:49:15.063083Z"
    },
    "tags": []
   },
   "outputs": [],
   "source": [
    "data_dir = Path(proj_dir) / \"data\""
   ]
  },
  {
   "cell_type": "markdown",
   "id": "23c0bedf-cc0d-4ff2-a86d-5407e2b94f52",
   "metadata": {},
   "source": [
    "The following cells depend on some CLI tools available via GNU. If you are on windows, please download the datasets yourself and unzip the data under the data folder"
   ]
  },
  {
   "cell_type": "code",
   "execution_count": null,
   "id": "67c8597d-7da5-4b20-bda3-2abbbcba06f2",
   "metadata": {
    "execution": {
     "iopub.execute_input": "2023-06-26T09:49:47.629104Z",
     "iopub.status.busy": "2023-06-26T09:49:47.628045Z",
     "iopub.status.idle": "2023-06-26T09:49:48.015767Z",
     "shell.execute_reply": "2023-06-26T09:49:48.014231Z",
     "shell.execute_reply.started": "2023-06-26T09:49:47.629076Z"
    },
    "tags": []
   },
   "outputs": [],
   "source": [
    "!mkdir {data_dir.absolute()}\n",
    "!curl -L http://assets.holoviews.org/geoviews-sample-data.zip -o {data_dir.absolute()}/data.zip"
   ]
  },
  {
   "cell_type": "code",
   "execution_count": null,
   "id": "00283725-fed7-4970-b314-b2c9d7c2ec48",
   "metadata": {
    "execution": {
     "iopub.execute_input": "2023-06-26T09:50:20.929993Z",
     "iopub.status.busy": "2023-06-26T09:50:20.929670Z",
     "iopub.status.idle": "2023-06-26T09:50:21.204716Z",
     "shell.execute_reply": "2023-06-26T09:50:21.203237Z",
     "shell.execute_reply.started": "2023-06-26T09:50:20.929970Z"
    },
    "tags": []
   },
   "outputs": [],
   "source": [
    "!unzip -o {data_dir.absolute()}/data.zip -d {data_dir.absolute()}"
   ]
  },
  {
   "cell_type": "code",
   "execution_count": null,
   "id": "700fe890-ce97-435c-9570-bdc9dcdc6a4d",
   "metadata": {
    "execution": {
     "iopub.execute_input": "2023-06-26T09:50:39.103051Z",
     "iopub.status.busy": "2023-06-26T09:50:39.101857Z",
     "iopub.status.idle": "2023-06-26T09:50:39.218128Z",
     "shell.execute_reply": "2023-06-26T09:50:39.216938Z",
     "shell.execute_reply.started": "2023-06-26T09:50:39.102988Z"
    },
    "tags": []
   },
   "outputs": [],
   "source": [
    "xr_ensemble = xr.open_dataset(f'{data_dir}/ensemble.nc').load()\n",
    "xr_ensemble"
   ]
  },
  {
   "cell_type": "markdown",
   "id": "ffb3611c-b2c1-4e61-a6f6-b5b42faaa64f",
   "metadata": {},
   "source": [
    "create geoviews dataset"
   ]
  },
  {
   "cell_type": "code",
   "execution_count": null,
   "id": "2b89b32b-58ff-40df-9e65-2627efbb312d",
   "metadata": {
    "execution": {
     "iopub.execute_input": "2023-06-26T09:43:08.493288Z",
     "iopub.status.busy": "2023-06-26T09:43:08.492846Z",
     "iopub.status.idle": "2023-06-26T09:43:08.505331Z",
     "shell.execute_reply": "2023-06-26T09:43:08.503787Z",
     "shell.execute_reply.started": "2023-06-26T09:43:08.493258Z"
    },
    "tags": []
   },
   "outputs": [],
   "source": [
    "kdims = ['time', 'longitude', 'latitude']\n",
    "vdims = ['surface_temperature']\n",
    "\n",
    "xr_dataset = gv.Dataset(xr_ensemble, kdims=kdims, vdims=vdims)"
   ]
  },
  {
   "cell_type": "code",
   "execution_count": null,
   "id": "fd0de800-0f19-4795-a408-c5e540ad521d",
   "metadata": {
    "execution": {
     "iopub.execute_input": "2023-06-26T09:43:09.498031Z",
     "iopub.status.busy": "2023-06-26T09:43:09.497392Z",
     "iopub.status.idle": "2023-06-26T09:43:20.385192Z",
     "shell.execute_reply": "2023-06-26T09:43:20.383908Z",
     "shell.execute_reply.started": "2023-06-26T09:43:09.498003Z"
    },
    "tags": []
   },
   "outputs": [],
   "source": [
    "xr_dataset.to(gv.Image, ['longitude', 'latitude'])"
   ]
  },
  {
   "cell_type": "markdown",
   "id": "378b728c-84cd-445e-84f3-a334bab1d161",
   "metadata": {},
   "source": [
    "We can also change projection using cartopy"
   ]
  },
  {
   "cell_type": "code",
   "execution_count": null,
   "id": "aef6d9a5-fe40-429c-b6d6-e26a042464bc",
   "metadata": {
    "execution": {
     "iopub.execute_input": "2023-06-26T09:43:36.588698Z",
     "iopub.status.busy": "2023-06-26T09:43:36.588363Z",
     "iopub.status.idle": "2023-06-26T09:43:44.629113Z",
     "shell.execute_reply": "2023-06-26T09:43:44.625978Z",
     "shell.execute_reply.started": "2023-06-26T09:43:36.588664Z"
    },
    "tags": []
   },
   "outputs": [],
   "source": [
    "(xr_dataset.to.image(['longitude', 'latitude']) * gf.coastline).opts(\n",
    "    opts.Image(projection=crs.Geostationary(), cmap='Greens', xaxis=None, yaxis=None))"
   ]
  },
  {
   "cell_type": "markdown",
   "id": "e23e2311-ff6c-4ad2-bf89-732517c7f514",
   "metadata": {},
   "source": [
    "## Panel\n",
    "Panel uses these and other components together with a library called [param](https://param.holoviz.org/) to create dashboard and interactive components."
   ]
  },
  {
   "cell_type": "code",
   "execution_count": null,
   "id": "6fc5a2ff-817f-4b40-adbf-986abeb95ebe",
   "metadata": {
    "execution": {
     "iopub.execute_input": "2023-06-26T09:44:19.222270Z",
     "iopub.status.busy": "2023-06-26T09:44:19.220991Z",
     "iopub.status.idle": "2023-06-26T09:44:19.311072Z",
     "shell.execute_reply": "2023-06-26T09:44:19.307507Z",
     "shell.execute_reply.started": "2023-06-26T09:44:19.222244Z"
    },
    "tags": []
   },
   "outputs": [],
   "source": [
    "import panel as pn\n",
    "import hvplot.pandas\n",
    "import pandas as pd\n",
    "import numpy as np\n",
    "\n",
    "hv.extension('bokeh')"
   ]
  },
  {
   "cell_type": "code",
   "execution_count": null,
   "id": "fb76bd05-44fd-4840-be7d-b372066be428",
   "metadata": {
    "execution": {
     "iopub.execute_input": "2023-06-26T09:44:20.536946Z",
     "iopub.status.busy": "2023-06-26T09:44:20.536647Z",
     "iopub.status.idle": "2023-06-26T09:44:21.015878Z",
     "shell.execute_reply": "2023-06-26T09:44:21.014096Z",
     "shell.execute_reply.started": "2023-06-26T09:44:20.536927Z"
    },
    "tags": []
   },
   "outputs": [],
   "source": [
    "pn.extension(design='material')\n",
    "\n",
    "csv_file = (\"https://raw.githubusercontent.com/holoviz/panel/main/examples/assets/occupancy.csv\")\n",
    "data = pd.read_csv(csv_file, parse_dates=[\"date\"], index_col=\"date\")\n",
    "\n",
    "data.tail()"
   ]
  },
  {
   "cell_type": "markdown",
   "id": "54ac0d8f-60d9-4a20-84bd-b8d0751e921d",
   "metadata": {},
   "source": [
    "Panel has 3 ways of creating an interactive dashboard. It is best to start with the reactive API, where you have functions as callbacks that are ran when you interact with the panel components:"
   ]
  },
  {
   "cell_type": "code",
   "execution_count": null,
   "id": "5b32e515-ece0-4d85-8b74-1519e6e8d17b",
   "metadata": {
    "execution": {
     "iopub.execute_input": "2023-06-26T09:44:25.406214Z",
     "iopub.status.busy": "2023-06-26T09:44:25.405621Z",
     "iopub.status.idle": "2023-06-26T09:44:25.415378Z",
     "shell.execute_reply": "2023-06-26T09:44:25.413128Z",
     "shell.execute_reply.started": "2023-06-26T09:44:25.406172Z"
    },
    "tags": []
   },
   "outputs": [],
   "source": [
    "def view_hvplot(avg, highlight):\n",
    "    return avg.hvplot(height=600, width=800, legend=False) * highlight.hvplot.scatter(\n",
    "        color=\"orange\", padding=0.1, legend=False\n",
    "    )\n",
    "\n",
    "def find_outliers(variable=\"Temperature\", window=30, sigma=10, view_fn=view_hvplot):\n",
    "    avg = data[variable].rolling(window=window).mean()\n",
    "    residual = data[variable] - avg\n",
    "    std = residual.rolling(window=window).std()\n",
    "    outliers = np.abs(residual) > std * sigma\n",
    "    return view_fn(avg, avg[outliers])"
   ]
  },
  {
   "cell_type": "code",
   "execution_count": null,
   "id": "77d4a645-4e49-4327-82a2-68167295c825",
   "metadata": {
    "execution": {
     "iopub.execute_input": "2023-06-26T09:44:26.356974Z",
     "iopub.status.busy": "2023-06-26T09:44:26.356619Z",
     "iopub.status.idle": "2023-06-26T09:44:26.550679Z",
     "shell.execute_reply": "2023-06-26T09:44:26.548719Z",
     "shell.execute_reply.started": "2023-06-26T09:44:26.356939Z"
    },
    "tags": []
   },
   "outputs": [],
   "source": [
    "find_outliers(variable='Temperature', window=20, sigma=10)"
   ]
  },
  {
   "cell_type": "code",
   "execution_count": null,
   "id": "2c0e7627-cbbd-40ae-a829-972319aba346",
   "metadata": {
    "execution": {
     "iopub.execute_input": "2023-06-26T09:44:58.537651Z",
     "iopub.status.busy": "2023-06-26T09:44:58.536875Z",
     "iopub.status.idle": "2023-06-26T09:44:58.547598Z",
     "shell.execute_reply": "2023-06-26T09:44:58.545905Z",
     "shell.execute_reply.started": "2023-06-26T09:44:58.537625Z"
    },
    "tags": []
   },
   "outputs": [],
   "source": [
    "variable_widget = pn.widgets.Select(name=\"variable\", value=\"Temperature\", options=list(data.columns))\n",
    "window_widget = pn.widgets.IntSlider(name=\"window\", value=30, start=1, end=60)\n",
    "sigma_widget = pn.widgets.IntSlider(name=\"sigma\", value=10, start=0, end=20)"
   ]
  },
  {
   "cell_type": "code",
   "execution_count": null,
   "id": "2702c212-7184-4833-ba1f-0bb53538404f",
   "metadata": {
    "execution": {
     "iopub.execute_input": "2023-06-26T09:45:01.115110Z",
     "iopub.status.busy": "2023-06-26T09:45:01.114646Z",
     "iopub.status.idle": "2023-06-26T09:45:01.125124Z",
     "shell.execute_reply": "2023-06-26T09:45:01.123866Z",
     "shell.execute_reply.started": "2023-06-26T09:45:01.115079Z"
    },
    "tags": []
   },
   "outputs": [],
   "source": [
    "bound_plot = pn.bind(find_outliers, variable=variable_widget, window=window_widget, sigma=sigma_widget)"
   ]
  },
  {
   "cell_type": "code",
   "execution_count": null,
   "id": "dcb06eb0-3cc5-41ca-a0c3-1af685697556",
   "metadata": {
    "execution": {
     "iopub.execute_input": "2023-06-26T09:45:02.084561Z",
     "iopub.status.busy": "2023-06-26T09:45:02.084250Z",
     "iopub.status.idle": "2023-06-26T09:45:02.317056Z",
     "shell.execute_reply": "2023-06-26T09:45:02.315512Z",
     "shell.execute_reply.started": "2023-06-26T09:45:02.084541Z"
    },
    "tags": []
   },
   "outputs": [],
   "source": [
    "first_app = pn.Column(variable_widget, window_widget, sigma_widget, bound_plot)\n",
    "\n",
    "first_app"
   ]
  },
  {
   "cell_type": "markdown",
   "id": "a4e5869a",
   "metadata": {},
   "source": [
    "### Holoviz Panel\n",
    "Now let us use the same methods to create a `Panel` to scroll through the NDVI values."
   ]
  },
  {
   "cell_type": "markdown",
   "id": "f66c03d4-67cb-4c1b-a733-c4d2ce1d178d",
   "metadata": {},
   "source": [
    "## Create panel slider"
   ]
  },
  {
   "cell_type": "markdown",
   "id": "69b8e200-06bc-44fa-8f7f-911568a37774",
   "metadata": {},
   "source": [
    "create the `pn.widgets.DiscreteSlider` with the time options in the `DataArray`.\n",
    "Bonus: make sure the time shows up formatted in the slider..\n",
    "Then create the callback to visualize one timeslice of the DataFrame.\n",
    "Create a panel `Column`, binding the slider to the callback using `pn.bind`. Make sure to select a good color scheme with limits."
   ]
  },
  {
   "cell_type": "code",
   "execution_count": null,
   "id": "a4daf64a-de3b-4fd4-a341-487fef4a1d1b",
   "metadata": {
    "execution": {
     "iopub.execute_input": "2023-06-26T09:52:34.121852Z",
     "iopub.status.busy": "2023-06-26T09:52:34.121529Z",
     "iopub.status.idle": "2023-06-26T09:52:34.213219Z",
     "shell.execute_reply": "2023-06-26T09:52:34.211557Z",
     "shell.execute_reply.started": "2023-06-26T09:52:34.121833Z"
    },
    "tags": []
   },
   "outputs": [],
   "source": [
    "hv.extension('bokeh')"
   ]
  },
  {
   "cell_type": "markdown",
   "id": "f46a2814-64a2-4968-b436-618b3eed035b",
   "metadata": {},
   "source": [
    "remember the `DataArray` we are visualizing"
   ]
  },
  {
   "cell_type": "code",
   "execution_count": null,
   "id": "06e99f74-30f9-45b4-bd67-6f7b0e69d6d4",
   "metadata": {
    "execution": {
     "iopub.execute_input": "2023-06-26T09:54:28.870755Z",
     "iopub.status.busy": "2023-06-26T09:54:28.870488Z",
     "iopub.status.idle": "2023-06-26T09:54:28.899332Z",
     "shell.execute_reply": "2023-06-26T09:54:28.898535Z",
     "shell.execute_reply.started": "2023-06-26T09:54:28.870737Z"
    },
    "tags": []
   },
   "outputs": [],
   "source": [
    "ndvi_da"
   ]
  },
  {
   "cell_type": "code",
   "execution_count": null,
   "id": "e597c1a3-4cbd-4433-84e2-c6ed8b8d854b",
   "metadata": {
    "execution": {
     "iopub.execute_input": "2023-06-26T09:52:35.209319Z",
     "iopub.status.busy": "2023-06-26T09:52:35.208334Z",
     "iopub.status.idle": "2023-06-26T09:52:35.836319Z",
     "shell.execute_reply": "2023-06-26T09:52:35.834303Z",
     "shell.execute_reply.started": "2023-06-26T09:52:35.209277Z"
    },
    "tags": []
   },
   "outputs": [],
   "source": [
    "time_list = list(map(lambda t: str(t), ndvi_da.time.values))  # format time to str\n",
    "t_slider = pn.widgets.DiscreteSlider(options=time_list, value=time_list[0])\n",
    "\n",
    "\n",
    "def show_time_slice(time_str):\n",
    "    return ndvi_da.sel(time=np.datetime64(time_str)).hvplot(\n",
    "        x=\"x\", y=\"y\", cmap=cc.CET_D9[::-1], clim=(-0.6, 1)\n",
    "    )\n",
    "\n",
    "\n",
    "col = pn.Column(t_slider, pn.bind(show_time_slice, t_slider))\n",
    "col"
   ]
  },
  {
   "cell_type": "markdown",
   "id": "20ec3286",
   "metadata": {},
   "source": [
    "### QGIS\n",
    "You can view geotiffs or netcdf files also using QGIS. For fast visualization, it is recommended to save the file using CloudOptimized formats, such a Cloud Optimized geotiff"
   ]
  },
  {
   "cell_type": "code",
   "execution_count": null,
   "id": "fb3673a3-95fb-484c-8dff-84615be58f66",
   "metadata": {
    "execution": {
     "iopub.execute_input": "2023-06-26T09:59:06.487395Z",
     "iopub.status.busy": "2023-06-26T09:59:06.487102Z",
     "iopub.status.idle": "2023-06-26T09:59:07.221911Z",
     "shell.execute_reply": "2023-06-26T09:59:07.220067Z",
     "shell.execute_reply.started": "2023-06-26T09:59:06.487375Z"
    },
    "tags": []
   },
   "outputs": [],
   "source": [
    "# for QGIS; export the TIFF to be visualized (CoG)\n",
    "outdir = proj_dir / \"tmp\"\n",
    "if not outdir.exists():\n",
    "    outdir.mkdir(exist_ok=True, parents=True)\n",
    "\n",
    "to_save = ndvi_da.isel({\"time\": 0})\n",
    "fname = f\"IMG-{to_save.time.dt.strftime('%Y%m%d').item()}.tif\"\n",
    "outpath = outdir / fname\n",
    "to_save.rio.to_raster(raster_path=outpath, driver=\"COG\")\n",
    "print(f\"Saving to: '{outpath}'\")"
   ]
  },
  {
   "cell_type": "code",
   "execution_count": null,
   "id": "cc8bba9b",
   "metadata": {
    "execution": {
     "iopub.execute_input": "2023-06-26T10:03:15.704755Z",
     "iopub.status.busy": "2023-06-26T10:03:15.703268Z",
     "iopub.status.idle": "2023-06-26T10:03:16.949215Z",
     "shell.execute_reply": "2023-06-26T10:03:16.947698Z",
     "shell.execute_reply.started": "2023-06-26T10:03:15.704709Z"
    },
    "tags": []
   },
   "outputs": [],
   "source": [
    "# close down local cluster\n",
    "client.close()"
   ]
  },
  {
   "cell_type": "code",
   "execution_count": null,
   "id": "5828d854-de75-4024-aa4e-2857352ece7a",
   "metadata": {},
   "outputs": [],
   "source": []
  }
 ],
 "metadata": {
  "kernelspec": {
   "display_name": "Python [conda env:pysense]",
   "language": "python",
   "name": "conda-env-pysense-py"
  },
  "language_info": {
   "codemirror_mode": {
    "name": "ipython",
    "version": 3
   },
   "file_extension": ".py",
   "mimetype": "text/x-python",
   "name": "python",
   "nbconvert_exporter": "python",
   "pygments_lexer": "ipython3",
   "version": "3.11.4"
  }
 },
 "nbformat": 4,
 "nbformat_minor": 5
}
