{
 "cells": [
  {
   "cell_type": "markdown",
   "id": "25045498-92c8-4aed-9443-8559b213bacc",
   "metadata": {},
   "source": [
    "# Earth Observation data handling using Python\n",
    "\n",
    "With the increasing availability and accessibility of Earth Observation (EO) data, there is a growing need for efficient and scalable methods to handle and analyze these vast datasets. Python, a powerful and versatile programming language, offers a rich ecosystem of libraries and tools for working with EO data. In this tutorial, we will explore how to leverage Python and its associated frameworks to effectively handle EO data using a combination of Dask, Xarray, GeoPandas, STAC, Jupyter, and the Microsoft Planetary Computer. "
   ]
  },
  {
   "cell_type": "markdown",
   "id": "647c581c",
   "metadata": {},
   "source": [
    "## 00 - Generics"
   ]
  },
  {
   "cell_type": "markdown",
   "id": "3841e418-8218-44ba-b067-d03b8e4afe40",
   "metadata": {},
   "source": [
    "### Add project directory to Python path\n",
    "\n",
    "This code defines two functions and retrieves the project directory path. It's useful when we want to define some generic functions that can be imported. If you retrieve the project directoy path like this, it both works in an Ipython and Python environment. \n",
    "\n",
    "- `is_interactive()`: Checks if the code is running in an interactive environment.\n",
    "- `get_proj_dir()`: Determines the project directory path based on the execution context. If running interactively, it infers the project directory from the Jupyter kernel. Otherwise, it infers it from the Python file. The function returns the project directory as a `pathlib.Path` object."
   ]
  },
  {
   "cell_type": "code",
   "execution_count": null,
   "id": "8a318014-bea5-41f6-8453-8b8464f45286",
   "metadata": {
    "execution": {
     "iopub.execute_input": "2023-06-26T11:26:40.930972Z",
     "iopub.status.busy": "2023-06-26T11:26:40.930658Z",
     "iopub.status.idle": "2023-06-26T11:26:40.939247Z",
     "shell.execute_reply": "2023-06-26T11:26:40.938629Z",
     "shell.execute_reply.started": "2023-06-26T11:26:40.930949Z"
    },
    "tags": []
   },
   "outputs": [],
   "source": [
    "import os\n",
    "import pathlib\n",
    "import sys\n",
    "\n",
    "\n",
    "def is_interactive() -> bool:\n",
    "    \"\"\"\n",
    "    Check if the code is running in a Jupyter Notebook environment.\n",
    "    \"\"\"\n",
    "    try:\n",
    "        shell = get_ipython().__class__.__name__\n",
    "        if shell == \"ZMQInteractiveShell\":\n",
    "            print(\"In Jupyter notebook or lab shell. \")\n",
    "            return True  # Jupyter Notebook or JupyterLab\n",
    "        elif shell == \"TerminalInteractiveShell\":\n",
    "            print(\"In IPython console shell. \")\n",
    "            return False  # Terminal or IPython cognsole\n",
    "        else:\n",
    "            return False  # Other interactive shells\n",
    "    except NameError:\n",
    "        print(\"Not in an interactive shell. \")\n",
    "        return False  # Not in an interactive shell\n",
    "\n",
    "\n",
    "def get_proj_dir() -> pathlib.Path:\n",
    "    \"\"\"\n",
    "    Get the project directory path.\n",
    "\n",
    "    Returns:\n",
    "        A `pathlib.Path` object representing the project directory path.\n",
    "    \"\"\"\n",
    "    if is_interactive():\n",
    "        print(\"Inferring project directory from the Jupyter kernel.\")\n",
    "        cwd = pathlib.Path().resolve()\n",
    "        proj_dir = cwd.parent\n",
    "    else:\n",
    "        print(\"Inferring project directory from the Python file.\")\n",
    "        cwd = pathlib.Path(__file__)\n",
    "        proj_dir = cwd.parent.parent\n",
    "\n",
    "    return proj_dir\n",
    "\n",
    "\n",
    "proj_dir: pathlib.Path = get_proj_dir()\n",
    "src_dir = str(proj_dir / \"src\")\n",
    "print(f\"Adding {src_dir} to system path.\")\n",
    "sys.path.append(src_dir)"
   ]
  },
  {
   "cell_type": "markdown",
   "id": "b2e9adea-ab8e-4c20-bbea-2e7a8b4bc169",
   "metadata": {},
   "source": [
    "### Very extensive list of libraries - I'll cleanup later"
   ]
  },
  {
   "cell_type": "code",
   "execution_count": null,
   "id": "fee46249-33ee-4c65-85af-d27d37f81a5f",
   "metadata": {
    "execution": {
     "iopub.execute_input": "2023-06-26T11:26:44.716062Z",
     "iopub.status.busy": "2023-06-26T11:26:44.715492Z",
     "iopub.status.idle": "2023-06-26T11:26:44.726507Z",
     "shell.execute_reply": "2023-06-26T11:26:44.725589Z",
     "shell.execute_reply.started": "2023-06-26T11:26:44.716021Z"
    },
    "tags": []
   },
   "outputs": [],
   "source": [
    "import time\n",
    "\n",
    "import cartopy.crs as crs\n",
    "import colorcet as cc\n",
    "import geopandas as gpd\n",
    "import holoviews as hv\n",
    "import hvplot.pandas  # noqa\n",
    "import hvplot.xarray  # noqa\n",
    "import matplotlib.pyplot as plt\n",
    "import numpy as np\n",
    "import pandas as pd\n",
    "import panel as pn\n",
    "import planetary_computer\n",
    "import pystac_client\n",
    "import rasterio\n",
    "import rioxarray\n",
    "import stackstac\n",
    "import xarray as xr\n",
    "from dask.distributed import Client\n",
    "from ipyleaflet import Map, basemaps\n",
    "from matplotlib.colors import ListedColormap\n",
    "from odc.stac import configure_rio, stac_load\n",
    "from xrspatial.multispectral import true_color"
   ]
  },
  {
   "cell_type": "markdown",
   "id": "2240ec0c",
   "metadata": {},
   "source": [
    "## 01 - Data Access\n",
    "The snippet provided is a Python code that creates an interactive map of Sand Engine using the ipyleaflet library, using a basemap from Esri WorldImagery. We will use this map to define our region of interest (ROI). By zooming and and panning you can adjust the area to do your analysis because we will extract the coordinates from this mapThe snippet provided is a Python code that creates an interactive map of Terschelling using the ipyleaflet library, using a basemap from Esri WorldImagery. We will use this map to define our region of interest (ROI). By zooming and and panning you can adjust the area to do your analysis because we will extract the coordinates from this map"
   ]
  },
  {
   "cell_type": "code",
   "execution_count": null,
   "id": "aaeb38b6-307d-433f-aff7-b796a140788a",
   "metadata": {
    "execution": {
     "iopub.execute_input": "2023-06-26T11:27:11.930210Z",
     "iopub.status.busy": "2023-06-26T11:27:11.929523Z",
     "iopub.status.idle": "2023-06-26T11:27:11.947221Z",
     "shell.execute_reply": "2023-06-26T11:27:11.946588Z",
     "shell.execute_reply.started": "2023-06-26T11:27:11.930165Z"
    },
    "tags": []
   },
   "outputs": [],
   "source": [
    "m = Map(basemap=basemaps.Esri.WorldImagery, scroll_wheel_zoom=True)\n",
    "m.center = 52.058, 4.192\n",
    "m.zoom = 14\n",
    "m.layout.height = \"800px\"\n",
    "m"
   ]
  },
  {
   "cell_type": "markdown",
   "id": "7587a186-9f4c-410e-b1c5-9fc544649325",
   "metadata": {},
   "source": [
    "### IMPORTANT: wait 2 seconds until map is rendered - Extract the coords from the interactive map. \n",
    "\n",
    "The snippet provided is a Python code that extracts the coordinates of the bounding box (bbox) from an interactive map created using the ipyleaflet library. The bbox variable stores the west, south, east, and north coordinates of the map's bounding box. The code then converts the bbox into a geometry object and explores the geographic bounding box by visualizing it using the geo_bbox function.The snippet provided is a Python code that extracts the coordinates of the bounding box (bbox) from an interactive map created using the ipyleaflet library. The bbox variable stores the west, south, east, and north coordinates of the map's bounding box. The code then converts the bbox into a geometry object and explores the geographic bounding box by visualizing it using the geo_bbox function."
   ]
  },
  {
   "cell_type": "code",
   "execution_count": null,
   "id": "75ff7aeb-a1ae-42b1-8cb3-01393d9ecead",
   "metadata": {
    "execution": {
     "iopub.execute_input": "2023-06-26T08:23:02.916994Z",
     "iopub.status.busy": "2023-06-26T08:23:02.916391Z",
     "iopub.status.idle": "2023-06-26T08:23:04.573129Z",
     "shell.execute_reply": "2023-06-26T08:23:04.570053Z",
     "shell.execute_reply.started": "2023-06-26T08:23:02.916931Z"
    },
    "tags": []
   },
   "outputs": [],
   "source": [
    "from coastmonitor.geo.geometries import bbox_to_geometry, geo_bbox, geometry_to_bbox\n",
    "\n",
    "bbox = [m.west, m.south, m.east, m.north]\n",
    "bbox_geom = bbox_to_geometry(bbox)\n",
    "geo_bbox(*bbox, src_crs=4326, dst_crs=4326).explore()"
   ]
  },
  {
   "cell_type": "markdown",
   "id": "a61566c9-0bae-490e-836f-999b95deb8a5",
   "metadata": {},
   "source": [
    "### Connect to the Planetary Computer STAC catalog\n",
    "\n",
    "[Microsoft Planetary Computer](https://planetarycomputer.microsoft.com) is a cloud-based platform for planetary-scale environmental data analysis and research. It hosts a vast collection of datasets related to various Earth systems, such as land cover, water quality, and biodiversity, among others. The platform leverages the power of cloud computing and big data technologies to enable seamless access, exploration, and analysis of these datasets.\n",
    "\n",
    "STAC (SpatioTemporal Asset Catalog) is an open standard for organizing and describing geospatial data as assets. It provides a common language and structure for describing metadata and properties of geospatial datasets, making it easier to discover, access, and work with them across different platforms and tools. STAC is widely adopted in the geospatial community and is a key component of the Microsoft Planetary Computer.\n",
    "\n",
    "\n",
    "Microsoft Planetary Computer much more data; see [the catalog in the radiant earth STAC viewer](https://radiantearth.github.io/stac-browser/#/external/planetarycomputer.microsoft.com/api/stac/v1?.language=en). Other catalogs are the [C-Scale metadata federation](https://radiantearth.github.io/stac-browser/#/external/mqs.eodc.eu/stac/v1), [Digital Earth Africa (DEA)](https://radiantearth.github.io/stac-browser/#/external/explorer.digitalearth.africa/stac?.language=en) or [the Deltares CoCliCo](https://radiantearth.github.io/stac-browser/#/external/storage.googleapis.com/dgds-data-public/coclico/coclico-stac/catalog.json)\n",
    "Microsoft Planetary Computer much more data; see [the catalog in the radiant earth STAC viewer](https://radiantearth.github.io/stac-browser/#/external/planetarycomputer.microsoft.com/api/stac/v1?.language=en). Other catalogs are the [C-Scale metadata federation](https://radiantearth.github.io/stac-browser/#/external/mqs.eodc.eu/stac/v1), [Digital Earth Africa (DEA)](https://radiantearth.github.io/stac-browser/#/external/explorer.digitalearth.africa/stac?.language=en) or [the Deltares CoCliCo](https://radiantearth.github.io/stac-browser/#/external/storage.googleapis.com/dgds-data-public/coclico/coclico-stac/catalog.json)\n"
   ]
  },
  {
   "cell_type": "code",
   "execution_count": null,
   "id": "1702235e-6871-4a40-99f0-cb09e51a01ca",
   "metadata": {
    "execution": {
     "iopub.execute_input": "2023-06-26T11:30:00.622100Z",
     "iopub.status.busy": "2023-06-26T11:30:00.621546Z",
     "iopub.status.idle": "2023-06-26T11:30:02.408395Z",
     "shell.execute_reply": "2023-06-26T11:30:02.407899Z",
     "shell.execute_reply.started": "2023-06-26T11:30:00.622059Z"
    },
    "tags": []
   },
   "outputs": [],
   "source": [
    "catalog = pystac_client.Client.open(\n",
    "    \"https://planetarycomputer.microsoft.com/api/stac/v1\",\n",
    "    modifier=planetary_computer.sign_inplace,\n",
    ")\n",
    "catalog"
   ]
  },
  {
   "cell_type": "markdown",
   "id": "3381a239-7eaa-4436-96f4-a38e72501f26",
   "metadata": {},
   "source": [
    "### Browse contents of the collection"
   ]
  },
  {
   "cell_type": "code",
   "execution_count": null,
   "id": "dff409d8",
   "metadata": {
    "execution": {
     "iopub.execute_input": "2023-06-26T11:29:44.022087Z",
     "iopub.status.busy": "2023-06-26T11:29:44.021661Z",
     "iopub.status.idle": "2023-06-26T11:29:44.032468Z",
     "shell.execute_reply": "2023-06-26T11:29:44.031564Z",
     "shell.execute_reply.started": "2023-06-26T11:29:44.022056Z"
    },
    "tags": []
   },
   "outputs": [],
   "source": [
    "list(\n",
    "    catalog.get_children()\n",
    ")  # list all the STAC Collections (i.e. datasets hosted by planetary computer)"
   ]
  },
  {
   "cell_type": "markdown",
   "id": "66276fe4-2437-4d09-a937-7428183c4608",
   "metadata": {},
   "source": [
    "### Search the Sentinel-2 SR collection\n",
    "\n",
    "Here we filter the Sentinel 2 (MS Planetary Computer) STAC collection by providing some parameters such as the bands that we want, the region of interest and the timer range. "
   ]
  },
  {
   "cell_type": "code",
   "execution_count": null,
   "id": "557919de-f315-4b15-8c0e-cc8b86753f63",
   "metadata": {
    "execution": {
     "iopub.execute_input": "2023-06-26T11:33:26.664482Z",
     "iopub.status.busy": "2023-06-26T11:33:26.664273Z",
     "iopub.status.idle": "2023-06-26T11:33:27.318635Z",
     "shell.execute_reply": "2023-06-26T11:33:27.318256Z",
     "shell.execute_reply.started": "2023-06-26T11:33:26.664464Z"
    },
    "tags": []
   },
   "outputs": [],
   "source": [
    "BAND = {\n",
    "    \"B02\": \"blue\",\n",
    "    \"B03\": \"green\",\n",
    "    \"B04\": \"red\",\n",
    "    \"B08\": \"nir\",\n",
    "    \"B11\": \"swir1\",\n",
    "    \"SCL\": \"SCL\",\n",
    "}\n",
    "\n",
    "search = catalog.search(\n",
    "    collections=[\n",
    "        \"sentinel-2-l2a\"\n",
    "    ],  # atmospherically corrected Surface Reflectances (SR)\n",
    "    intersects=bbox_geom,\n",
    "    datetime=\"2022-12-31/2023-05-01\",  # \"2020-01-01/2020-01-31\",\n",
    "    query={\"eo:cloud_cover\": {\"lt\": 50}},\n",
    ")\n",
    "\n",
    "items = search.item_collection()\n",
    "print(f\"{len(items)} items found in catalog search.\")"
   ]
  },
  {
   "cell_type": "markdown",
   "id": "f22d204b-4efa-44ba-9f3f-aacd65258b9c",
   "metadata": {},
   "source": [
    "### Explain a STAC item here\n",
    "\n",
    "- you can filter the STAC collection on all metadata that is shown here\n",
    "- the asset contains several keys which refer to where the data is stored for the bands"
   ]
  },
  {
   "cell_type": "code",
   "execution_count": null,
   "id": "8935cbe8-7464-4ad4-9970-7f6864f2c607",
   "metadata": {
    "execution": {
     "iopub.execute_input": "2023-06-26T11:34:16.431109Z",
     "iopub.status.busy": "2023-06-26T11:34:16.430234Z",
     "iopub.status.idle": "2023-06-26T11:34:16.446612Z",
     "shell.execute_reply": "2023-06-26T11:34:16.446195Z",
     "shell.execute_reply.started": "2023-06-26T11:34:16.431056Z"
    },
    "tags": []
   },
   "outputs": [],
   "source": [
    "items[0]"
   ]
  },
  {
   "cell_type": "code",
   "execution_count": null,
   "id": "6e7f31c0-404f-4c62-b585-e24f7578d644",
   "metadata": {
    "execution": {
     "iopub.execute_input": "2023-06-26T11:34:17.068308Z",
     "iopub.status.busy": "2023-06-26T11:34:17.067746Z",
     "iopub.status.idle": "2023-06-26T11:34:17.080075Z",
     "shell.execute_reply": "2023-06-26T11:34:17.079228Z",
     "shell.execute_reply.started": "2023-06-26T11:34:17.068278Z"
    },
    "tags": []
   },
   "outputs": [],
   "source": [
    "items[0].assets.keys()"
   ]
  },
  {
   "cell_type": "code",
   "execution_count": null,
   "id": "82fd47c2-447a-4201-bea9-5d7f9b74f9c3",
   "metadata": {
    "execution": {
     "iopub.execute_input": "2023-06-26T11:34:20.062144Z",
     "iopub.status.busy": "2023-06-26T11:34:20.061593Z",
     "iopub.status.idle": "2023-06-26T11:34:20.071200Z",
     "shell.execute_reply": "2023-06-26T11:34:20.070447Z",
     "shell.execute_reply.started": "2023-06-26T11:34:20.062105Z"
    },
    "tags": []
   },
   "outputs": [],
   "source": [
    "href = items[0].assets[\"rendered_preview\"].href\n",
    "href"
   ]
  },
  {
   "cell_type": "markdown",
   "id": "a0e435a1-5240-4b5a-9d3f-4267d170c3f6",
   "metadata": {},
   "source": [
    "### Show the preview in your python notebook. "
   ]
  },
  {
   "cell_type": "code",
   "execution_count": null,
   "id": "94384243-1889-4393-b5a7-016f5918c3cf",
   "metadata": {
    "execution": {
     "iopub.execute_input": "2023-06-26T11:34:25.091579Z",
     "iopub.status.busy": "2023-06-26T11:34:25.091012Z",
     "iopub.status.idle": "2023-06-26T11:34:26.883234Z",
     "shell.execute_reply": "2023-06-26T11:34:26.882968Z",
     "shell.execute_reply.started": "2023-06-26T11:34:25.091539Z"
    },
    "tags": []
   },
   "outputs": [],
   "source": [
    "import io\n",
    "import urllib.request\n",
    "\n",
    "import matplotlib.pyplot as plt\n",
    "\n",
    "# Download the image from the URL\n",
    "image = plt.imread(io.BytesIO(urllib.request.urlopen(href).read()))\n",
    "\n",
    "# Plot the image\n",
    "plt.imshow(image)\n",
    "plt.axis(\"off\")\n",
    "plt.show()"
   ]
  },
  {
   "cell_type": "markdown",
   "id": "fa63dedd-79a6-49ea-91fe-219e38fffa6c",
   "metadata": {
    "execution": {
     "iopub.execute_input": "2023-06-08T11:33:39.510661Z",
     "iopub.status.busy": "2023-06-08T11:33:39.510210Z",
     "iopub.status.idle": "2023-06-08T11:33:39.519358Z",
     "shell.execute_reply": "2023-06-08T11:33:39.518416Z",
     "shell.execute_reply.started": "2023-06-08T11:33:39.510637Z"
    },
    "tags": []
   },
   "source": [
    "### How much data do our STAC items refer to?\n",
    " \n",
    "The xarray.DataArray object has a total size of 80.84 GB (gigabytes), which is a very large file size - even though we only have data for a tiny piece of The Netherlands in a 4 month time period. \n",
    "\n",
    "The file size can make it challenging to work with the data on systems with limited storage capacity, but the use of chunking and parallel processing can help to mitigate this issue. The file is chunked into 8 MB (megabyte) blocks, with 10890 chunks in 3 graph layers. This chunking approach is used to enable parallel processing and optimize memory usage when working with large arrays. "
   ]
  },
  {
   "cell_type": "code",
   "execution_count": null,
   "id": "547e2b9e-38c5-4917-8db7-1b17ba8c87a0",
   "metadata": {
    "execution": {
     "iopub.execute_input": "2023-06-26T11:34:28.594122Z",
     "iopub.status.busy": "2023-06-26T11:34:28.593564Z",
     "iopub.status.idle": "2023-06-26T11:34:28.633046Z",
     "shell.execute_reply": "2023-06-26T11:34:28.632769Z",
     "shell.execute_reply.started": "2023-06-26T11:34:28.594079Z"
    },
    "tags": []
   },
   "outputs": [],
   "source": [
    "stackstac.stack(items, resolution=10, assets=list(BAND.keys()))"
   ]
  },
  {
   "cell_type": "code",
   "execution_count": null,
   "id": "4ca82c28-2497-4e06-a4a3-eac91d054063",
   "metadata": {
    "execution": {
     "iopub.execute_input": "2023-06-26T11:34:31.210606Z",
     "iopub.status.busy": "2023-06-26T11:34:31.209716Z",
     "iopub.status.idle": "2023-06-26T11:34:31.248174Z",
     "shell.execute_reply": "2023-06-26T11:34:31.247712Z",
     "shell.execute_reply.started": "2023-06-26T11:34:31.210553Z"
    },
    "tags": []
   },
   "outputs": [],
   "source": [
    "# stackstac contains many more arguments to filter the data (on the bounding box, a certain number of bands and by sorting the dates for instance)\n",
    "stack = stackstac.stack(\n",
    "    items,\n",
    "    # epsg=3857,  # if you want to cast the data to a common crs\n",
    "    assets=list(BAND.keys()),\n",
    "    bounds_latlon=bbox,\n",
    "    sortby_date=\"desc\",  # maybe you want to sort the data by date?\n",
    ")\n",
    "stack"
   ]
  },
  {
   "cell_type": "markdown",
   "id": "5140da93-3ad7-463b-946f-783c25a6aece",
   "metadata": {},
   "source": [
    "## 02 - Data processing"
   ]
  },
  {
   "cell_type": "markdown",
   "id": "72883b8d",
   "metadata": {},
   "source": [
    "### Local Dask cluster\n",
    "\n",
    "Here we launch a local Dask cluster, a Python-based multiprocessing library, which will speed up the computation. The cluster we make here is local, when you want to upscale your computations you should use a Dask gateway, hosted on a remote server, close to the data."
   ]
  },
  {
   "cell_type": "code",
   "execution_count": null,
   "id": "f5cd4631",
   "metadata": {
    "execution": {
     "iopub.execute_input": "2023-06-26T11:34:37.929733Z",
     "iopub.status.busy": "2023-06-26T11:34:37.929067Z",
     "iopub.status.idle": "2023-06-26T11:34:38.768571Z",
     "shell.execute_reply": "2023-06-26T11:34:38.768186Z",
     "shell.execute_reply.started": "2023-06-26T11:34:37.929701Z"
    },
    "tags": []
   },
   "outputs": [],
   "source": [
    "# when running locally (parallel)\n",
    "client = Client(\n",
    "    threads_per_worker=1,\n",
    "    processes=True,\n",
    "    local_directory=\"/tmp\",\n",
    ")\n",
    "client\n",
    "\n",
    "# asking for plots (.plot()) or numerical values (.compute()) will trigger the computation, which you can see in the dask dashboard"
   ]
  },
  {
   "cell_type": "markdown",
   "id": "3698f1f1",
   "metadata": {},
   "source": [
    "### Example: NDWI\n",
    "Nothing is computed yet. Look at ndwi datarray, they are all dask arrays (lazy). NDWI is used to seperate land and water and forms the basis of shoreline detection algorithms for instance."
   ]
  },
  {
   "cell_type": "code",
   "execution_count": null,
   "id": "a8b22a49",
   "metadata": {
    "execution": {
     "iopub.execute_input": "2023-06-26T11:34:41.669536Z",
     "iopub.status.busy": "2023-06-26T11:34:41.669283Z",
     "iopub.status.idle": "2023-06-26T11:34:41.711853Z",
     "shell.execute_reply": "2023-06-26T11:34:41.711263Z",
     "shell.execute_reply.started": "2023-06-26T11:34:41.669509Z"
    },
    "tags": []
   },
   "outputs": [],
   "source": [
    "green = stack.sel({\"band\": \"B03\"})\n",
    "nir = stack.sel({\"band\": \"B08\"})\n",
    "ndwi = (green - nir) / (green + nir)  # this is still a lazy Dask computation\n",
    "ndwi"
   ]
  },
  {
   "cell_type": "markdown",
   "id": "f1dc974c",
   "metadata": {},
   "source": [
    "By making a plot or computing the values, all scheduled tasks are triggered and the data is brought into memory. This therefore takes somewhat longer.."
   ]
  },
  {
   "cell_type": "code",
   "execution_count": null,
   "id": "bc486d38",
   "metadata": {
    "execution": {
     "iopub.execute_input": "2023-06-26T11:34:42.411721Z",
     "iopub.status.busy": "2023-06-26T11:34:42.411193Z",
     "iopub.status.idle": "2023-06-26T11:34:45.166731Z",
     "shell.execute_reply": "2023-06-26T11:34:45.165588Z",
     "shell.execute_reply.started": "2023-06-26T11:34:42.411684Z"
    },
    "tags": []
   },
   "outputs": [],
   "source": [
    "# make plot\n",
    "ndwi.isel({\"time\": 0}).hvplot(x=\"x\", y=\"y\", cmap=cc.CET_D9[::-1], data_aspect=1)"
   ]
  },
  {
   "cell_type": "code",
   "execution_count": null,
   "id": "11ee971c",
   "metadata": {
    "execution": {
     "iopub.execute_input": "2023-06-26T11:34:45.167797Z",
     "iopub.status.busy": "2023-06-26T11:34:45.167676Z",
     "iopub.status.idle": "2023-06-26T11:34:46.200676Z",
     "shell.execute_reply": "2023-06-26T11:34:46.200122Z",
     "shell.execute_reply.started": "2023-06-26T11:34:45.167788Z"
    },
    "tags": []
   },
   "outputs": [],
   "source": [
    "# compute values\n",
    "ndwi_val = ndwi.isel({\"time\": 0}).compute()\n",
    "ndwi_val.shape, ndwi_val"
   ]
  },
  {
   "cell_type": "markdown",
   "id": "51a98066",
   "metadata": {},
   "source": [
    "### Example: Compositing (RGB)\n",
    "By compositing, we can get rid of the clouds in individual images. Hence, we create a clean & average image in case we have enough individual images in the data array"
   ]
  },
  {
   "cell_type": "code",
   "execution_count": null,
   "id": "50248ad7",
   "metadata": {
    "execution": {
     "iopub.execute_input": "2023-06-26T11:34:46.201264Z",
     "iopub.status.busy": "2023-06-26T11:34:46.201170Z",
     "iopub.status.idle": "2023-06-26T11:35:02.987654Z",
     "shell.execute_reply": "2023-06-26T11:35:02.986956Z",
     "shell.execute_reply.started": "2023-06-26T11:34:46.201254Z"
    },
    "tags": []
   },
   "outputs": [],
   "source": [
    "median = stack.median(\"time\")\n",
    "\n",
    "median_rgb = true_color(\n",
    "    median.isel(band=0),\n",
    "    median.isel(band=1),\n",
    "    median.isel(band=2),\n",
    ")\n",
    "median_rgb.isel({\"band\": slice(0, 3)}).hvplot.rgb(\n",
    "    bands=\"band\", y=\"y\", x=\"x\", data_aspect=1\n",
    ")"
   ]
  },
  {
   "cell_type": "markdown",
   "id": "67d3b973",
   "metadata": {},
   "source": [
    "### Example: Scene classification\n",
    "There are many classification algorithms out there, but ESA has incorporated its very own in the Sentinel-2 processing pipeline. This one is readily available as band data."
   ]
  },
  {
   "cell_type": "code",
   "execution_count": null,
   "id": "3e21e4b1",
   "metadata": {
    "execution": {
     "iopub.execute_input": "2023-06-26T11:35:02.988675Z",
     "iopub.status.busy": "2023-06-26T11:35:02.988584Z",
     "iopub.status.idle": "2023-06-26T11:35:02.992426Z",
     "shell.execute_reply": "2023-06-26T11:35:02.992033Z",
     "shell.execute_reply.started": "2023-06-26T11:35:02.988667Z"
    },
    "tags": []
   },
   "outputs": [],
   "source": [
    "scl_colormap = np.array(\n",
    "    [\n",
    "        [255, 0, 255, 255],  # 0  - NODATA\n",
    "        [255, 0, 4, 255],  # 1  - Saturated or Defective\n",
    "        [0, 0, 0, 255],  # 2  - Dark Areas\n",
    "        [97, 97, 97, 255],  # 3  - Cloud Shadow\n",
    "        [3, 139, 80, 255],  # 4  - Vegetation\n",
    "        [192, 132, 12, 255],  # 5  - Bare Ground\n",
    "        [21, 103, 141, 255],  # 6  - Water\n",
    "        [117, 0, 27, 255],  # 7  - Unclassified\n",
    "        [208, 208, 208, 255],  # 8  - Cloud\n",
    "        [244, 244, 244, 255],  # 9  - Definitely Cloud\n",
    "        [195, 231, 240, 255],  # 10 - Thin Cloud\n",
    "        [222, 157, 204, 255],  # 11 - Snow or Ice\n",
    "    ],\n",
    "    dtype=\"uint8\",\n",
    ")\n",
    "\n",
    "scl_items = np.array(\n",
    "    [\n",
    "        \"NO DATA\",\n",
    "        \"Saturated or Defective\",\n",
    "        \"Dark areas\",\n",
    "        \"Cloud shadow\",\n",
    "        \"Vegetation\",\n",
    "        \"Bare Ground\",\n",
    "        \"Water\",\n",
    "        \"Unclassified\",\n",
    "        \"Cloud\",\n",
    "        \"Definitely cloud\",\n",
    "        \"Thin cloud\",\n",
    "        \"Snow or ice\",\n",
    "    ]\n",
    ")\n",
    "\n",
    "cmap = ListedColormap(scl_colormap / 255)\n",
    "colors = cmap(np.arange(cmap.N))\n",
    "\n",
    "\n",
    "def colorize(ds, colormap):\n",
    "    return xr.DataArray(colormap[ds.data], coords=ds.coords, dims=(*ds.dims, \"channel\"))"
   ]
  },
  {
   "cell_type": "code",
   "execution_count": null,
   "id": "32468e0c",
   "metadata": {
    "execution": {
     "iopub.execute_input": "2023-06-26T11:35:02.993065Z",
     "iopub.status.busy": "2023-06-26T11:35:02.992966Z",
     "iopub.status.idle": "2023-06-26T11:35:03.047316Z",
     "shell.execute_reply": "2023-06-26T11:35:03.046784Z",
     "shell.execute_reply.started": "2023-06-26T11:35:02.993057Z"
    },
    "tags": []
   },
   "outputs": [],
   "source": [
    "fig, ax = plt.subplots(\n",
    "    1,\n",
    "    figsize=(6, 1),\n",
    "    subplot_kw=dict(xticks=np.arange(0.5, len(scl_colormap), 1), yticks=[]),\n",
    ")\n",
    "ax.imshow([colors], extent=[0, 12, 0, 1])\n",
    "ax.set_xticklabels(scl_items, rotation=30, ha=\"right\");"
   ]
  },
  {
   "cell_type": "code",
   "execution_count": null,
   "id": "cce5ad11",
   "metadata": {
    "execution": {
     "iopub.execute_input": "2023-06-26T11:35:03.047950Z",
     "iopub.status.busy": "2023-06-26T11:35:03.047857Z",
     "iopub.status.idle": "2023-06-26T11:35:03.258501Z",
     "shell.execute_reply": "2023-06-26T11:35:03.258163Z",
     "shell.execute_reply.started": "2023-06-26T11:35:03.047941Z"
    },
    "tags": []
   },
   "outputs": [],
   "source": [
    "SCL = stack.isel({\"time\": 0}).sel({\"band\": \"SCL\"})\n",
    "scl_rgba = colorize(SCL.compute().astype(\"int\"), scl_colormap)  # does the computation\n",
    "scl_rgba.hvplot.rgb(x=\"x\", y=\"y\", bands=\"channel\", data_aspect=1)  # does the plotting"
   ]
  },
  {
   "cell_type": "markdown",
   "id": "6480e1f4",
   "metadata": {},
   "source": [
    "### More extensive example with other STAC: NDVI\n",
    "Here, we are detecting water hyacinth dynamics in Lake Victoria (specifically the Winam Gulf) using the NDVI. This is done by using the STAC from Digital Earth Africa (DEA)."
   ]
  },
  {
   "cell_type": "code",
   "execution_count": null,
   "id": "244704f9",
   "metadata": {
    "execution": {
     "iopub.execute_input": "2023-06-26T11:35:18.045934Z",
     "iopub.status.busy": "2023-06-26T11:35:18.045576Z",
     "iopub.status.idle": "2023-06-26T11:35:18.061766Z",
     "shell.execute_reply": "2023-06-26T11:35:18.059217Z",
     "shell.execute_reply.started": "2023-06-26T11:35:18.045913Z"
    },
    "tags": []
   },
   "outputs": [],
   "source": [
    "# water hyacinth in Winam Gulf for the month\n",
    "\n",
    "m = Map(basemap=basemaps.Esri.WorldImagery, scroll_wheel_zoom=True)\n",
    "m.center = -0.14, 34.68\n",
    "m.zoom = 13\n",
    "m.layout.height = \"700px\"\n",
    "m"
   ]
  },
  {
   "cell_type": "markdown",
   "id": "cc681b0f-c662-4736-a1a1-5b46c488f256",
   "metadata": {},
   "source": [
    "## DEA and their STAC plus loader\n",
    "\n",
    "The DEA STAC contains a number of post-processed datasets that are developed by them, like a mangrove extent layer as part of the Global Mangrove Watch. This STAC is approached differently than the MPC STAC. DEA chose to use the STAC as endpoint for listing or searching metadata. Access could be arranged in their managed analysis sandbox environment with limited computing resources. This has a couple of drawbacks, amongst others the inability of connecting to other datasets. To overcome this, they also provide a Open Data Cube STAC (odc-stac) python package. This consists of a set of tools to access DEA's STAC datasets in your own environment of choice. "
   ]
  },
  {
   "cell_type": "code",
   "execution_count": null,
   "id": "80987058",
   "metadata": {
    "execution": {
     "iopub.execute_input": "2023-06-26T11:35:21.054252Z",
     "iopub.status.busy": "2023-06-26T11:35:21.053714Z",
     "iopub.status.idle": "2023-06-26T11:35:24.496004Z",
     "shell.execute_reply": "2023-06-26T11:35:24.495030Z",
     "shell.execute_reply.started": "2023-06-26T11:35:21.054212Z"
    },
    "tags": []
   },
   "outputs": [],
   "source": [
    "# Open the stac catalogue\n",
    "catalog2 = pystac_client.Client.open(\"https://explorer.digitalearth.africa/stac\")\n",
    "\n",
    "# get the bounding box\n",
    "bbox = [m.west, m.south, m.east, m.north]\n",
    "\n",
    "# change the rasterio configuration\n",
    "configure_rio(\n",
    "    cloud_defaults=True,\n",
    "    aws={\"aws_unsigned\": True},\n",
    "    AWS_S3_ENDPOINT=\"s3.af-south-1.amazonaws.com\",\n",
    ")\n",
    "\n",
    "# Set a start and end date\n",
    "start_date = \"2020-01-01\"\n",
    "end_date = \"2020-01-31\"\n",
    "\n",
    "# Set the STAC collections\n",
    "collections = [\"s2_l2a\"]\n",
    "\n",
    "# Build a query with the set parameters\n",
    "query = catalog2.search(\n",
    "    bbox=bbox, collections=collections, datetime=f\"{start_date}/{end_date}\"\n",
    ")\n",
    "\n",
    "# Search the STAC catalog for all items matching the query\n",
    "items = list(query.get_items())\n",
    "print(f\"Found: {len(items):d} items in the catalog\")\n",
    "\n",
    "# filter out items with cloud cover\n",
    "items = [i for i in items if i.properties[\"eo:cloud_cover\"] < 30]"
   ]
  },
  {
   "cell_type": "code",
   "execution_count": null,
   "id": "12bf326a",
   "metadata": {
    "execution": {
     "iopub.execute_input": "2023-06-26T11:35:24.497729Z",
     "iopub.status.busy": "2023-06-26T11:35:24.497567Z",
     "iopub.status.idle": "2023-06-26T11:35:24.592927Z",
     "shell.execute_reply": "2023-06-26T11:35:24.592453Z",
     "shell.execute_reply.started": "2023-06-26T11:35:24.497715Z"
    },
    "tags": []
   },
   "outputs": [],
   "source": [
    "# set config file for DEA STAC loader\n",
    "config = {\n",
    "    \"s2_l2a\": {\n",
    "        \"assets\": {\n",
    "            \"*\": {\n",
    "                \"data_type\": \"uint16\",\n",
    "                \"nodata\": 0,\n",
    "                \"unit\": \"1\",\n",
    "            },\n",
    "            \"SCL\": {\n",
    "                \"data_type\": \"uint8\",\n",
    "                \"nodata\": 0,\n",
    "                \"unit\": \"1\",\n",
    "            },\n",
    "        },\n",
    "        \"aliases\": {\n",
    "            \"costal_aerosol\": \"B01\",\n",
    "            \"blue\": \"B02\",\n",
    "            \"green\": \"B03\",\n",
    "            \"red\": \"B04\",\n",
    "            \"red_edge_1\": \"B05\",\n",
    "            \"red_edge_2\": \"B06\",\n",
    "            \"red_edge_3\": \"B07\",\n",
    "            \"nir\": \"B08\",\n",
    "            \"nir_narrow\": \"B08A\",\n",
    "            \"water_vapour\": \"B09\",\n",
    "            \"swir_1\": \"B11\",\n",
    "            \"swir_2\": \"B12\",\n",
    "            \"mask\": \"SCL\",\n",
    "            \"aerosol_optical_thickness\": \"AOT\",\n",
    "            \"scene_average_water_vapour\": \"WVP\",\n",
    "        },\n",
    "    }\n",
    "}\n",
    "\n",
    "crs = \"EPSG:6933\"\n",
    "resolution = 10\n",
    "\n",
    "ds = (\n",
    "    stac_load(\n",
    "        items,\n",
    "        bands=(\"red\", \"green\", \"blue\", \"nir\"),\n",
    "        crs=crs,\n",
    "        resolution=resolution,\n",
    "        chunks={},\n",
    "        groupby=\"solar_day\",\n",
    "        stac_cfg=config,\n",
    "        bbox=bbox,\n",
    "    )\n",
    "    * 0.0001\n",
    ")  # DEA does no normalization of the sentinel bands\n",
    "\n",
    "\n",
    "# View the Xarray Dataset\n",
    "ds"
   ]
  },
  {
   "cell_type": "code",
   "execution_count": null,
   "id": "4bdf4c4f-69c3-430d-889e-102738c5567b",
   "metadata": {
    "execution": {
     "iopub.execute_input": "2023-06-26T11:35:24.593577Z",
     "iopub.status.busy": "2023-06-26T11:35:24.593441Z",
     "iopub.status.idle": "2023-06-26T11:35:24.595575Z",
     "shell.execute_reply": "2023-06-26T11:35:24.595286Z",
     "shell.execute_reply.started": "2023-06-26T11:35:24.593565Z"
    },
    "tags": []
   },
   "outputs": [],
   "source": [
    "red = ds[\"red\"]\n",
    "nir = ds[\"nir\"]"
   ]
  },
  {
   "cell_type": "code",
   "execution_count": null,
   "id": "c82f2cfe",
   "metadata": {
    "execution": {
     "iopub.execute_input": "2023-06-26T11:35:24.596517Z",
     "iopub.status.busy": "2023-06-26T11:35:24.596434Z",
     "iopub.status.idle": "2023-06-26T11:35:24.601722Z",
     "shell.execute_reply": "2023-06-26T11:35:24.601426Z",
     "shell.execute_reply.started": "2023-06-26T11:35:24.596509Z"
    },
    "tags": []
   },
   "outputs": [],
   "source": [
    "# compute NDVI\n",
    "ndvi = (nir - red) / (nir + red)  # this is still a lazy Dask computation"
   ]
  },
  {
   "cell_type": "code",
   "execution_count": null,
   "id": "bfb39b7d-42b9-454c-b052-8b294d48fdcf",
   "metadata": {
    "execution": {
     "iopub.execute_input": "2023-06-26T11:35:24.602216Z",
     "iopub.status.busy": "2023-06-26T11:35:24.602122Z",
     "iopub.status.idle": "2023-06-26T11:35:24.612593Z",
     "shell.execute_reply": "2023-06-26T11:35:24.612228Z",
     "shell.execute_reply.started": "2023-06-26T11:35:24.602207Z"
    },
    "tags": []
   },
   "outputs": [],
   "source": [
    "ndvi"
   ]
  },
  {
   "cell_type": "code",
   "execution_count": null,
   "id": "38989491-9f84-4c31-8e09-6eebab7517bc",
   "metadata": {
    "execution": {
     "iopub.execute_input": "2023-06-26T11:35:24.719103Z",
     "iopub.status.busy": "2023-06-26T11:35:24.718880Z",
     "iopub.status.idle": "2023-06-26T11:35:36.151227Z",
     "shell.execute_reply": "2023-06-26T11:35:36.150739Z",
     "shell.execute_reply.started": "2023-06-26T11:35:24.719086Z"
    },
    "tags": []
   },
   "outputs": [],
   "source": [
    "ndvi_da = ndvi.compute()  # make the compute"
   ]
  },
  {
   "cell_type": "code",
   "execution_count": null,
   "id": "86ab008e",
   "metadata": {
    "execution": {
     "iopub.execute_input": "2023-06-26T11:35:36.151970Z",
     "iopub.status.busy": "2023-06-26T11:35:36.151891Z",
     "iopub.status.idle": "2023-06-26T11:35:40.492296Z",
     "shell.execute_reply": "2023-06-26T11:35:40.492010Z",
     "shell.execute_reply.started": "2023-06-26T11:35:36.151962Z"
    },
    "tags": []
   },
   "outputs": [],
   "source": [
    "# make plot, this might take a while\n",
    "# compare with: https://www.facebook.com/LocateitLimited/videos/water-hyacinth-earth-observatory-lake-victoria/2757490344316232/\n",
    "ndvi_da.plot(col=\"time\", col_wrap=4, vmin=-0.6, vmax=1)"
   ]
  },
  {
   "cell_type": "code",
   "execution_count": null,
   "id": "5029005f",
   "metadata": {
    "execution": {
     "iopub.execute_input": "2023-06-26T11:35:40.492786Z",
     "iopub.status.busy": "2023-06-26T11:35:40.492709Z",
     "iopub.status.idle": "2023-06-26T11:35:50.305131Z",
     "shell.execute_reply": "2023-06-26T11:35:50.304758Z",
     "shell.execute_reply.started": "2023-06-26T11:35:40.492778Z"
    },
    "tags": []
   },
   "outputs": [],
   "source": [
    "# make the plot; water hyacinth gets less over time (i.e. open water area grows), meaning mean ndvi goes down\n",
    "df = (\n",
    "    ndvi.mean(dim=[\"x\", \"y\"]).to_dataframe(name=\"ndvi\").reset_index()\n",
    ")  # makes the compute\n",
    "df.hvplot.line(x=\"time\", y=\"ndvi\")"
   ]
  },
  {
   "cell_type": "markdown",
   "id": "8df89cb9-3bf0-420c-a16f-8d2aa8e4338e",
   "metadata": {},
   "source": [
    "### Small Exercise\n",
    "Can you monitor water hyacinth dynamics for another area in the Winam Gulf by re-using the code above?"
   ]
  },
  {
   "cell_type": "markdown",
   "id": "5dcc9c8f",
   "metadata": {},
   "source": [
    "### Cloud (Dask cluster)\n",
    "\n",
    "Some computations require more power than available on a local (parallelized) cluster. All code shown above is scalable and works in the cloud or at Deltares' own HPC as well when a dask gateway is set up (i.s.o local cluster). This requires access to these remote desktops in advance. For example, you could place your algorithms in the cloud close to where the data is stored, which significantly speeds up your computation."
   ]
  },
  {
   "cell_type": "markdown",
   "id": "f5588aff",
   "metadata": {
    "tags": []
   },
   "source": [
    "### More advanced\n",
    "\n",
    "Almost all of xarrays built-in operations work on Dask arrays. Yet, if you want to use a function that isn't wrapped by xarray, one can use `apply_(g)ufunc` or `map_blocks` where you can automate embarrasingly parallel \"map\" type operations from NumPy arrays to Xarray objects with Dask arrays or across all blocks of a Dask array."
   ]
  },
  {
   "cell_type": "markdown",
   "id": "e8e3c724",
   "metadata": {},
   "source": [
    "When running computations on a Dask cluster (local or cloud), the code needs to be executed on the worker nodes in the cluster. Uploading a Python file to the Dask workers ensures that the required functions and modules are available to the workers when executing the code. This can be achieved by running `client.upload_file(\"xx.py\")`"
   ]
  },
  {
   "cell_type": "markdown",
   "id": "2ec0c933-7885-4100-ab94-260591c1082f",
   "metadata": {},
   "source": [
    "## 03 - Data Visualization"
   ]
  },
  {
   "cell_type": "markdown",
   "id": "a3dd92b5-2204-463b-9be5-061cff69e15f",
   "metadata": {},
   "source": [
    "It this part, the holoviz ecosystem of visualization tools is explored. All these packages are quite high level and often depend on other packages. Most of the packages in this ecosystem depend on Holoviews, which we will explore first."
   ]
  },
  {
   "cell_type": "code",
   "execution_count": null,
   "id": "53f1a252-118b-4338-905b-ff80c7fbba80",
   "metadata": {
    "execution": {
     "iopub.execute_input": "2023-06-26T11:35:50.306255Z",
     "iopub.status.busy": "2023-06-26T11:35:50.306046Z",
     "iopub.status.idle": "2023-06-26T11:35:50.346775Z",
     "shell.execute_reply": "2023-06-26T11:35:50.346402Z",
     "shell.execute_reply.started": "2023-06-26T11:35:50.306245Z"
    },
    "tags": []
   },
   "outputs": [],
   "source": [
    "import holoviews as hv\n",
    "\n",
    "hv.extension(\"bokeh\")"
   ]
  },
  {
   "cell_type": "code",
   "execution_count": null,
   "id": "98ce2d8d-e790-4954-84ca-d5f2c769598b",
   "metadata": {
    "execution": {
     "iopub.execute_input": "2023-06-26T11:35:50.347707Z",
     "iopub.status.busy": "2023-06-26T11:35:50.347451Z",
     "iopub.status.idle": "2023-06-26T11:35:50.349824Z",
     "shell.execute_reply": "2023-06-26T11:35:50.349553Z",
     "shell.execute_reply.started": "2023-06-26T11:35:50.347694Z"
    },
    "tags": []
   },
   "outputs": [],
   "source": [
    "# Example data\n",
    "xs = range(-10, 11)\n",
    "ys = [100 - x**2 for x in xs]"
   ]
  },
  {
   "cell_type": "code",
   "execution_count": null,
   "id": "12070684-806e-4405-889a-7c1d8f9da592",
   "metadata": {
    "execution": {
     "iopub.execute_input": "2023-06-26T11:35:50.350291Z",
     "iopub.status.busy": "2023-06-26T11:35:50.350197Z",
     "iopub.status.idle": "2023-06-26T11:35:50.411840Z",
     "shell.execute_reply": "2023-06-26T11:35:50.411426Z",
     "shell.execute_reply.started": "2023-06-26T11:35:50.350284Z"
    },
    "tags": []
   },
   "outputs": [],
   "source": [
    "wo_unit = hv.Curve(\n",
    "    (xs, ys), (\"distance\", \"Horizontal distance\"), (\"height\", \"Height above sea level\")\n",
    ")\n",
    "\n",
    "distance = hv.Dimension(\"distance\", label=\"Horizontal distance\", unit=\"m\")\n",
    "height = hv.Dimension((\"height\", \"Height above sea level\"), unit=\"m\")\n",
    "with_unit = hv.Curve((xs, ys), distance, height)\n",
    "\n",
    "# (using + to compose elements is described in the next guide)\n",
    "wo_unit + with_unit"
   ]
  },
  {
   "cell_type": "markdown",
   "id": "a759bbf1-f955-448f-8b57-680f95a1a9ba",
   "metadata": {},
   "source": [
    "## Dimensioned Containers\n",
    "\n",
    "`HoloMap` is excuted eagerly and can be exported to HTML!"
   ]
  },
  {
   "cell_type": "code",
   "execution_count": null,
   "id": "24172b78-78ec-4872-8b73-4fd89d370a30",
   "metadata": {
    "execution": {
     "iopub.execute_input": "2023-06-26T11:35:50.412497Z",
     "iopub.status.busy": "2023-06-26T11:35:50.412392Z",
     "iopub.status.idle": "2023-06-26T11:35:50.457710Z",
     "shell.execute_reply": "2023-06-26T11:35:50.457208Z",
     "shell.execute_reply.started": "2023-06-26T11:35:50.412488Z"
    },
    "tags": []
   },
   "outputs": [],
   "source": [
    "import numpy as np\n",
    "from holoviews import opts\n",
    "\n",
    "hv.extension(\"bokeh\")\n",
    "\n",
    "opts.defaults(opts.Curve(line_width=1))"
   ]
  },
  {
   "cell_type": "code",
   "execution_count": null,
   "id": "9fc2503d-68f6-4f4e-b734-88c553643610",
   "metadata": {
    "execution": {
     "iopub.execute_input": "2023-06-26T11:35:50.458236Z",
     "iopub.status.busy": "2023-06-26T11:35:50.458145Z",
     "iopub.status.idle": "2023-06-26T11:35:50.691448Z",
     "shell.execute_reply": "2023-06-26T11:35:50.691057Z",
     "shell.execute_reply.started": "2023-06-26T11:35:50.458227Z"
    },
    "tags": []
   },
   "outputs": [],
   "source": [
    "def fm_modulation(f_carrier=220, f_mod=220, mod_index=1, length=0.1, sampleRate=2000):\n",
    "    sampleInc = 1.0 / sampleRate\n",
    "    x = np.arange(0, length, sampleInc)\n",
    "    y = np.sin(2 * np.pi * f_carrier * x + mod_index * np.sin(2 * np.pi * f_mod * x))\n",
    "    return hv.Curve((x, y), \"Time\", \"Amplitude\")\n",
    "\n",
    "\n",
    "f_carrier = np.linspace(20, 60, 3)\n",
    "f_mod = np.linspace(20, 100, 5)\n",
    "\n",
    "curve_dict = {(fc, fm): fm_modulation(fc, fm) for fc in f_carrier for fm in f_mod}\n",
    "\n",
    "kdims = [\n",
    "    hv.Dimension((\"f_carrier\", \"Carrier frequency\"), default=40),\n",
    "    hv.Dimension((\"f_mod\", \"Modulation frequency\"), default=60),\n",
    "]\n",
    "holomap = hv.HoloMap(curve_dict, kdims=kdims)\n",
    "holomap.opts(opts.Curve(width=600))"
   ]
  },
  {
   "cell_type": "markdown",
   "id": "60759701-2d1c-431e-8c62-fdf93dba8887",
   "metadata": {},
   "source": [
    "For less interactive, more overlay styles, the following can collapse a `HoloMap`\n",
    "\n",
    "`NdOverlay` - An n-dimensional container which overlays the elements\n",
    "\n",
    "`NdLayout` - An n-dimensional container which displays the data in separate plot axes and adds titles for each value\n",
    "\n",
    "`GridSpace` - A 1D or 2D container which lays out up to two dimensions on a grid."
   ]
  },
  {
   "cell_type": "code",
   "execution_count": null,
   "id": "f76a3f83-8408-4671-9c76-27e1f208a1e0",
   "metadata": {
    "execution": {
     "iopub.execute_input": "2023-06-26T11:35:50.692898Z",
     "iopub.status.busy": "2023-06-26T11:35:50.692819Z",
     "iopub.status.idle": "2023-06-26T11:35:51.034383Z",
     "shell.execute_reply": "2023-06-26T11:35:51.034104Z",
     "shell.execute_reply.started": "2023-06-26T11:35:50.692890Z"
    },
    "tags": []
   },
   "outputs": [],
   "source": [
    "grid = hv.GridSpace(holomap)\n",
    "grid.opts(opts.GridSpace(plot_size=75), opts.Curve(width=100))"
   ]
  },
  {
   "cell_type": "markdown",
   "id": "5cf65de3-3bce-4a10-94a5-ab802eebf7c3",
   "metadata": {},
   "source": [
    "## Dynamic Data\n",
    "For lazy execution, we can use `DynamicMap`"
   ]
  },
  {
   "cell_type": "code",
   "execution_count": null,
   "id": "9ecfa98a-bb6a-4dad-8272-e2ae8c5a16ad",
   "metadata": {
    "execution": {
     "iopub.execute_input": "2023-06-26T11:35:51.034975Z",
     "iopub.status.busy": "2023-06-26T11:35:51.034892Z",
     "iopub.status.idle": "2023-06-26T11:35:51.177369Z",
     "shell.execute_reply": "2023-06-26T11:35:51.176949Z",
     "shell.execute_reply.started": "2023-06-26T11:35:51.034966Z"
    },
    "tags": []
   },
   "outputs": [],
   "source": [
    "hv.extension(\"matplotlib\")"
   ]
  },
  {
   "cell_type": "code",
   "execution_count": null,
   "id": "35f1e686-5c13-49b3-a9e0-ecf04e1d4597",
   "metadata": {
    "execution": {
     "iopub.execute_input": "2023-06-26T11:35:51.178022Z",
     "iopub.status.busy": "2023-06-26T11:35:51.177927Z",
     "iopub.status.idle": "2023-06-26T11:35:51.400010Z",
     "shell.execute_reply": "2023-06-26T11:35:51.399723Z",
     "shell.execute_reply.started": "2023-06-26T11:35:51.178013Z"
    },
    "tags": []
   },
   "outputs": [],
   "source": [
    "xvals = np.linspace(-4, 0, 202)\n",
    "yvals = np.linspace(4, 0, 202)\n",
    "xs, ys = np.meshgrid(xvals, yvals)\n",
    "\n",
    "\n",
    "def waves_image(alpha, beta):\n",
    "    return hv.Image(np.sin(((ys / alpha) ** alpha + beta) * xs))\n",
    "\n",
    "\n",
    "waves_image(1, 0) + waves_image(1, 4)"
   ]
  },
  {
   "cell_type": "code",
   "execution_count": null,
   "id": "9de76bff-ad35-4298-8eae-11987382666d",
   "metadata": {
    "execution": {
     "iopub.execute_input": "2023-06-26T11:35:51.401756Z",
     "iopub.status.busy": "2023-06-26T11:35:51.401655Z",
     "iopub.status.idle": "2023-06-26T11:35:51.406399Z",
     "shell.execute_reply": "2023-06-26T11:35:51.405852Z",
     "shell.execute_reply.started": "2023-06-26T11:35:51.401745Z"
    },
    "tags": []
   },
   "outputs": [],
   "source": [
    "dmap = hv.DynamicMap(waves_image, kdims=[\"alpha\", \"beta\"])\n",
    "dmap"
   ]
  },
  {
   "cell_type": "markdown",
   "id": "94503668-ea29-41c5-8ff7-dd80ed184615",
   "metadata": {},
   "source": [
    "range is a built in method, you can also use dymension objects with range"
   ]
  },
  {
   "cell_type": "code",
   "execution_count": null,
   "id": "5bc17cca-67de-4285-ae15-d1d8d4c1ff1b",
   "metadata": {
    "execution": {
     "iopub.execute_input": "2023-06-26T11:35:52.247999Z",
     "iopub.status.busy": "2023-06-26T11:35:52.247620Z",
     "iopub.status.idle": "2023-06-26T11:35:52.372494Z",
     "shell.execute_reply": "2023-06-26T11:35:52.372128Z",
     "shell.execute_reply.started": "2023-06-26T11:35:52.247978Z"
    },
    "tags": []
   },
   "outputs": [],
   "source": [
    "dmap.redim.range(alpha=(1, 5.0), beta=(1, 6.0))"
   ]
  },
  {
   "cell_type": "markdown",
   "id": "f342f9aa-310a-45ba-82ab-b5150554299b",
   "metadata": {},
   "source": [
    "## Geometry data\n",
    "\n",
    "The holoviz ecosystem contains multiple software packages. To do projections, holoviews is extended using `geoviews`."
   ]
  },
  {
   "cell_type": "code",
   "execution_count": null,
   "id": "7564fa4f-9096-4889-bce8-830e88f12e82",
   "metadata": {
    "execution": {
     "iopub.execute_input": "2023-06-26T11:35:53.146816Z",
     "iopub.status.busy": "2023-06-26T11:35:53.146054Z",
     "iopub.status.idle": "2023-06-26T11:35:55.218955Z",
     "shell.execute_reply": "2023-06-26T11:35:55.218512Z",
     "shell.execute_reply.started": "2023-06-26T11:35:53.146781Z"
    },
    "tags": []
   },
   "outputs": [],
   "source": [
    "from pathlib import Path\n",
    "\n",
    "import geoviews as gv\n",
    "import geoviews.feature as gf\n",
    "import xarray as xr\n",
    "from cartopy import crs\n",
    "from geoviews import opts\n",
    "\n",
    "gv.extension(\"matplotlib\")\n",
    "\n",
    "gv.output(size=150)"
   ]
  },
  {
   "cell_type": "code",
   "execution_count": null,
   "id": "40b66a43-5cb9-4926-b820-8276c4ac674c",
   "metadata": {
    "execution": {
     "iopub.execute_input": "2023-06-26T11:35:55.220256Z",
     "iopub.status.busy": "2023-06-26T11:35:55.220125Z",
     "iopub.status.idle": "2023-06-26T11:35:55.222631Z",
     "shell.execute_reply": "2023-06-26T11:35:55.222087Z",
     "shell.execute_reply.started": "2023-06-26T11:35:55.220241Z"
    },
    "tags": []
   },
   "outputs": [],
   "source": [
    "data_dir = Path(proj_dir) / \"data\""
   ]
  },
  {
   "cell_type": "markdown",
   "id": "23c0bedf-cc0d-4ff2-a86d-5407e2b94f52",
   "metadata": {},
   "source": [
    "The following cells depend on some CLI tools available via GNU. If you are on windows, please download the datasets yourself and unzip the data under the data folder"
   ]
  },
  {
   "cell_type": "code",
   "execution_count": null,
   "id": "67c8597d-7da5-4b20-bda3-2abbbcba06f2",
   "metadata": {
    "execution": {
     "iopub.execute_input": "2023-06-26T11:35:55.223190Z",
     "iopub.status.busy": "2023-06-26T11:35:55.223083Z",
     "iopub.status.idle": "2023-06-26T11:35:56.285639Z",
     "shell.execute_reply": "2023-06-26T11:35:56.280589Z",
     "shell.execute_reply.started": "2023-06-26T11:35:55.223181Z"
    },
    "tags": []
   },
   "outputs": [],
   "source": [
    "!mkdir {data_dir.absolute()}\n",
    "!curl -L http://assets.holoviews.org/geoviews-sample-data.zip -o {data_dir.absolute()}/data.zip"
   ]
  },
  {
   "cell_type": "code",
   "execution_count": null,
   "id": "00283725-fed7-4970-b314-b2c9d7c2ec48",
   "metadata": {
    "execution": {
     "iopub.execute_input": "2023-06-26T11:35:56.293779Z",
     "iopub.status.busy": "2023-06-26T11:35:56.293142Z",
     "iopub.status.idle": "2023-06-26T11:35:56.527373Z",
     "shell.execute_reply": "2023-06-26T11:35:56.526660Z",
     "shell.execute_reply.started": "2023-06-26T11:35:56.293747Z"
    },
    "tags": []
   },
   "outputs": [],
   "source": [
    "!unzip -o {data_dir.absolute()}/data.zip -d {data_dir.absolute()}"
   ]
  },
  {
   "cell_type": "code",
   "execution_count": null,
   "id": "700fe890-ce97-435c-9570-bdc9dcdc6a4d",
   "metadata": {
    "execution": {
     "iopub.execute_input": "2023-06-26T11:35:56.528255Z",
     "iopub.status.busy": "2023-06-26T11:35:56.528149Z",
     "iopub.status.idle": "2023-06-26T11:35:58.429545Z",
     "shell.execute_reply": "2023-06-26T11:35:58.429146Z",
     "shell.execute_reply.started": "2023-06-26T11:35:56.528242Z"
    },
    "tags": []
   },
   "outputs": [],
   "source": [
    "xr_ensemble = xr.open_dataset(f\"{data_dir}/ensemble.nc\").load()\n",
    "xr_ensemble"
   ]
  },
  {
   "cell_type": "markdown",
   "id": "ffb3611c-b2c1-4e61-a6f6-b5b42faaa64f",
   "metadata": {},
   "source": [
    "create geoviews dataset"
   ]
  },
  {
   "cell_type": "code",
   "execution_count": null,
   "id": "2b89b32b-58ff-40df-9e65-2627efbb312d",
   "metadata": {
    "execution": {
     "iopub.execute_input": "2023-06-26T11:35:58.430529Z",
     "iopub.status.busy": "2023-06-26T11:35:58.430448Z",
     "iopub.status.idle": "2023-06-26T11:35:58.433983Z",
     "shell.execute_reply": "2023-06-26T11:35:58.433716Z",
     "shell.execute_reply.started": "2023-06-26T11:35:58.430521Z"
    },
    "tags": []
   },
   "outputs": [],
   "source": [
    "kdims = [\"time\", \"longitude\", \"latitude\"]\n",
    "vdims = [\"surface_temperature\"]\n",
    "\n",
    "xr_dataset = gv.Dataset(xr_ensemble, kdims=kdims, vdims=vdims)"
   ]
  },
  {
   "cell_type": "code",
   "execution_count": null,
   "id": "fd0de800-0f19-4795-a408-c5e540ad521d",
   "metadata": {
    "execution": {
     "iopub.execute_input": "2023-06-26T11:35:58.434612Z",
     "iopub.status.busy": "2023-06-26T11:35:58.434469Z",
     "iopub.status.idle": "2023-06-26T11:36:01.295843Z",
     "shell.execute_reply": "2023-06-26T11:36:01.295539Z",
     "shell.execute_reply.started": "2023-06-26T11:35:58.434603Z"
    },
    "tags": []
   },
   "outputs": [],
   "source": [
    "xr_dataset.to(gv.Image, [\"longitude\", \"latitude\"])"
   ]
  },
  {
   "cell_type": "markdown",
   "id": "378b728c-84cd-445e-84f3-a334bab1d161",
   "metadata": {},
   "source": [
    "We can also change projection using cartopy"
   ]
  },
  {
   "cell_type": "code",
   "execution_count": null,
   "id": "aef6d9a5-fe40-429c-b6d6-e26a042464bc",
   "metadata": {
    "execution": {
     "iopub.execute_input": "2023-06-26T11:36:01.296408Z",
     "iopub.status.busy": "2023-06-26T11:36:01.296309Z",
     "iopub.status.idle": "2023-06-26T11:36:05.361950Z",
     "shell.execute_reply": "2023-06-26T11:36:05.361659Z",
     "shell.execute_reply.started": "2023-06-26T11:36:01.296400Z"
    },
    "tags": []
   },
   "outputs": [],
   "source": [
    "(xr_dataset.to.image([\"longitude\", \"latitude\"]) * gf.coastline).opts(\n",
    "    opts.Image(projection=crs.Geostationary(), cmap=\"Greens\", xaxis=None, yaxis=None)\n",
    ")"
   ]
  },
  {
   "cell_type": "markdown",
   "id": "e23e2311-ff6c-4ad2-bf89-732517c7f514",
   "metadata": {},
   "source": [
    "## Panel\n",
    "Panel uses these and other components together with a library called [param](https://param.holoviz.org/) to create dashboard and interactive components."
   ]
  },
  {
   "cell_type": "code",
   "execution_count": null,
   "id": "6fc5a2ff-817f-4b40-adbf-986abeb95ebe",
   "metadata": {
    "execution": {
     "iopub.execute_input": "2023-06-26T11:36:05.362527Z",
     "iopub.status.busy": "2023-06-26T11:36:05.362446Z",
     "iopub.status.idle": "2023-06-26T11:36:05.402519Z",
     "shell.execute_reply": "2023-06-26T11:36:05.402200Z",
     "shell.execute_reply.started": "2023-06-26T11:36:05.362518Z"
    },
    "tags": []
   },
   "outputs": [],
   "source": [
    "import hvplot.pandas\n",
    "import numpy as np\n",
    "import pandas as pd\n",
    "import panel as pn\n",
    "\n",
    "hv.extension(\"bokeh\")"
   ]
  },
  {
   "cell_type": "code",
   "execution_count": null,
   "id": "fb76bd05-44fd-4840-be7d-b372066be428",
   "metadata": {
    "execution": {
     "iopub.execute_input": "2023-06-26T11:36:05.404530Z",
     "iopub.status.busy": "2023-06-26T11:36:05.404008Z",
     "iopub.status.idle": "2023-06-26T11:36:05.800922Z",
     "shell.execute_reply": "2023-06-26T11:36:05.800435Z",
     "shell.execute_reply.started": "2023-06-26T11:36:05.404517Z"
    },
    "tags": []
   },
   "outputs": [],
   "source": [
    "pn.extension(design=\"material\")\n",
    "\n",
    "csv_file = (\n",
    "    \"https://raw.githubusercontent.com/holoviz/panel/main/examples/assets/occupancy.csv\"\n",
    ")\n",
    "data = pd.read_csv(csv_file, parse_dates=[\"date\"], index_col=\"date\")\n",
    "\n",
    "data.tail()"
   ]
  },
  {
   "cell_type": "markdown",
   "id": "54ac0d8f-60d9-4a20-84bd-b8d0751e921d",
   "metadata": {},
   "source": [
    "Panel has 3 ways of creating an interactive dashboard. It is best to start with the reactive API, where you have functions as callbacks that are ran when you interact with the panel components:"
   ]
  },
  {
   "cell_type": "code",
   "execution_count": null,
   "id": "5b32e515-ece0-4d85-8b74-1519e6e8d17b",
   "metadata": {
    "execution": {
     "iopub.execute_input": "2023-06-26T11:36:05.801903Z",
     "iopub.status.busy": "2023-06-26T11:36:05.801602Z",
     "iopub.status.idle": "2023-06-26T11:36:05.806893Z",
     "shell.execute_reply": "2023-06-26T11:36:05.806314Z",
     "shell.execute_reply.started": "2023-06-26T11:36:05.801882Z"
    },
    "tags": []
   },
   "outputs": [],
   "source": [
    "def view_hvplot(avg, highlight):\n",
    "    return avg.hvplot(height=600, width=800, legend=False) * highlight.hvplot.scatter(\n",
    "        color=\"orange\", padding=0.1, legend=False\n",
    "    )\n",
    "\n",
    "\n",
    "def find_outliers(variable=\"Temperature\", window=30, sigma=10, view_fn=view_hvplot):\n",
    "    avg = data[variable].rolling(window=window).mean()\n",
    "    residual = data[variable] - avg\n",
    "    std = residual.rolling(window=window).std()\n",
    "    outliers = np.abs(residual) > std * sigma\n",
    "    return view_fn(avg, avg[outliers])"
   ]
  },
  {
   "cell_type": "code",
   "execution_count": null,
   "id": "77d4a645-4e49-4327-82a2-68167295c825",
   "metadata": {
    "execution": {
     "iopub.execute_input": "2023-06-26T11:36:05.807951Z",
     "iopub.status.busy": "2023-06-26T11:36:05.807769Z",
     "iopub.status.idle": "2023-06-26T11:36:05.896434Z",
     "shell.execute_reply": "2023-06-26T11:36:05.896099Z",
     "shell.execute_reply.started": "2023-06-26T11:36:05.807935Z"
    },
    "tags": []
   },
   "outputs": [],
   "source": [
    "find_outliers(variable=\"Temperature\", window=20, sigma=10)"
   ]
  },
  {
   "cell_type": "code",
   "execution_count": null,
   "id": "2c0e7627-cbbd-40ae-a829-972319aba346",
   "metadata": {
    "execution": {
     "iopub.execute_input": "2023-06-26T11:36:05.897010Z",
     "iopub.status.busy": "2023-06-26T11:36:05.896921Z",
     "iopub.status.idle": "2023-06-26T11:36:05.900348Z",
     "shell.execute_reply": "2023-06-26T11:36:05.899849Z",
     "shell.execute_reply.started": "2023-06-26T11:36:05.897002Z"
    },
    "tags": []
   },
   "outputs": [],
   "source": [
    "variable_widget = pn.widgets.Select(\n",
    "    name=\"variable\", value=\"Temperature\", options=list(data.columns)\n",
    ")\n",
    "window_widget = pn.widgets.IntSlider(name=\"window\", value=30, start=1, end=60)\n",
    "sigma_widget = pn.widgets.IntSlider(name=\"sigma\", value=10, start=0, end=20)"
   ]
  },
  {
   "cell_type": "code",
   "execution_count": null,
   "id": "2702c212-7184-4833-ba1f-0bb53538404f",
   "metadata": {
    "execution": {
     "iopub.execute_input": "2023-06-26T11:36:05.901070Z",
     "iopub.status.busy": "2023-06-26T11:36:05.900929Z",
     "iopub.status.idle": "2023-06-26T11:36:05.903203Z",
     "shell.execute_reply": "2023-06-26T11:36:05.902846Z",
     "shell.execute_reply.started": "2023-06-26T11:36:05.901054Z"
    },
    "tags": []
   },
   "outputs": [],
   "source": [
    "bound_plot = pn.bind(\n",
    "    find_outliers, variable=variable_widget, window=window_widget, sigma=sigma_widget\n",
    ")"
   ]
  },
  {
   "cell_type": "code",
   "execution_count": null,
   "id": "dcb06eb0-3cc5-41ca-a0c3-1af685697556",
   "metadata": {
    "execution": {
     "iopub.execute_input": "2023-06-26T11:36:05.903601Z",
     "iopub.status.busy": "2023-06-26T11:36:05.903530Z",
     "iopub.status.idle": "2023-06-26T11:36:05.990927Z",
     "shell.execute_reply": "2023-06-26T11:36:05.990598Z",
     "shell.execute_reply.started": "2023-06-26T11:36:05.903593Z"
    },
    "tags": []
   },
   "outputs": [],
   "source": [
    "first_app = pn.Column(variable_widget, window_widget, sigma_widget, bound_plot)\n",
    "\n",
    "first_app"
   ]
  },
  {
   "cell_type": "markdown",
   "id": "a4e5869a",
   "metadata": {},
   "source": [
    "### Holoviz Panel\n",
    "Now let us use the same methods to create a `Panel` to scroll through the NDVI values."
   ]
  },
  {
   "cell_type": "markdown",
   "id": "f66c03d4-67cb-4c1b-a733-c4d2ce1d178d",
   "metadata": {},
   "source": [
    "## Create panel slider"
   ]
  },
  {
   "cell_type": "markdown",
   "id": "69b8e200-06bc-44fa-8f7f-911568a37774",
   "metadata": {},
   "source": [
    "create the `pn.widgets.DiscreteSlider` with the time options in the `DataArray`.\n",
    "Bonus: make sure the time shows up formatted in the slider..\n",
    "Then create the callback to visualize one timeslice of the DataFrame.\n",
    "Create a panel `Column`, binding the slider to the callback using `pn.bind`. Make sure to select a good color scheme with limits."
   ]
  },
  {
   "cell_type": "code",
   "execution_count": null,
   "id": "a4daf64a-de3b-4fd4-a341-487fef4a1d1b",
   "metadata": {
    "execution": {
     "iopub.execute_input": "2023-06-26T11:36:05.991439Z",
     "iopub.status.busy": "2023-06-26T11:36:05.991342Z",
     "iopub.status.idle": "2023-06-26T11:36:06.031694Z",
     "shell.execute_reply": "2023-06-26T11:36:06.031367Z",
     "shell.execute_reply.started": "2023-06-26T11:36:05.991431Z"
    },
    "tags": []
   },
   "outputs": [],
   "source": [
    "hv.extension(\"bokeh\")"
   ]
  },
  {
   "cell_type": "markdown",
   "id": "f46a2814-64a2-4968-b436-618b3eed035b",
   "metadata": {},
   "source": [
    "remember the `DataArray` we are visualizing"
   ]
  },
  {
   "cell_type": "code",
   "execution_count": null,
   "id": "06e99f74-30f9-45b4-bd67-6f7b0e69d6d4",
   "metadata": {
    "execution": {
     "iopub.execute_input": "2023-06-26T11:36:06.032426Z",
     "iopub.status.busy": "2023-06-26T11:36:06.032324Z",
     "iopub.status.idle": "2023-06-26T11:36:06.040293Z",
     "shell.execute_reply": "2023-06-26T11:36:06.039887Z",
     "shell.execute_reply.started": "2023-06-26T11:36:06.032418Z"
    },
    "tags": []
   },
   "outputs": [],
   "source": [
    "ndvi_da"
   ]
  },
  {
   "cell_type": "code",
   "execution_count": null,
   "id": "e597c1a3-4cbd-4433-84e2-c6ed8b8d854b",
   "metadata": {
    "execution": {
     "iopub.execute_input": "2023-06-26T11:36:06.040827Z",
     "iopub.status.busy": "2023-06-26T11:36:06.040749Z",
     "iopub.status.idle": "2023-06-26T11:36:06.529150Z",
     "shell.execute_reply": "2023-06-26T11:36:06.528756Z",
     "shell.execute_reply.started": "2023-06-26T11:36:06.040819Z"
    },
    "tags": []
   },
   "outputs": [],
   "source": [
    "time_list = list(map(lambda t: str(t), ndvi_da.time.values))  # format time to str\n",
    "t_slider = pn.widgets.DiscreteSlider(options=time_list, value=time_list[0])\n",
    "\n",
    "\n",
    "def show_time_slice(time_str):\n",
    "    return ndvi_da.sel(time=np.datetime64(time_str)).hvplot(\n",
    "        x=\"x\", y=\"y\", cmap=cc.CET_D9[::-1], clim=(-0.6, 1)\n",
    "    )\n",
    "\n",
    "\n",
    "col = pn.Column(t_slider, pn.bind(show_time_slice, t_slider))\n",
    "col"
   ]
  },
  {
   "cell_type": "markdown",
   "id": "20ec3286",
   "metadata": {},
   "source": [
    "### QGIS\n",
    "You can view geotiffs or netcdf files also using QGIS. For fast visualization, it is recommended to save the file using CloudOptimized formats, such a Cloud Optimized geotiff"
   ]
  },
  {
   "cell_type": "code",
   "execution_count": null,
   "id": "fb3673a3-95fb-484c-8dff-84615be58f66",
   "metadata": {
    "execution": {
     "iopub.execute_input": "2023-06-26T11:36:06.530199Z",
     "iopub.status.busy": "2023-06-26T11:36:06.529743Z",
     "iopub.status.idle": "2023-06-26T11:36:07.191995Z",
     "shell.execute_reply": "2023-06-26T11:36:07.191634Z",
     "shell.execute_reply.started": "2023-06-26T11:36:06.530185Z"
    },
    "tags": []
   },
   "outputs": [],
   "source": [
    "# for QGIS; export the TIFF to be visualized (CoG)\n",
    "outdir = proj_dir / \"tmp\"\n",
    "if not outdir.exists():\n",
    "    outdir.mkdir(exist_ok=True, parents=True)\n",
    "\n",
    "to_save = ndvi_da.isel({\"time\": 0})\n",
    "fname = f\"IMG-{to_save.time.dt.strftime('%Y%m%d').item()}.tif\"\n",
    "outpath = outdir / fname\n",
    "to_save.rio.to_raster(raster_path=outpath, driver=\"COG\")\n",
    "print(f\"Saving to: '{outpath}'\")"
   ]
  },
  {
   "cell_type": "code",
   "execution_count": null,
   "id": "cc8bba9b",
   "metadata": {
    "execution": {
     "iopub.execute_input": "2023-06-26T11:36:07.194158Z",
     "iopub.status.busy": "2023-06-26T11:36:07.194065Z",
     "iopub.status.idle": "2023-06-26T11:36:07.797679Z",
     "shell.execute_reply": "2023-06-26T11:36:07.797376Z",
     "shell.execute_reply.started": "2023-06-26T11:36:07.194151Z"
    },
    "tags": []
   },
   "outputs": [],
   "source": [
    "# close down local cluster\n",
    "client.close()"
   ]
  },
  {
   "cell_type": "code",
   "execution_count": null,
   "id": "5828d854-de75-4024-aa4e-2857352ece7a",
   "metadata": {},
   "outputs": [],
   "source": []
  }
 ],
 "metadata": {
  "kernelspec": {
   "display_name": "Python [conda env:pysense]",
   "language": "python",
   "name": "conda-env-pysense-py"
  },
  "language_info": {
   "codemirror_mode": {
    "name": "ipython",
    "version": 3
   },
   "file_extension": ".py",
   "mimetype": "text/x-python",
   "name": "python",
   "nbconvert_exporter": "python",
   "pygments_lexer": "ipython3",
   "version": "3.11.4"
  }
 },
 "nbformat": 4,
 "nbformat_minor": 5
}
